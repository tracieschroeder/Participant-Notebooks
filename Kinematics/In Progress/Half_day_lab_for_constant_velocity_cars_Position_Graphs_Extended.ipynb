{
  "cells": [
    {
      "cell_type": "markdown",
      "metadata": {
        "id": "view-in-github",
        "colab_type": "text"
      },
      "source": [
        "<a href=\"https://colab.research.google.com/github/tracieschroeder/Participant-Notebooks/blob/main/Kinematics/In%20Progress/Half_day_lab_for_constant_velocity_cars_Position_Graphs_Extended.ipynb\" target=\"_parent\"><img src=\"https://colab.research.google.com/assets/colab-badge.svg\" alt=\"Open In Colab\"/></a>"
      ]
    },
    {
      "cell_type": "markdown",
      "metadata": {
        "id": "RiCvvrFnP3Jl"
      },
      "source": [
        "# Section 1 - Position Time Graphs: Modeling\n",
        "In this activity, you'll use the *position function* to model different types of motion.\n",
        "\n",
        "To get started,\n",
        "- You won't hurt anything by experimenting. If you break it, close the tab and open the activity again to start over.\n",
        "- Is this your first time? Need a refresher? Try the 5-minute [Intro to Coding activity](https://colab.research.google.com/github/adamlamee/CODINGinK12/blob/master/notebooks/intro.ipynb) and come back here.\n",
        "\n",
        "When you're ready, run each code cell until you get down to the next text cell."
      ]
    },
    {
      "cell_type": "code",
      "execution_count": null,
      "metadata": {
        "id": "TkBhTkHjP3Jr"
      },
      "outputs": [],
      "source": [
        "# this cell only needs to be run once, but re-exectuing it doesn't hurt anything either\n",
        "# imports software packages (not too exciting)\n",
        "import pandas as pd\n",
        "import numpy as np\n",
        "%matplotlib inline\n",
        "import matplotlib as mpl\n",
        "import matplotlib.pyplot as plt"
      ]
    },
    {
      "cell_type": "markdown",
      "metadata": {
        "id": "EDPLAYodP3Ju"
      },
      "source": [
        "The code in the next box sets values for some parameters of motion.  \n",
        "- What is the initial velocity? What's the name of the variable stores that value?  \n",
        "- Edit the text below with the proper SI units for each quantity. Re-run the code to make sure your like your edits.  \n",
        "\n",
        "These coefficients can be used to predict the motion using the *position function*. The position function is a quadratic equation that predicts the position of an object:  \n",
        "$$x_f=x_i+v_i t+\\frac{1}{2}at^2$$\n",
        "The variables are:  \n",
        "- final position, $x_f$\n",
        "- initial position, $x_i$\n",
        "- initial velocity, $v_i$\n",
        "- time, $t$\n",
        "- acceleration, $a$\n"
      ]
    },
    {
      "cell_type": "code",
      "execution_count": null,
      "metadata": {
        "id": "-6ydpTDWP3Jt",
        "colab": {
          "base_uri": "https://localhost:8080/"
        },
        "outputId": "5d418e96-e928-4ed5-b407-c874027d3dd2"
      },
      "outputs": [
        {
          "output_type": "stream",
          "name": "stdout",
          "text": [
            "initial position = 0 m\n",
            "initial velocity = 3 m/s\n",
            "acceleration = -9.8 m/s/s\n"
          ]
        }
      ],
      "source": [
        "# this sets the coefficients\n",
        "xi = 0\n",
        "vi = 3\n",
        "a = -9.8\n",
        "print(\"initial position =\", xi, \"m\")\n",
        "print(\"initial velocity =\", vi, \"m/s\")\n",
        "print(\"acceleration =\", a, \"m/s/s\")"
      ]
    },
    {
      "cell_type": "code",
      "execution_count": null,
      "metadata": {
        "id": "jser7oYaP3Jv",
        "colab": {
          "base_uri": "https://localhost:8080/",
          "height": 472
        },
        "outputId": "446cbf0a-e97d-4bc8-94fc-c47530dcb929"
      },
      "outputs": [
        {
          "output_type": "display_data",
          "data": {
            "text/plain": [
              "<Figure size 640x480 with 1 Axes>"
            ],
            "image/png": "[encoded data removed]"
          },
          "metadata": {}
        }
      ],
      "source": [
        "# makes an empty position/time data set\n",
        "time_list = []\n",
        "position_list = []\n",
        "t = 0               # sets a starting value for time\n",
        "\n",
        "while (t < 11):                  # runs the 4 lines below until time is not < 11\n",
        "    time_list.append(t)          # saves the time value\n",
        "    xf = xi + vi*t + .5*a*t**2   # calculates xf\n",
        "    position_list.append(xf)     # saves xf as the position value\n",
        "    t = t + 0.01\n",
        "\n",
        "#   this creates a scatterplot: plt.scatter(x-variable, y-variable)\n",
        "plt.scatter(time_list, position_list)\n",
        "plt.title(\"position vs time\")\n",
        "plt.xlabel(\"Time\")\n",
        "plt.ylabel(\"Position\");"
      ]
    },
    {
      "cell_type": "markdown",
      "metadata": {
        "id": "4ks50swyP3Jw"
      },
      "source": [
        "\n",
        "The code above makes a graph of a *position function*.  \n",
        "- How does the shape of the graph indicate the object is accelerating?  \n",
        "- Edit the coefficients in the second code cell to model the different types of motion below. You'll need to re-run that code to store the new values in your coefficients. Then, re-run the graph code to see the new graph.  \n",
        "    - Model constant speed motion at 5 m/s.  \n",
        "    - Model the motion of an object moving backwards with a constant speed\n",
        "    - Model the motion of an object moving backwards with a changing speed.  \n",
        "    - Model the motion of a projectile on Earth, like a basketball, thrown straight up."
      ]
    },
    {
      "cell_type": "markdown",
      "metadata": {
        "id": "rFJyp8e29oMA"
      },
      "source": [
        "    \n",
        "## Coding Challenge to end Section 1\n",
        "- Try making a graph that plots motion every 0.5 seconds.\n",
        "- Try plotting 20 seconds of data.\n"
      ]
    },
    {
      "cell_type": "markdown",
      "metadata": {
        "id": "drjKTx1wMDV3"
      },
      "source": [
        "#Take a break now! You've earned it!"
      ]
    },
    {
      "cell_type": "markdown",
      "metadata": {
        "id": "fkUpwvCrA8kE"
      },
      "source": [
        "# Section 2 - Position Time Graphs: Data Table\n",
        "In this activity, you'll use a csv file and pull in data to create your position-time graph.\n",
        "First you'll have a data set to use, then you can create your own."
      ]
    },
    {
      "cell_type": "markdown",
      "metadata": {
        "id": "GHIc87dS6Yyf"
      },
      "source": [
        "##Part 2A: Plot data that you collect\n",
        "\n",
        "In this example, we have measured the position of an object moving in one dimension. We can plot this as a position-time graph.\n",
        "\n",
        "Create the data series that you want to plot on each axis. In this case, time will be on the x-axis and the position of each object will be on the y-axis."
      ]
    },
    {
      "cell_type": "code",
      "execution_count": null,
      "metadata": {
        "id": "dxV437k1UJE-",
        "colab": {
          "base_uri": "https://localhost:8080/",
          "height": 472
        },
        "outputId": "9091df7c-6589-4054-b0e7-6985c2af57c4"
      },
      "outputs": [
        {
          "output_type": "display_data",
          "data": {
            "text/plain": [
              "<Figure size 640x480 with 1 Axes>"
            ],
            "image/png": "[encoded data removed]"
          },
          "metadata": {}
        }
      ],
      "source": [
        "x = [0,1,2,3,4,5,6]\n",
        "y = [3,6,9,10,12,15,18]\n",
        "\n",
        "plt.scatter(x, y, marker='*', color='r')\n",
        "plt.title('1D postiton vs time')\n",
        "\n",
        "plt.xlabel(\"Time\")\n",
        "plt.ylabel(\"Position\");\n",
        "\n",
        "plt.show()\n"
      ]
    },
    {
      "cell_type": "markdown",
      "metadata": {
        "id": "-5FZFaQm8pBe"
      },
      "source": [
        "**Add a best fit line to the graph.**"
      ]
    },
    {
      "cell_type": "code",
      "execution_count": null,
      "metadata": {
        "id": "AnLyYdyr8sCh",
        "colab": {
          "base_uri": "https://localhost:8080/",
          "height": 452
        },
        "outputId": "0d158582-3bdf-4043-b129-240c2f056dbc"
      },
      "outputs": [
        {
          "output_type": "display_data",
          "data": {
            "text/plain": [
              "<Figure size 640x480 with 1 Axes>"
            ],
            "image/png": "[encoded data removed]"
          },
          "metadata": {}
        }
      ],
      "source": [
        "x = [0,1,2,3,4,5,6]\n",
        "y = [3,6,9,10,12,15,18]\n",
        "\n",
        "#add points to the graph using the star marker and green color\n",
        "plt.scatter(x, y, marker='*', color='green')\n",
        "plt.title('Scatter Plot Example')\n",
        "m, b = np.polyfit(x, y, deg=1)\n",
        "plt.axline(xy1=(0, b), slope=m, label=f'y = {m:.1f}x {b:+.1f}', color='magenta')\n",
        "\n",
        "#Uncheck the hashtags to add a best fit line\n",
        "#m, b = np.polyfit(x, y, deg=1)\n",
        "#plt.axline(xy1=(0, b), slope=m, label=f'y = {m:.1f}x {b:+.1f}', color='r')\n",
        "\n",
        "\n",
        "#Adding some text to the graph\n",
        "#You can either use the plt.text function (uncheck the hashtag to see it working)\n",
        "#plt.text(1, 17, 'y = ' + '{:.2f}'.format(b) + ' + {:.2f}'.format(m) + 'x', size=14)\n",
        "\n",
        "#or the plt.legend() command\n",
        "#plt.legend()\n",
        "\n",
        "plt.show()"
      ]
    },
    {
      "cell_type": "markdown",
      "metadata": {
        "id": "2xdO4SfUVsac"
      },
      "source": [
        "##Coding Challenge\n",
        "- Create a second set of data for an object moving faster than the first. Plot this line on the same graph."
      ]
    },
    {
      "cell_type": "markdown",
      "metadata": {
        "id": "lIoiU8Ty523L"
      },
      "source": [
        "##Part 2B: Import data that you collect\n",
        "\n",
        "In this example, we have measured the position of a ball rolling off a table [(Video Link)](https://videos.videoanalysis.app/sample-videos/BallandTable.264.mp4) The data is stored in a separate csv file."
      ]
    },
    {
      "cell_type": "code",
      "execution_count": null,
      "metadata": {
        "id": "CjIXXSWSfltg"
      },
      "outputs": [],
      "source": [
        "# pull the motion data from an online file\n",
        "\n",
        "dataset = pd.read_csv('https://raw.githubusercontent.com/fizzixprof/graphing/main/Projectile.csv')\n",
        "\n",
        "# The .head(n) command displays the first n rows of a file.\n",
        "dataset.head(3)\n",
        "# The unit for Time is seconds, for the positions it is meters, and velocities in m/s"
      ]
    },
    {
      "cell_type": "code",
      "execution_count": null,
      "metadata": {
        "id": "BAJIvAw3gbXJ"
      },
      "outputs": [],
      "source": [
        "# define the x and y of your graph using the column headings\n",
        "x=dataset.Time\n",
        "y=dataset.x\n",
        "plt.scatter(x,y, s=20, alpha=1, edgecolors='blue') # defines the graph as a scatterplot with x and y\n",
        "plt.show()"
      ]
    },
    {
      "cell_type": "markdown",
      "metadata": {
        "id": "bcjDvISMhjKY"
      },
      "source": [
        "Go back to the graph code above and add a title and axis labels to your graph.\n"
      ]
    },
    {
      "cell_type": "code",
      "execution_count": null,
      "metadata": {
        "id": "M__1Yq6biZ_i"
      },
      "outputs": [],
      "source": [
        "a, b = np.polyfit(x, y, deg=1)\n",
        "plt.plot(x, a*x+b, linewidth=3, color=\"g\")\n",
        "plt.scatter(x, y, s=50, alpha=1, edgecolors='blue')\n",
        "\n",
        "# Here we're printing the text like before but using a F-string to format the values.\n",
        "plt.text(0, 1.25, f'y = {b:.2f} + {a:.2f}x', size=14)\n",
        "plt.show()"
      ]
    },
    {
      "cell_type": "markdown",
      "metadata": {
        "id": "PyzhVdLba7jV"
      },
      "source": [
        "Here's a couple of [links](https://docs.python.org/3/reference/lexical_analysis.html#f-strings) to some [examples](https://realpython.com/python-f-strings/) of how to use f-strings to print data"
      ]
    },
    {
      "cell_type": "code",
      "execution_count": null,
      "metadata": {
        "id": "lLWZo4xnkszH"
      },
      "outputs": [],
      "source": [
        "# Here's the same graph but using f strings with the legend instead of the text\n",
        "legend_text = f'y = {b:.2f} + {a:.2f}x'\n",
        "\n",
        "plt.plot(x, a*x+b, linewidth=3, color=\"g\", label=legend_text)\n",
        "plt.scatter(x, y, s=50, alpha=1, edgecolors='blue')\n",
        "\n",
        "plt.legend()\n",
        "plt.show()"
      ]
    },
    {
      "cell_type": "code",
      "execution_count": null,
      "metadata": {
        "id": "E9k5hKbKnpQN"
      },
      "outputs": [],
      "source": [
        "# Doing the same thing with the vertical data\n",
        "x2=dataset.Time\n",
        "y2=dataset.y\n",
        "plt.scatter(x2,y2, s=20, alpha=1, edgecolors='blue') # defines the graph as a scatterplot with x and y\n",
        "plt.show()"
      ]
    },
    {
      "cell_type": "markdown",
      "metadata": {
        "id": "OicJQj2co6Df"
      },
      "source": [
        "###That data doesn't look like a linear plot, let's try to trim it to get a better fit.\n",
        "\n",
        "* What time do you think the ball leaves the table?\n",
        "\n",
        "We can use the query command to select a part of the data. For example\n",
        "```newdata = dataset.query(\"y > 5\")``` will select all the data in the dataset where y is greater than 5 and save it in a new data table."
      ]
    },
    {
      "cell_type": "code",
      "execution_count": null,
      "metadata": {
        "id": "Znsp6S1gn2iu"
      },
      "outputs": [],
      "source": [
        "# Trimming the data to only include that time\n",
        "dataset2 = dataset.query(\"x > .6\")\n",
        "\n",
        "x3=dataset2.Time\n",
        "y3=dataset2.y\n",
        "\n",
        "plt.scatter(x3,y3, s=20, alpha=1, edgecolors='blue') # defines the graph as a scatterplot with x and y\n",
        "plt.show()"
      ]
    },
    {
      "cell_type": "code",
      "execution_count": null,
      "metadata": {
        "id": "tVei93lzqW0L"
      },
      "outputs": [],
      "source": [
        "# Now we can fit the data to a polynominal fit\n",
        "a, b, c = np.polyfit(x3, y3, deg=2)\n",
        "\n",
        "# Notice we change the 'y' values to be the polynominal equation\n",
        "plt.plot(x3, a*x3**2 + b*x3 + c, linewidth=3, color=\"g\")\n",
        "plt.scatter(x3, y3, s=50, alpha=1, edgecolors='blue')\n",
        "\n",
        "# Here we're putting the equation in the title\n",
        "# but you know how to have this in the legend or as text too.\n",
        "plt.title(f'y = {a:.2f}x^2 + {b:.2f}x + {c:.2f}', size=14)\n",
        "plt.show()"
      ]
    },
    {
      "cell_type": "markdown",
      "metadata": {
        "id": "t6SPK6unq69E"
      },
      "source": [
        "Discussion Questions\n",
        "\n",
        "Remember our equation from part 1:\n",
        "$$x_f=x_i+v_i t+\\frac{1}{2}at^2$$\n",
        "The variables are:  \n",
        "- final position, $x_f$\n",
        "- initial position, $x_i$\n",
        "- initial velocity, $v_i$\n",
        "- time, $t$\n",
        "- acceleration, $a$\n",
        "\n",
        "</br>\n",
        "\n",
        "1.   Describe this motion: is it accelerating, etc.\n",
        "2. How fast was the ball moving on the table? Just before it hit the ground?\n",
        "3.   What information is the line of best fit giving you?\n",
        "4.   What would the graph look like if you changed some of the parameters for the scatterplot or the width of the line? Try it!\n",
        "5. What would the graphs look like if you plotted the velocities (v_x and v_y) vs time instead of the positions? Try it!  \n",
        "\n",
        "\n",
        "\n"
      ]
    },
    {
      "cell_type": "markdown",
      "metadata": {
        "id": "8tUG_sHorh4c"
      },
      "source": [
        "# Extension Option\n",
        "Using phyphox, Arduino Science Journal, Tracker, Vernier Video Analysis or another app or program for gathering data on motion, create your own dataset for constant velocity and also for acceleration.\n",
        "\n",
        "Upload your data using one of the options below."
      ]
    },
    {
      "cell_type": "code",
      "execution_count": null,
      "metadata": {
        "id": "hj25axQRsMRc"
      },
      "outputs": [],
      "source": [
        "# If you are using GitHub for your data, use this code\n",
        "data2 = pd.read_csv(\"your url here\")\n",
        "\n",
        "data2.head(3) # choose to show the first (how many) lines of the file"
      ]
    },
    {
      "cell_type": "markdown",
      "metadata": {
        "id": "agRx8BDls08x"
      },
      "source": [
        "For the following 2 methods: Google Drive and Local Desktop, you'll need to copy the path instead of a url.\n",
        "\n",
        "Go to the top left column of this screen and click on the icon that looks like a file folder (usually the last of 4).\n",
        "This might open up the files on your local computer, but sometimes it can look different from what you expect.\n",
        "You can access your Drive folder here, clicking on the Drive icon at the top will automatically open up the same code you see below.\n",
        "You can also upload your data directly by dragging and dropping.\n",
        "\n",
        "Once you have either a path to Drive or you've dropped your desktop file, use the 3 dots to copy the path in the code."
      ]
    },
    {
      "cell_type": "code",
      "execution_count": null,
      "metadata": {
        "id": "d1X2STSosWuA"
      },
      "outputs": [],
      "source": [
        "# If you are using Google Drive, use this code\n",
        "from google.colab import drive #run this cell and accept to open your Drive\n",
        "drive.mount('/content/drive') #choose the file from your folders\n",
        "\n",
        "# You will need to sign into Drive, if you are not prompted to do so, try it again"
      ]
    },
    {
      "cell_type": "code",
      "execution_count": null,
      "metadata": {
        "id": "PLSadBwyshBL"
      },
      "outputs": [],
      "source": [
        "# If you are using a file from your local files, use this code\n",
        "\n",
        "df = pd.read_csv('/path/to/file.csv')\n",
        "df.head(3)"
      ]
    },
    {
      "cell_type": "markdown",
      "metadata": {
        "id": "quyxu_BRP3Jz"
      },
      "source": [
        "---  \n",
        "## Saving Your Work  \n",
        "This is running on a Google server on a distant planet and deletes what you've done when you close this tab. To save your work for later use or analysis you have a few options:  \n",
        "- File > \"Save a copy in Drive\" will save it to you Google Drive in a folder called \"Collaboratory\". You can run it later from there.\n",
        "- File > \"Save a copy in GitHub\" will save it to your GitHub account and can be opened in Colab later using File > Open > Github.\n",
        "- File > \"Download .ipynb\" to save to your computer (and run with Jupyter software later)  \n",
        "- File > Print to ... um ... print.  \n",
        "- To save an image of a graph or chart, right-click on it and select Save Image as ...  \n",
        "\n",
        "## Credits\n",
        "This notebook was designed by [Adam LaMee](https://adamlamee.github.io/), who coordinated its development as the [PhysTEC](https://www.phystec.org/) Teacher-in-residence in the [University of Central Florida's Physics department](https://sciences.ucf.edu/physics/). Additional modifications were made by Peter Apps, Tiffany Coke and Tracie Schroeder. Thanks to the great folks at [Binder](https://mybinder.org/) and [Google Colaboratory](https://colab.research.google.com/notebooks/intro.ipynb) for making this notebook interactive without you needing to download it or install [Jupyter](https://jupyter.org/) on your own device. Find more activities and license info at [CODINGinK12.org](http://www.codingink12.org)."
      ]
    },
    {
      "cell_type": "markdown",
      "metadata": {
        "id": "HPuzBf_-lDOp"
      },
      "source": [
        "##Documentation\n",
        "[Matplotlib](https://matplotlib.org/stable/index.html)\n",
        "\n",
        "[Numpy](https://numpy.org/doc/stable/)\n"
      ]
    }
  ],
  "metadata": {
    "colab": {
      "collapsed_sections": [
        "8tUG_sHorh4c"
      ],
      "provenance": [],
      "include_colab_link": true
    },
    "kernelspec": {
      "display_name": "Python 3",
      "language": "python",
      "name": "python3"
    },
    "language_info": {
      "codemirror_mode": {
        "name": "ipython",
        "version": 3
      },
      "file_extension": ".py",
      "mimetype": "text/x-python",
      "name": "python",
      "nbconvert_exporter": "python",
      "pygments_lexer": "ipython3",
      "version": "3.7.4"
    }
  },
  "nbformat": 4,
  "nbformat_minor": 0
}