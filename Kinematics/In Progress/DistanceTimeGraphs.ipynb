{
  "cells": [
    {
      "cell_type": "markdown",
      "metadata": {
        "id": "view-in-github",
        "colab_type": "text"
      },
      "source": [
        "<a href=\"https://colab.research.google.com/github/tracieschroeder/Participant-Notebooks/blob/main/Kinematics/In%20Progress/DistanceTimeGraphs.ipynb\" target=\"_parent\"><img src=\"https://colab.research.google.com/assets/colab-badge.svg\" alt=\"Open In Colab\"/></a>"
      ]
    },
    {
      "cell_type": "code",
      "execution_count": null,
      "metadata": {
        "id": "egFxhbYi_ChP"
      },
      "outputs": [],
      "source": [
        "# This code block imports software packages used.  No changes are needed to this block.\n",
        "import pandas as pd\n",
        "import numpy as np\n",
        "%matplotlib inline\n",
        "import matplotlib as mpl\n",
        "import matplotlib.pyplot as plt"
      ]
    },
    {
      "cell_type": "markdown",
      "metadata": {
        "id": "P4fHcAhJ_ChN"
      },
      "source": [
        "# Distance Time Graph\n",
        "In this activity, you will use a *position function* to model different types of motion.  Position is another name for Displacement.  You will recognize the position function is an equation on the reference table.\n",
        "\n",
        "To get started,\n",
        "- Don't worry you won't break anything by experimenting or playing with this notebook. If you mess it up, close the tab and open the activity again to start over.   Make sure to save a copy in your drive as soon as you begin (File, Save a copy in your drive).   Also save the file periodically (File, Save).\n",
        "- Is this your first time? Need a refresher? Try the 5-minute [Intro to Coding activity](https://colab.research.google.com/github/adamlamee/CODINGinK12/blob/master/notebooks/intro.ipynb) and come back here.\n",
        "\n",
        "When you're ready, run each code cell until you get down to **Part One**."
      ]
    },
    {
      "cell_type": "code",
      "execution_count": null,
      "metadata": {
        "id": "LBqIxGzr_ChR",
        "colab": {
          "base_uri": "https://localhost:8080/"
        },
        "outputId": "3d8584af-5e4a-46cb-8e2b-1739472972d6"
      },
      "outputs": [
        {
          "output_type": "stream",
          "name": "stdout",
          "text": [
            "initial displacement = 1 (units)\n",
            "initial velocity = 1 (units)\n",
            "acceleration = 1 (units)\n"
          ]
        }
      ],
      "source": [
        "# Enter Variables - In this code block you will enter values and units for the variables.  Ones are entered now as placeholders.  Then run it to see the changes.\n",
        "di = 1 # Enter your Initial displacement\n",
        "vi = 1 # Enter your Initial velocity (- means \"backwards\" direction)\n",
        "a = 1 # Enter your Acceleration\n",
        "print(\"initial displacement =\", di, \"(units)\") # enter the correct units for each variable\n",
        "print(\"initial velocity =\", vi, \"(units)\")\n",
        "print(\"acceleration =\", a, \"(units)\")"
      ]
    },
    {
      "cell_type": "markdown",
      "metadata": {
        "id": "X2RbTkBA_ChR"
      },
      "source": [
        "## Part One\n",
        "In the code block above you set values and units for the motion variables.  \n",
        "- What is the initial velocity? What's the name of the variable stores that value?  \n",
        "- Edit the code above with the proper SI units for each quantity. Re-run the code to make sure your like your edits.  \n",
        "\n",
        "The values you set will predict the motion using the *position function*. The position function is a quadratic equation that predicts the position of an object:  \n",
        "$$d_f=d_i+v_i t+\\frac{1}{2}at^2$$\n",
        "The variables are:  \n",
        "- final position, $d_f$\n",
        "- initial position, $d_i$\n",
        "- initial velocity, $v_i$\n",
        "- time, $t$\n",
        "- acceleration, $a$\n",
        "\n",
        "\n",
        "When you're ready, scroll down to **Part Two**."
      ]
    },
    {
      "cell_type": "code",
      "execution_count": null,
      "metadata": {
        "id": "mvP7Jwxl_ChS",
        "colab": {
          "base_uri": "https://localhost:8080/",
          "height": 472
        },
        "outputId": "8b14ef12-3ae9-4dcc-aed0-14cb5426d5b3"
      },
      "outputs": [
        {
          "output_type": "display_data",
          "data": {
            "text/plain": [
              "<Figure size 640x480 with 1 Axes>"
            ],
            "image/png": "[encoded data removed]"
          },
          "metadata": {}
        }
      ],
      "source": [
        "# The next two lines of code creates a location to store the position/time data\n",
        "time_list = []\n",
        "position_list = []\n",
        "t = 0  # defines a starting value for time\n",
        "\n",
        "while (t < 11):                  # runs the 4 lines below until time is not < 11\n",
        "    time_list.append(t)          # saves the time value\n",
        "    df = di + vi*t + .5*a*t**2   # calculates df\n",
        "    position_list.append(df)     # saves df as the position value\n",
        "    t = t + 1                    # specifies the time for each increment\n",
        "\n",
        "# This block of code creates a scatterplot: plt.scatter(x-variable, y-variable)\n",
        "plt.scatter(time_list, position_list)\n",
        "plt.title(\"Type Title Here\")  # The title and axes labels can be customized\n",
        "plt.xlabel(\"Type x-axis label and units here ()\")\n",
        "plt.ylabel(\"Type y-axis label and units here ()\");"
      ]
    },
    {
      "cell_type": "markdown",
      "metadata": {
        "id": "IBO47cVp_ChS"
      },
      "source": [
        "## Part Two  \n",
        "The code above makes a graph of a *position function* using coefficients (variable values) entered by the user in Part One.\n",
        "- How does the shape of the graph indicate the object is accelerating?  \n",
        "- Edit the coefficients in **Part One** to model the different types of motion below. You'll need to re-run that code to store the new values in your coefficients. Then, re-run the graph code to see the new graph.  \n",
        "    - Model constant speed motion at 5 m/s.  \n",
        "    - Model the motion of an object moving backwards.  \n",
        "    - Model the motion of a projectile on Earth, like a basketball, thrown straight up.  \n",
        "    \n",
        "## Coding Challenge  \n",
        "- Try making a graph that plots motion every 0.5 seconds (change the time increment)\n",
        "- Try plotting 20 seconds of data. (change the while statement)\n",
        "\n",
        "## Extras  "
      ]
    },
    {
      "cell_type": "code",
      "execution_count": null,
      "metadata": {
        "id": "n5sSRzLn_ChT"
      },
      "outputs": [],
      "source": [
        "# Uncomment the next line to make your graphs look like they're from xkcd.com\n",
        "#plt.xkcd();"
      ]
    },
    {
      "cell_type": "code",
      "execution_count": null,
      "metadata": {
        "id": "l8-AzEIL_ChT"
      },
      "outputs": [],
      "source": [
        "# to make normal-looking plots again uncomment the next line and execute this cell\n",
        "#mpl.rcdefaults()"
      ]
    },
    {
      "cell_type": "markdown",
      "metadata": {
        "id": "u7XneL54_ChU"
      },
      "source": [
        "---  \n",
        "## Saving Your Work  \n",
        "This is running on a Google server on a distant planet and deletes what you've done when you close this tab. To save your work for later use or analysis you have a few options:  \n",
        "- File > \"Save a copy in Drive\" will save it to you Google Drive in a folder called \"Collaboratory\". You can run it later from there.  \n",
        "- File > \"Download .ipynb\" to save to your computer (and run with Jupyter software later)  \n",
        "- File > Print to ... um ... print.  \n",
        "- To save an image of a graph or chart, right-click on it and select Save Image as ...  \n",
        "\n",
        "## Credits\n",
        "This notebook was designed by [Adam LaMee](https://adamlamee.github.io/), who coordinated its development as the [PhysTEC](https://www.phystec.org/) Teacher-in-residence in the [University of Central Florida's Physics department](https://sciences.ucf.edu/physics/). Thanks to the great folks at [Binder](https://mybinder.org/) and [Google Colaboratory](https://colab.research.google.com/notebooks/intro.ipynb) for making this notebook interactive without you needing to download it or install [Jupyter](https://jupyter.org/) on your own device. Find more activities and license info at [CODINGinK12.org](http://www.codingink12.org)."
      ]
    }
  ],
  "metadata": {
    "kernelspec": {
      "display_name": "Python 3",
      "language": "python",
      "name": "python3"
    },
    "language_info": {
      "codemirror_mode": {
        "name": "ipython",
        "version": 3
      },
      "file_extension": ".py",
      "mimetype": "text/x-python",
      "name": "python",
      "nbconvert_exporter": "python",
      "pygments_lexer": "ipython3",
      "version": "3.7.4"
    },
    "colab": {
      "provenance": [],
      "include_colab_link": true
    }
  },
  "nbformat": 4,
  "nbformat_minor": 0
}