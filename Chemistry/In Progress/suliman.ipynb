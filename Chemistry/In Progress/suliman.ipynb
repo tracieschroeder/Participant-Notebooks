{
  "nbformat": 4,
  "nbformat_minor": 0,
  "metadata": {
    "colab": {
      "provenance": [],
      "include_colab_link": true
    },
    "kernelspec": {
      "name": "python3",
      "display_name": "Python 3"
    },
    "language_info": {
      "name": "python"
    }
  },
  "cells": [
    {
      "cell_type": "markdown",
      "metadata": {
        "id": "view-in-github",
        "colab_type": "text"
      },
      "source": [
        "<a href=\"https://colab.research.google.com/github/tracieschroeder/Participant-Notebooks/blob/main/Chemistry/In%20Progress/suliman.ipynb\" target=\"_parent\"><img src=\"https://colab.research.google.com/assets/colab-badge.svg\" alt=\"Open In Colab\"/></a>"
      ]
    },
    {
      "cell_type": "code",
      "execution_count": null,
      "metadata": {
        "colab": {
          "base_uri": "https://localhost:8080/"
        },
        "id": "pSMjQ7gzVSst",
        "outputId": "31c03f1d-df18-44ed-bc1c-48a865b0be8b"
      },
      "outputs": [
        {
          "output_type": "stream",
          "name": "stdout",
          "text": [
            "You have 4.5 water.\n"
          ]
        }
      ],
      "source": [
        "# This code will calculate the total number of the product. Change number of elements in the reactants.\n",
        "import numpy as np\n",
        "import pandas as pd\n",
        "import scipy.integrate as integrate\n",
        "import matplotlib as mpl\n",
        "import matplotlib.pyplot as plt\n",
        " # Change the numbers after the equal sign to the number of dogs and cats you have.\n",
        " # 2 hydrogen and 1 oxygen yield 1 water\n",
        "oxygen=6\n",
        "Hydrogen=3\n",
        "water=(oxygen+Hydrogen) /2.0\n",
        "\n",
        "print(f\"You have {water} water.\" )"
      ]
    },
    {
      "cell_type": "code",
      "source": [],
      "metadata": {
        "id": "0mYdbkixdUQn"
      },
      "execution_count": null,
      "outputs": []
    }
  ]
}