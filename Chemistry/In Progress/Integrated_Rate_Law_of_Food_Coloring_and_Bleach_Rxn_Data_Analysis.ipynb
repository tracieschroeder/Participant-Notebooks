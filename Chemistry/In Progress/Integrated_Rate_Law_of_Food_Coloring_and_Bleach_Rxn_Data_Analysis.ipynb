{
  "nbformat": 4,
  "nbformat_minor": 0,
  "metadata": {
    "colab": {
      "provenance": [],
      "include_colab_link": true
    },
    "kernelspec": {
      "name": "python3",
      "display_name": "Python 3"
    },
    "language_info": {
      "name": "python"
    }
  },
  "cells": [
    {
      "cell_type": "markdown",
      "metadata": {
        "id": "view-in-github",
        "colab_type": "text"
      },
      "source": [
        "<a href=\"https://colab.research.google.com/github/tracieschroeder/Participant-Notebooks/blob/main/Chemistry/In%20Progress/Integrated_Rate_Law_of_Food_Coloring_and_Bleach_Rxn_Data_Analysis.ipynb\" target=\"_parent\"><img src=\"https://colab.research.google.com/assets/colab-badge.svg\" alt=\"Open In Colab\"/></a>"
      ]
    },
    {
      "cell_type": "markdown",
      "source": [
        "# **Integrated Rate Law of Food Coloring and Bleach Rxn Data Analysis**\n",
        "\n",
        "# **Purpose:**\n",
        "**In this activity, you will be introduced to coding and its benefit to data analysis by importing and analyzing your food coloring and bleach reaction data**"
      ],
      "metadata": {
        "id": "a-hqGz-Dfe1C"
      }
    },
    {
      "cell_type": "markdown",
      "source": [
        "#Intro to Coding and Data Analysis\n",
        "We're going to work on a brief activity to help us learn some coding that's useful for data analysis.\n",
        "\n",
        "By the end of this activity you should be able to:\n",
        "\n",
        "*   Import python packages to help analyze data\n",
        "*   Import csv files full of data from excel\n",
        "*   Do simple math functions in python\n",
        "*   Learn to **ALWAYS** label axes and graphs\n",
        "*   Create a linear equation and perform calculations using code\n",
        "\n",
        "#Let's Get Started!\n",
        "\n",
        "Each block is different functions we need to accomplish our goals. Anything in green that follows a # isn't read by the computer. These are comments to help humans understand what that line of code is doing. Click the play sign to run the line of code. Some of the code is written incorrectly. Some has info you need to change. Look for comments to help!"
      ],
      "metadata": {
        "id": "L59R7YsgQ5V-"
      }
    },
    {
      "cell_type": "markdown",
      "source": [
        "#Step 1: Import functions needed to perform our data analysis"
      ],
      "metadata": {
        "id": "G8tHViVzhLeh"
      }
    },
    {
      "cell_type": "code",
      "execution_count": null,
      "metadata": {
        "id": "TkBhTkHjP3Jr"
      },
      "outputs": [],
      "source": [
        "# this cell only needs to be run once, all you have to do is click the play button!\n",
        "# imports software packages (not too exciting)\n",
        "import pandas as pd #pandas works with python to help us wrangle data. It can sort, clean, and read our csv files. csv files are how we input data\n",
        "import numpy as np #numpy handles the math for us!\n",
        "%matplotlib inline\n",
        "import matplotlib as mpl\n",
        "import matplotlib.pyplot as plt #these three functions will help us create our graphs!"
      ]
    },
    {
      "cell_type": "markdown",
      "source": [
        "#Step 2: Import your data from the lab\n",
        "Now that you imported important functions we will use, let's import our data from the lab quest:\n",
        "\n",
        "*   Connect the LabQuest and computer to the same WiFi network.\n",
        "*   Open Graphical Analysis and select Data Sharing, then the Local tab.\n",
        "*   Choose the LabQuest from the list or enter its URL.\n",
        "*   Go to File > LabQuest Browser > Open.\n",
        "*   Save in Google Sheets\n"
      ],
      "metadata": {
        "id": "VZaKg7ILgBQU"
      }
    },
    {
      "cell_type": "code",
      "source": [
        "# when you click the play button, you might have to accept google permissions\n",
        "from google.colab import drive\n",
        "drive.mount('/content/drive')"
      ],
      "metadata": {
        "id": "MjPasoPygePO",
        "colab": {
          "base_uri": "https://localhost:8080/"
        },
        "outputId": "755f2c32-77a2-4625-dbc5-f674b222af3b"
      },
      "execution_count": null,
      "outputs": [
        {
          "output_type": "stream",
          "name": "stdout",
          "text": [
            "Drive already mounted at /content/drive; to attempt to forcibly remount, call drive.mount(\"/content/drive\", force_remount=True).\n"
          ]
        }
      ]
    },
    {
      "cell_type": "markdown",
      "source": [
        "Now that we have connected Colab to Sheets we need to access a specific sheet in your drive and pull data from it. To do this:\n",
        "\n",
        "* Copy and paste the sheet link into the next cell where it says 'paste link here'. Keep the quotes.\n",
        "\n",
        "* Replace the last portion of the link (edit?gid=0#gid=0) with (export?format=csv). This tells the computer that instead of editing the sheet, it is pulling the data from it.\n",
        "\n",
        "* Call the data something. 'df' is short for dataframe. It is the variable we are going to use to represent our data. Any time you reference the data, you will use this variable."
      ],
      "metadata": {
        "id": "kf6Faqe6kMdH"
      }
    },
    {
      "cell_type": "code",
      "source": [
        "# Read in the lab data. This cell has no output.\n",
        "# Create a variable called df (short for dataframe) and store the data in it\n",
        "df = pd.read_csv('https://docs.google.com/spreadsheets/d/16mHrpOhpSMroaLMbn7m7PEw_2w_Oz2CAr41hzmZHtVY/export?format=csv')\n",
        "data = df"
      ],
      "metadata": {
        "id": "ZCG8RWTQkx_y"
      },
      "execution_count": null,
      "outputs": []
    },
    {
      "cell_type": "markdown",
      "source": [
        "Now that we have the data lets try to view some of it just to be sure everything is in order. Run the next cell to view the data."
      ],
      "metadata": {
        "id": "wdaSgDOrpNOL"
      }
    },
    {
      "cell_type": "code",
      "source": [
        "df.head(5) #shows the first (n) lines of data"
      ],
      "metadata": {
        "id": "UanVr6qEpVUp",
        "colab": {
          "base_uri": "https://localhost:8080/",
          "height": 206
        },
        "outputId": "95f7c42f-9bd1-4fa2-999e-3aaca24a65b5"
      },
      "execution_count": null,
      "outputs": [
        {
          "output_type": "execute_result",
          "data": {
            "text/plain": [
              "   Time   Absorbance\n",
              "0      0       2.272\n",
              "1     20       2.157\n",
              "2     40       1.816\n",
              "3     60       1.317\n",
              "4     80       0.958"
            ],
            "text/html": [
              "\n",
              "  <div id=\"df-6c96e029-8571-4c52-be2a-adb1258b1bea\" class=\"colab-df-container\">\n",
              "    <div>\n",
              "<style scoped>\n",
              "    .dataframe tbody tr th:only-of-type {\n",
              "        vertical-align: middle;\n",
              "    }\n",
              "\n",
              "    .dataframe tbody tr th {\n",
              "        vertical-align: top;\n",
              "    }\n",
              "\n",
              "    .dataframe thead th {\n",
              "        text-align: right;\n",
              "    }\n",
              "</style>\n",
              "<table border=\"1\" class=\"dataframe\">\n",
              "  <thead>\n",
              "    <tr style=\"text-align: right;\">\n",
              "      <th></th>\n",
              "      <th>Time</th>\n",
              "      <th>Absorbance</th>\n",
              "    </tr>\n",
              "  </thead>\n",
              "  <tbody>\n",
              "    <tr>\n",
              "      <th>0</th>\n",
              "      <td>0</td>\n",
              "      <td>2.272</td>\n",
              "    </tr>\n",
              "    <tr>\n",
              "      <th>1</th>\n",
              "      <td>20</td>\n",
              "      <td>2.157</td>\n",
              "    </tr>\n",
              "    <tr>\n",
              "      <th>2</th>\n",
              "      <td>40</td>\n",
              "      <td>1.816</td>\n",
              "    </tr>\n",
              "    <tr>\n",
              "      <th>3</th>\n",
              "      <td>60</td>\n",
              "      <td>1.317</td>\n",
              "    </tr>\n",
              "    <tr>\n",
              "      <th>4</th>\n",
              "      <td>80</td>\n",
              "      <td>0.958</td>\n",
              "    </tr>\n",
              "  </tbody>\n",
              "</table>\n",
              "</div>\n",
              "    <div class=\"colab-df-buttons\">\n",
              "\n",
              "  <div class=\"colab-df-container\">\n",
              "    <button class=\"colab-df-convert\" onclick=\"convertToInteractive('df-6c96e029-8571-4c52-be2a-adb1258b1bea')\"\n",
              "            title=\"Convert this dataframe to an interactive table.\"\n",
              "            style=\"display:none;\">\n",
              "\n",
              "  <svg xmlns=\"http://www.w3.org/2000/svg\" height=\"24px\" viewBox=\"0 -960 960 960\">\n",
              "    <path d=\"M120-120v-720h720v720H120Zm60-500h600v-160H180v160Zm220 220h160v-160H400v160Zm0 220h160v-160H400v160ZM180-400h160v-160H180v160Zm440 0h160v-160H620v160ZM180-180h160v-160H180v160Zm440 0h160v-160H620v160Z\"/>\n",
              "  </svg>\n",
              "    </button>\n",
              "\n",
              "  <style>\n",
              "    .colab-df-container {\n",
              "      display:flex;\n",
              "      gap: 12px;\n",
              "    }\n",
              "\n",
              "    .colab-df-convert {\n",
              "      background-color: #E8F0FE;\n",
              "      border: none;\n",
              "      border-radius: 50%;\n",
              "      cursor: pointer;\n",
              "      display: none;\n",
              "      fill: #1967D2;\n",
              "      height: 32px;\n",
              "      padding: 0 0 0 0;\n",
              "      width: 32px;\n",
              "    }\n",
              "\n",
              "    .colab-df-convert:hover {\n",
              "      background-color: #E2EBFA;\n",
              "      box-shadow: 0px 1px 2px rgba(60, 64, 67, 0.3), 0px 1px 3px 1px rgba(60, 64, 67, 0.15);\n",
              "      fill: #174EA6;\n",
              "    }\n",
              "\n",
              "    .colab-df-buttons div {\n",
              "      margin-bottom: 4px;\n",
              "    }\n",
              "\n",
              "    [theme=dark] .colab-df-convert {\n",
              "      background-color: #3B4455;\n",
              "      fill: #D2E3FC;\n",
              "    }\n",
              "\n",
              "    [theme=dark] .colab-df-convert:hover {\n",
              "      background-color: #434B5C;\n",
              "      box-shadow: 0px 1px 3px 1px rgba(0, 0, 0, 0.15);\n",
              "      filter: drop-shadow(0px 1px 2px rgba(0, 0, 0, 0.3));\n",
              "      fill: #FFFFFF;\n",
              "    }\n",
              "  </style>\n",
              "\n",
              "    <script>\n",
              "      const buttonEl =\n",
              "        document.querySelector('#df-6c96e029-8571-4c52-be2a-adb1258b1bea button.colab-df-convert');\n",
              "      buttonEl.style.display =\n",
              "        google.colab.kernel.accessAllowed ? 'block' : 'none';\n",
              "\n",
              "      async function convertToInteractive(key) {\n",
              "        const element = document.querySelector('#df-6c96e029-8571-4c52-be2a-adb1258b1bea');\n",
              "        const dataTable =\n",
              "          await google.colab.kernel.invokeFunction('convertToInteractive',\n",
              "                                                    [key], {});\n",
              "        if (!dataTable) return;\n",
              "\n",
              "        const docLinkHtml = 'Like what you see? Visit the ' +\n",
              "          '<a target=\"_blank\" href=https://colab.research.google.com/notebooks/data_table.ipynb>data table notebook</a>'\n",
              "          + ' to learn more about interactive tables.';\n",
              "        element.innerHTML = '';\n",
              "        dataTable['output_type'] = 'display_data';\n",
              "        await google.colab.output.renderOutput(dataTable, element);\n",
              "        const docLink = document.createElement('div');\n",
              "        docLink.innerHTML = docLinkHtml;\n",
              "        element.appendChild(docLink);\n",
              "      }\n",
              "    </script>\n",
              "  </div>\n",
              "\n",
              "\n",
              "    <div id=\"df-3e96e553-439b-4527-a80d-d1521190a69b\">\n",
              "      <button class=\"colab-df-quickchart\" onclick=\"quickchart('df-3e96e553-439b-4527-a80d-d1521190a69b')\"\n",
              "                title=\"Suggest charts\"\n",
              "                style=\"display:none;\">\n",
              "\n",
              "<svg xmlns=\"http://www.w3.org/2000/svg\" height=\"24px\"viewBox=\"0 0 24 24\"\n",
              "     width=\"24px\">\n",
              "    <g>\n",
              "        <path d=\"M19 3H5c-1.1 0-2 .9-2 2v14c0 1.1.9 2 2 2h14c1.1 0 2-.9 2-2V5c0-1.1-.9-2-2-2zM9 17H7v-7h2v7zm4 0h-2V7h2v10zm4 0h-2v-4h2v4z\"/>\n",
              "    </g>\n",
              "</svg>\n",
              "      </button>\n",
              "\n",
              "<style>\n",
              "  .colab-df-quickchart {\n",
              "      --bg-color: #E8F0FE;\n",
              "      --fill-color: #1967D2;\n",
              "      --hover-bg-color: #E2EBFA;\n",
              "      --hover-fill-color: #174EA6;\n",
              "      --disabled-fill-color: #AAA;\n",
              "      --disabled-bg-color: #DDD;\n",
              "  }\n",
              "\n",
              "  [theme=dark] .colab-df-quickchart {\n",
              "      --bg-color: #3B4455;\n",
              "      --fill-color: #D2E3FC;\n",
              "      --hover-bg-color: #434B5C;\n",
              "      --hover-fill-color: #FFFFFF;\n",
              "      --disabled-bg-color: #3B4455;\n",
              "      --disabled-fill-color: #666;\n",
              "  }\n",
              "\n",
              "  .colab-df-quickchart {\n",
              "    background-color: var(--bg-color);\n",
              "    border: none;\n",
              "    border-radius: 50%;\n",
              "    cursor: pointer;\n",
              "    display: none;\n",
              "    fill: var(--fill-color);\n",
              "    height: 32px;\n",
              "    padding: 0;\n",
              "    width: 32px;\n",
              "  }\n",
              "\n",
              "  .colab-df-quickchart:hover {\n",
              "    background-color: var(--hover-bg-color);\n",
              "    box-shadow: 0 1px 2px rgba(60, 64, 67, 0.3), 0 1px 3px 1px rgba(60, 64, 67, 0.15);\n",
              "    fill: var(--button-hover-fill-color);\n",
              "  }\n",
              "\n",
              "  .colab-df-quickchart-complete:disabled,\n",
              "  .colab-df-quickchart-complete:disabled:hover {\n",
              "    background-color: var(--disabled-bg-color);\n",
              "    fill: var(--disabled-fill-color);\n",
              "    box-shadow: none;\n",
              "  }\n",
              "\n",
              "  .colab-df-spinner {\n",
              "    border: 2px solid var(--fill-color);\n",
              "    border-color: transparent;\n",
              "    border-bottom-color: var(--fill-color);\n",
              "    animation:\n",
              "      spin 1s steps(1) infinite;\n",
              "  }\n",
              "\n",
              "  @keyframes spin {\n",
              "    0% {\n",
              "      border-color: transparent;\n",
              "      border-bottom-color: var(--fill-color);\n",
              "      border-left-color: var(--fill-color);\n",
              "    }\n",
              "    20% {\n",
              "      border-color: transparent;\n",
              "      border-left-color: var(--fill-color);\n",
              "      border-top-color: var(--fill-color);\n",
              "    }\n",
              "    30% {\n",
              "      border-color: transparent;\n",
              "      border-left-color: var(--fill-color);\n",
              "      border-top-color: var(--fill-color);\n",
              "      border-right-color: var(--fill-color);\n",
              "    }\n",
              "    40% {\n",
              "      border-color: transparent;\n",
              "      border-right-color: var(--fill-color);\n",
              "      border-top-color: var(--fill-color);\n",
              "    }\n",
              "    60% {\n",
              "      border-color: transparent;\n",
              "      border-right-color: var(--fill-color);\n",
              "    }\n",
              "    80% {\n",
              "      border-color: transparent;\n",
              "      border-right-color: var(--fill-color);\n",
              "      border-bottom-color: var(--fill-color);\n",
              "    }\n",
              "    90% {\n",
              "      border-color: transparent;\n",
              "      border-bottom-color: var(--fill-color);\n",
              "    }\n",
              "  }\n",
              "</style>\n",
              "\n",
              "      <script>\n",
              "        async function quickchart(key) {\n",
              "          const quickchartButtonEl =\n",
              "            document.querySelector('#' + key + ' button');\n",
              "          quickchartButtonEl.disabled = true;  // To prevent multiple clicks.\n",
              "          quickchartButtonEl.classList.add('colab-df-spinner');\n",
              "          try {\n",
              "            const charts = await google.colab.kernel.invokeFunction(\n",
              "                'suggestCharts', [key], {});\n",
              "          } catch (error) {\n",
              "            console.error('Error during call to suggestCharts:', error);\n",
              "          }\n",
              "          quickchartButtonEl.classList.remove('colab-df-spinner');\n",
              "          quickchartButtonEl.classList.add('colab-df-quickchart-complete');\n",
              "        }\n",
              "        (() => {\n",
              "          let quickchartButtonEl =\n",
              "            document.querySelector('#df-3e96e553-439b-4527-a80d-d1521190a69b button');\n",
              "          quickchartButtonEl.style.display =\n",
              "            google.colab.kernel.accessAllowed ? 'block' : 'none';\n",
              "        })();\n",
              "      </script>\n",
              "    </div>\n",
              "\n",
              "    </div>\n",
              "  </div>\n"
            ],
            "application/vnd.google.colaboratory.intrinsic+json": {
              "type": "dataframe",
              "variable_name": "df",
              "summary": "{\n  \"name\": \"df\",\n  \"rows\": 10,\n  \"fields\": [\n    {\n      \"column\": \"Time \",\n      \"properties\": {\n        \"dtype\": \"number\",\n        \"std\": 60,\n        \"min\": 0,\n        \"max\": 180,\n        \"num_unique_values\": 10,\n        \"samples\": [\n          160,\n          20,\n          100\n        ],\n        \"semantic_type\": \"\",\n        \"description\": \"\"\n      }\n    },\n    {\n      \"column\": \"Absorbance\",\n      \"properties\": {\n        \"dtype\": \"number\",\n        \"std\": 0.7537700798873177,\n        \"min\": 0.302,\n        \"max\": 2.272,\n        \"num_unique_values\": 10,\n        \"samples\": [\n          0.363,\n          2.157,\n          0.717\n        ],\n        \"semantic_type\": \"\",\n        \"description\": \"\"\n      }\n    }\n  ]\n}"
            }
          },
          "metadata": {},
          "execution_count": 4
        }
      ]
    },
    {
      "cell_type": "code",
      "source": [
        "# .shape displays the (number of rows , number of columns)\n",
        "data.shape"
      ],
      "metadata": {
        "colab": {
          "base_uri": "https://localhost:8080/"
        },
        "id": "Ume9iihBfDvC",
        "outputId": "3b8889c0-4524-4a49-ead2-9b8f5fbc660f"
      },
      "execution_count": null,
      "outputs": [
        {
          "output_type": "execute_result",
          "data": {
            "text/plain": [
              "(10, 2)"
            ]
          },
          "metadata": {},
          "execution_count": 5
        }
      ]
    },
    {
      "cell_type": "markdown",
      "source": [
        "#Step 3: Claculate your \"y\" variables for your first and second order graphs\n",
        "\n",
        "Since you already have data for absorbance vs. time, you already have the data to create a zero order kinetics graph. We will now calculate the additional \"y\" variables to create first order (ln aborbance vs. time) and second order (1/absorbance vs. time) kinetics graphs.\n",
        "\n"
      ],
      "metadata": {
        "id": "hpbQ8FcZcw00"
      }
    },
    {
      "cell_type": "markdown",
      "source": [
        "**Creating ln absorbance data column**\n",
        "\n",
        "1.   rename your column of data \"ln absorbance\"\n",
        "2.   input the data name we will be taking the natural log of\n",
        "3.   you can change the data head (n) to see a different number of data points\n",
        "\n"
      ],
      "metadata": {
        "id": "Sd7XUdG4lBGp"
      }
    },
    {
      "cell_type": "code",
      "source": [
        "# You can specify a column by data['column name']. This adds a column and fills it with ln absorbance values for each data point\n",
        "data['ln absorbance'] = np.log (data['Absorbance'])\n",
        "data.head(3)"
      ],
      "metadata": {
        "colab": {
          "base_uri": "https://localhost:8080/",
          "height": 143
        },
        "id": "jaJDizFFho7U",
        "outputId": "b3cc41ac-126f-4827-e28c-e148cdd6f16d"
      },
      "execution_count": null,
      "outputs": [
        {
          "output_type": "execute_result",
          "data": {
            "text/plain": [
              "   Time   Absorbance  ln absorbance\n",
              "0      0       2.272       0.820661\n",
              "1     20       2.157       0.768718\n",
              "2     40       1.816       0.596636"
            ],
            "text/html": [
              "\n",
              "  <div id=\"df-8312d4fa-4e44-4c37-a07b-417ce32c3f87\" class=\"colab-df-container\">\n",
              "    <div>\n",
              "<style scoped>\n",
              "    .dataframe tbody tr th:only-of-type {\n",
              "        vertical-align: middle;\n",
              "    }\n",
              "\n",
              "    .dataframe tbody tr th {\n",
              "        vertical-align: top;\n",
              "    }\n",
              "\n",
              "    .dataframe thead th {\n",
              "        text-align: right;\n",
              "    }\n",
              "</style>\n",
              "<table border=\"1\" class=\"dataframe\">\n",
              "  <thead>\n",
              "    <tr style=\"text-align: right;\">\n",
              "      <th></th>\n",
              "      <th>Time</th>\n",
              "      <th>Absorbance</th>\n",
              "      <th>ln absorbance</th>\n",
              "    </tr>\n",
              "  </thead>\n",
              "  <tbody>\n",
              "    <tr>\n",
              "      <th>0</th>\n",
              "      <td>0</td>\n",
              "      <td>2.272</td>\n",
              "      <td>0.820661</td>\n",
              "    </tr>\n",
              "    <tr>\n",
              "      <th>1</th>\n",
              "      <td>20</td>\n",
              "      <td>2.157</td>\n",
              "      <td>0.768718</td>\n",
              "    </tr>\n",
              "    <tr>\n",
              "      <th>2</th>\n",
              "      <td>40</td>\n",
              "      <td>1.816</td>\n",
              "      <td>0.596636</td>\n",
              "    </tr>\n",
              "  </tbody>\n",
              "</table>\n",
              "</div>\n",
              "    <div class=\"colab-df-buttons\">\n",
              "\n",
              "  <div class=\"colab-df-container\">\n",
              "    <button class=\"colab-df-convert\" onclick=\"convertToInteractive('df-8312d4fa-4e44-4c37-a07b-417ce32c3f87')\"\n",
              "            title=\"Convert this dataframe to an interactive table.\"\n",
              "            style=\"display:none;\">\n",
              "\n",
              "  <svg xmlns=\"http://www.w3.org/2000/svg\" height=\"24px\" viewBox=\"0 -960 960 960\">\n",
              "    <path d=\"M120-120v-720h720v720H120Zm60-500h600v-160H180v160Zm220 220h160v-160H400v160Zm0 220h160v-160H400v160ZM180-400h160v-160H180v160Zm440 0h160v-160H620v160ZM180-180h160v-160H180v160Zm440 0h160v-160H620v160Z\"/>\n",
              "  </svg>\n",
              "    </button>\n",
              "\n",
              "  <style>\n",
              "    .colab-df-container {\n",
              "      display:flex;\n",
              "      gap: 12px;\n",
              "    }\n",
              "\n",
              "    .colab-df-convert {\n",
              "      background-color: #E8F0FE;\n",
              "      border: none;\n",
              "      border-radius: 50%;\n",
              "      cursor: pointer;\n",
              "      display: none;\n",
              "      fill: #1967D2;\n",
              "      height: 32px;\n",
              "      padding: 0 0 0 0;\n",
              "      width: 32px;\n",
              "    }\n",
              "\n",
              "    .colab-df-convert:hover {\n",
              "      background-color: #E2EBFA;\n",
              "      box-shadow: 0px 1px 2px rgba(60, 64, 67, 0.3), 0px 1px 3px 1px rgba(60, 64, 67, 0.15);\n",
              "      fill: #174EA6;\n",
              "    }\n",
              "\n",
              "    .colab-df-buttons div {\n",
              "      margin-bottom: 4px;\n",
              "    }\n",
              "\n",
              "    [theme=dark] .colab-df-convert {\n",
              "      background-color: #3B4455;\n",
              "      fill: #D2E3FC;\n",
              "    }\n",
              "\n",
              "    [theme=dark] .colab-df-convert:hover {\n",
              "      background-color: #434B5C;\n",
              "      box-shadow: 0px 1px 3px 1px rgba(0, 0, 0, 0.15);\n",
              "      filter: drop-shadow(0px 1px 2px rgba(0, 0, 0, 0.3));\n",
              "      fill: #FFFFFF;\n",
              "    }\n",
              "  </style>\n",
              "\n",
              "    <script>\n",
              "      const buttonEl =\n",
              "        document.querySelector('#df-8312d4fa-4e44-4c37-a07b-417ce32c3f87 button.colab-df-convert');\n",
              "      buttonEl.style.display =\n",
              "        google.colab.kernel.accessAllowed ? 'block' : 'none';\n",
              "\n",
              "      async function convertToInteractive(key) {\n",
              "        const element = document.querySelector('#df-8312d4fa-4e44-4c37-a07b-417ce32c3f87');\n",
              "        const dataTable =\n",
              "          await google.colab.kernel.invokeFunction('convertToInteractive',\n",
              "                                                    [key], {});\n",
              "        if (!dataTable) return;\n",
              "\n",
              "        const docLinkHtml = 'Like what you see? Visit the ' +\n",
              "          '<a target=\"_blank\" href=https://colab.research.google.com/notebooks/data_table.ipynb>data table notebook</a>'\n",
              "          + ' to learn more about interactive tables.';\n",
              "        element.innerHTML = '';\n",
              "        dataTable['output_type'] = 'display_data';\n",
              "        await google.colab.output.renderOutput(dataTable, element);\n",
              "        const docLink = document.createElement('div');\n",
              "        docLink.innerHTML = docLinkHtml;\n",
              "        element.appendChild(docLink);\n",
              "      }\n",
              "    </script>\n",
              "  </div>\n",
              "\n",
              "\n",
              "    <div id=\"df-8787615b-7285-4e35-b941-d461f1e9c0ab\">\n",
              "      <button class=\"colab-df-quickchart\" onclick=\"quickchart('df-8787615b-7285-4e35-b941-d461f1e9c0ab')\"\n",
              "                title=\"Suggest charts\"\n",
              "                style=\"display:none;\">\n",
              "\n",
              "<svg xmlns=\"http://www.w3.org/2000/svg\" height=\"24px\"viewBox=\"0 0 24 24\"\n",
              "     width=\"24px\">\n",
              "    <g>\n",
              "        <path d=\"M19 3H5c-1.1 0-2 .9-2 2v14c0 1.1.9 2 2 2h14c1.1 0 2-.9 2-2V5c0-1.1-.9-2-2-2zM9 17H7v-7h2v7zm4 0h-2V7h2v10zm4 0h-2v-4h2v4z\"/>\n",
              "    </g>\n",
              "</svg>\n",
              "      </button>\n",
              "\n",
              "<style>\n",
              "  .colab-df-quickchart {\n",
              "      --bg-color: #E8F0FE;\n",
              "      --fill-color: #1967D2;\n",
              "      --hover-bg-color: #E2EBFA;\n",
              "      --hover-fill-color: #174EA6;\n",
              "      --disabled-fill-color: #AAA;\n",
              "      --disabled-bg-color: #DDD;\n",
              "  }\n",
              "\n",
              "  [theme=dark] .colab-df-quickchart {\n",
              "      --bg-color: #3B4455;\n",
              "      --fill-color: #D2E3FC;\n",
              "      --hover-bg-color: #434B5C;\n",
              "      --hover-fill-color: #FFFFFF;\n",
              "      --disabled-bg-color: #3B4455;\n",
              "      --disabled-fill-color: #666;\n",
              "  }\n",
              "\n",
              "  .colab-df-quickchart {\n",
              "    background-color: var(--bg-color);\n",
              "    border: none;\n",
              "    border-radius: 50%;\n",
              "    cursor: pointer;\n",
              "    display: none;\n",
              "    fill: var(--fill-color);\n",
              "    height: 32px;\n",
              "    padding: 0;\n",
              "    width: 32px;\n",
              "  }\n",
              "\n",
              "  .colab-df-quickchart:hover {\n",
              "    background-color: var(--hover-bg-color);\n",
              "    box-shadow: 0 1px 2px rgba(60, 64, 67, 0.3), 0 1px 3px 1px rgba(60, 64, 67, 0.15);\n",
              "    fill: var(--button-hover-fill-color);\n",
              "  }\n",
              "\n",
              "  .colab-df-quickchart-complete:disabled,\n",
              "  .colab-df-quickchart-complete:disabled:hover {\n",
              "    background-color: var(--disabled-bg-color);\n",
              "    fill: var(--disabled-fill-color);\n",
              "    box-shadow: none;\n",
              "  }\n",
              "\n",
              "  .colab-df-spinner {\n",
              "    border: 2px solid var(--fill-color);\n",
              "    border-color: transparent;\n",
              "    border-bottom-color: var(--fill-color);\n",
              "    animation:\n",
              "      spin 1s steps(1) infinite;\n",
              "  }\n",
              "\n",
              "  @keyframes spin {\n",
              "    0% {\n",
              "      border-color: transparent;\n",
              "      border-bottom-color: var(--fill-color);\n",
              "      border-left-color: var(--fill-color);\n",
              "    }\n",
              "    20% {\n",
              "      border-color: transparent;\n",
              "      border-left-color: var(--fill-color);\n",
              "      border-top-color: var(--fill-color);\n",
              "    }\n",
              "    30% {\n",
              "      border-color: transparent;\n",
              "      border-left-color: var(--fill-color);\n",
              "      border-top-color: var(--fill-color);\n",
              "      border-right-color: var(--fill-color);\n",
              "    }\n",
              "    40% {\n",
              "      border-color: transparent;\n",
              "      border-right-color: var(--fill-color);\n",
              "      border-top-color: var(--fill-color);\n",
              "    }\n",
              "    60% {\n",
              "      border-color: transparent;\n",
              "      border-right-color: var(--fill-color);\n",
              "    }\n",
              "    80% {\n",
              "      border-color: transparent;\n",
              "      border-right-color: var(--fill-color);\n",
              "      border-bottom-color: var(--fill-color);\n",
              "    }\n",
              "    90% {\n",
              "      border-color: transparent;\n",
              "      border-bottom-color: var(--fill-color);\n",
              "    }\n",
              "  }\n",
              "</style>\n",
              "\n",
              "      <script>\n",
              "        async function quickchart(key) {\n",
              "          const quickchartButtonEl =\n",
              "            document.querySelector('#' + key + ' button');\n",
              "          quickchartButtonEl.disabled = true;  // To prevent multiple clicks.\n",
              "          quickchartButtonEl.classList.add('colab-df-spinner');\n",
              "          try {\n",
              "            const charts = await google.colab.kernel.invokeFunction(\n",
              "                'suggestCharts', [key], {});\n",
              "          } catch (error) {\n",
              "            console.error('Error during call to suggestCharts:', error);\n",
              "          }\n",
              "          quickchartButtonEl.classList.remove('colab-df-spinner');\n",
              "          quickchartButtonEl.classList.add('colab-df-quickchart-complete');\n",
              "        }\n",
              "        (() => {\n",
              "          let quickchartButtonEl =\n",
              "            document.querySelector('#df-8787615b-7285-4e35-b941-d461f1e9c0ab button');\n",
              "          quickchartButtonEl.style.display =\n",
              "            google.colab.kernel.accessAllowed ? 'block' : 'none';\n",
              "        })();\n",
              "      </script>\n",
              "    </div>\n",
              "\n",
              "    </div>\n",
              "  </div>\n"
            ],
            "application/vnd.google.colaboratory.intrinsic+json": {
              "type": "dataframe",
              "variable_name": "data",
              "summary": "{\n  \"name\": \"data\",\n  \"rows\": 10,\n  \"fields\": [\n    {\n      \"column\": \"Time \",\n      \"properties\": {\n        \"dtype\": \"number\",\n        \"std\": 60,\n        \"min\": 0,\n        \"max\": 180,\n        \"num_unique_values\": 10,\n        \"samples\": [\n          160,\n          20,\n          100\n        ],\n        \"semantic_type\": \"\",\n        \"description\": \"\"\n      }\n    },\n    {\n      \"column\": \"Absorbance\",\n      \"properties\": {\n        \"dtype\": \"number\",\n        \"std\": 0.7537700798873177,\n        \"min\": 0.302,\n        \"max\": 2.272,\n        \"num_unique_values\": 10,\n        \"samples\": [\n          0.363,\n          2.157,\n          0.717\n        ],\n        \"semantic_type\": \"\",\n        \"description\": \"\"\n      }\n    },\n    {\n      \"column\": \"ln absorbance\",\n      \"properties\": {\n        \"dtype\": \"number\",\n        \"std\": 0.7471592939448062,\n        \"min\": -1.1973282616072674,\n        \"max\": 0.8206605008589049,\n        \"num_unique_values\": 10,\n        \"samples\": [\n          -1.0133524447172864,\n          0.7687183674070194,\n          -0.33267943838251673\n        ],\n        \"semantic_type\": \"\",\n        \"description\": \"\"\n      }\n    }\n  ]\n}"
            }
          },
          "metadata": {},
          "execution_count": 6
        }
      ]
    },
    {
      "cell_type": "markdown",
      "source": [
        "**Creating 1/absorbance data column**\n",
        "\n",
        "1. rename your column of data \"1/absorbance\"\n",
        "2. input the data name we will be taking the reciprocal of\n",
        "3. you can change the data head (n) to see a different number of data points"
      ],
      "metadata": {
        "id": "mZRP8YH5mDji"
      }
    },
    {
      "cell_type": "code",
      "source": [
        "# You can specify a column by data['column name']. This adds a column and fills it with ln absorbance values for each data point\n",
        "data['1/absorbance'] =  (1/data['Absorbance'])\n",
        "data.head(3)"
      ],
      "metadata": {
        "colab": {
          "base_uri": "https://localhost:8080/",
          "height": 143
        },
        "id": "NZ8aMUMyl6fR",
        "outputId": "9bc628b7-a880-4a1d-b61a-14846373d02f"
      },
      "execution_count": null,
      "outputs": [
        {
          "output_type": "execute_result",
          "data": {
            "text/plain": [
              "   Time   Absorbance  ln absorbance  1/absorbance\n",
              "0      0       2.272       0.820661      0.440141\n",
              "1     20       2.157       0.768718      0.463607\n",
              "2     40       1.816       0.596636      0.550661"
            ],
            "text/html": [
              "\n",
              "  <div id=\"df-dd6d99af-068b-4c6d-88a7-a5e1c781727a\" class=\"colab-df-container\">\n",
              "    <div>\n",
              "<style scoped>\n",
              "    .dataframe tbody tr th:only-of-type {\n",
              "        vertical-align: middle;\n",
              "    }\n",
              "\n",
              "    .dataframe tbody tr th {\n",
              "        vertical-align: top;\n",
              "    }\n",
              "\n",
              "    .dataframe thead th {\n",
              "        text-align: right;\n",
              "    }\n",
              "</style>\n",
              "<table border=\"1\" class=\"dataframe\">\n",
              "  <thead>\n",
              "    <tr style=\"text-align: right;\">\n",
              "      <th></th>\n",
              "      <th>Time</th>\n",
              "      <th>Absorbance</th>\n",
              "      <th>ln absorbance</th>\n",
              "      <th>1/absorbance</th>\n",
              "    </tr>\n",
              "  </thead>\n",
              "  <tbody>\n",
              "    <tr>\n",
              "      <th>0</th>\n",
              "      <td>0</td>\n",
              "      <td>2.272</td>\n",
              "      <td>0.820661</td>\n",
              "      <td>0.440141</td>\n",
              "    </tr>\n",
              "    <tr>\n",
              "      <th>1</th>\n",
              "      <td>20</td>\n",
              "      <td>2.157</td>\n",
              "      <td>0.768718</td>\n",
              "      <td>0.463607</td>\n",
              "    </tr>\n",
              "    <tr>\n",
              "      <th>2</th>\n",
              "      <td>40</td>\n",
              "      <td>1.816</td>\n",
              "      <td>0.596636</td>\n",
              "      <td>0.550661</td>\n",
              "    </tr>\n",
              "  </tbody>\n",
              "</table>\n",
              "</div>\n",
              "    <div class=\"colab-df-buttons\">\n",
              "\n",
              "  <div class=\"colab-df-container\">\n",
              "    <button class=\"colab-df-convert\" onclick=\"convertToInteractive('df-dd6d99af-068b-4c6d-88a7-a5e1c781727a')\"\n",
              "            title=\"Convert this dataframe to an interactive table.\"\n",
              "            style=\"display:none;\">\n",
              "\n",
              "  <svg xmlns=\"http://www.w3.org/2000/svg\" height=\"24px\" viewBox=\"0 -960 960 960\">\n",
              "    <path d=\"M120-120v-720h720v720H120Zm60-500h600v-160H180v160Zm220 220h160v-160H400v160Zm0 220h160v-160H400v160ZM180-400h160v-160H180v160Zm440 0h160v-160H620v160ZM180-180h160v-160H180v160Zm440 0h160v-160H620v160Z\"/>\n",
              "  </svg>\n",
              "    </button>\n",
              "\n",
              "  <style>\n",
              "    .colab-df-container {\n",
              "      display:flex;\n",
              "      gap: 12px;\n",
              "    }\n",
              "\n",
              "    .colab-df-convert {\n",
              "      background-color: #E8F0FE;\n",
              "      border: none;\n",
              "      border-radius: 50%;\n",
              "      cursor: pointer;\n",
              "      display: none;\n",
              "      fill: #1967D2;\n",
              "      height: 32px;\n",
              "      padding: 0 0 0 0;\n",
              "      width: 32px;\n",
              "    }\n",
              "\n",
              "    .colab-df-convert:hover {\n",
              "      background-color: #E2EBFA;\n",
              "      box-shadow: 0px 1px 2px rgba(60, 64, 67, 0.3), 0px 1px 3px 1px rgba(60, 64, 67, 0.15);\n",
              "      fill: #174EA6;\n",
              "    }\n",
              "\n",
              "    .colab-df-buttons div {\n",
              "      margin-bottom: 4px;\n",
              "    }\n",
              "\n",
              "    [theme=dark] .colab-df-convert {\n",
              "      background-color: #3B4455;\n",
              "      fill: #D2E3FC;\n",
              "    }\n",
              "\n",
              "    [theme=dark] .colab-df-convert:hover {\n",
              "      background-color: #434B5C;\n",
              "      box-shadow: 0px 1px 3px 1px rgba(0, 0, 0, 0.15);\n",
              "      filter: drop-shadow(0px 1px 2px rgba(0, 0, 0, 0.3));\n",
              "      fill: #FFFFFF;\n",
              "    }\n",
              "  </style>\n",
              "\n",
              "    <script>\n",
              "      const buttonEl =\n",
              "        document.querySelector('#df-dd6d99af-068b-4c6d-88a7-a5e1c781727a button.colab-df-convert');\n",
              "      buttonEl.style.display =\n",
              "        google.colab.kernel.accessAllowed ? 'block' : 'none';\n",
              "\n",
              "      async function convertToInteractive(key) {\n",
              "        const element = document.querySelector('#df-dd6d99af-068b-4c6d-88a7-a5e1c781727a');\n",
              "        const dataTable =\n",
              "          await google.colab.kernel.invokeFunction('convertToInteractive',\n",
              "                                                    [key], {});\n",
              "        if (!dataTable) return;\n",
              "\n",
              "        const docLinkHtml = 'Like what you see? Visit the ' +\n",
              "          '<a target=\"_blank\" href=https://colab.research.google.com/notebooks/data_table.ipynb>data table notebook</a>'\n",
              "          + ' to learn more about interactive tables.';\n",
              "        element.innerHTML = '';\n",
              "        dataTable['output_type'] = 'display_data';\n",
              "        await google.colab.output.renderOutput(dataTable, element);\n",
              "        const docLink = document.createElement('div');\n",
              "        docLink.innerHTML = docLinkHtml;\n",
              "        element.appendChild(docLink);\n",
              "      }\n",
              "    </script>\n",
              "  </div>\n",
              "\n",
              "\n",
              "    <div id=\"df-0ea22dac-5902-402a-ba31-9e824d650e14\">\n",
              "      <button class=\"colab-df-quickchart\" onclick=\"quickchart('df-0ea22dac-5902-402a-ba31-9e824d650e14')\"\n",
              "                title=\"Suggest charts\"\n",
              "                style=\"display:none;\">\n",
              "\n",
              "<svg xmlns=\"http://www.w3.org/2000/svg\" height=\"24px\"viewBox=\"0 0 24 24\"\n",
              "     width=\"24px\">\n",
              "    <g>\n",
              "        <path d=\"M19 3H5c-1.1 0-2 .9-2 2v14c0 1.1.9 2 2 2h14c1.1 0 2-.9 2-2V5c0-1.1-.9-2-2-2zM9 17H7v-7h2v7zm4 0h-2V7h2v10zm4 0h-2v-4h2v4z\"/>\n",
              "    </g>\n",
              "</svg>\n",
              "      </button>\n",
              "\n",
              "<style>\n",
              "  .colab-df-quickchart {\n",
              "      --bg-color: #E8F0FE;\n",
              "      --fill-color: #1967D2;\n",
              "      --hover-bg-color: #E2EBFA;\n",
              "      --hover-fill-color: #174EA6;\n",
              "      --disabled-fill-color: #AAA;\n",
              "      --disabled-bg-color: #DDD;\n",
              "  }\n",
              "\n",
              "  [theme=dark] .colab-df-quickchart {\n",
              "      --bg-color: #3B4455;\n",
              "      --fill-color: #D2E3FC;\n",
              "      --hover-bg-color: #434B5C;\n",
              "      --hover-fill-color: #FFFFFF;\n",
              "      --disabled-bg-color: #3B4455;\n",
              "      --disabled-fill-color: #666;\n",
              "  }\n",
              "\n",
              "  .colab-df-quickchart {\n",
              "    background-color: var(--bg-color);\n",
              "    border: none;\n",
              "    border-radius: 50%;\n",
              "    cursor: pointer;\n",
              "    display: none;\n",
              "    fill: var(--fill-color);\n",
              "    height: 32px;\n",
              "    padding: 0;\n",
              "    width: 32px;\n",
              "  }\n",
              "\n",
              "  .colab-df-quickchart:hover {\n",
              "    background-color: var(--hover-bg-color);\n",
              "    box-shadow: 0 1px 2px rgba(60, 64, 67, 0.3), 0 1px 3px 1px rgba(60, 64, 67, 0.15);\n",
              "    fill: var(--button-hover-fill-color);\n",
              "  }\n",
              "\n",
              "  .colab-df-quickchart-complete:disabled,\n",
              "  .colab-df-quickchart-complete:disabled:hover {\n",
              "    background-color: var(--disabled-bg-color);\n",
              "    fill: var(--disabled-fill-color);\n",
              "    box-shadow: none;\n",
              "  }\n",
              "\n",
              "  .colab-df-spinner {\n",
              "    border: 2px solid var(--fill-color);\n",
              "    border-color: transparent;\n",
              "    border-bottom-color: var(--fill-color);\n",
              "    animation:\n",
              "      spin 1s steps(1) infinite;\n",
              "  }\n",
              "\n",
              "  @keyframes spin {\n",
              "    0% {\n",
              "      border-color: transparent;\n",
              "      border-bottom-color: var(--fill-color);\n",
              "      border-left-color: var(--fill-color);\n",
              "    }\n",
              "    20% {\n",
              "      border-color: transparent;\n",
              "      border-left-color: var(--fill-color);\n",
              "      border-top-color: var(--fill-color);\n",
              "    }\n",
              "    30% {\n",
              "      border-color: transparent;\n",
              "      border-left-color: var(--fill-color);\n",
              "      border-top-color: var(--fill-color);\n",
              "      border-right-color: var(--fill-color);\n",
              "    }\n",
              "    40% {\n",
              "      border-color: transparent;\n",
              "      border-right-color: var(--fill-color);\n",
              "      border-top-color: var(--fill-color);\n",
              "    }\n",
              "    60% {\n",
              "      border-color: transparent;\n",
              "      border-right-color: var(--fill-color);\n",
              "    }\n",
              "    80% {\n",
              "      border-color: transparent;\n",
              "      border-right-color: var(--fill-color);\n",
              "      border-bottom-color: var(--fill-color);\n",
              "    }\n",
              "    90% {\n",
              "      border-color: transparent;\n",
              "      border-bottom-color: var(--fill-color);\n",
              "    }\n",
              "  }\n",
              "</style>\n",
              "\n",
              "      <script>\n",
              "        async function quickchart(key) {\n",
              "          const quickchartButtonEl =\n",
              "            document.querySelector('#' + key + ' button');\n",
              "          quickchartButtonEl.disabled = true;  // To prevent multiple clicks.\n",
              "          quickchartButtonEl.classList.add('colab-df-spinner');\n",
              "          try {\n",
              "            const charts = await google.colab.kernel.invokeFunction(\n",
              "                'suggestCharts', [key], {});\n",
              "          } catch (error) {\n",
              "            console.error('Error during call to suggestCharts:', error);\n",
              "          }\n",
              "          quickchartButtonEl.classList.remove('colab-df-spinner');\n",
              "          quickchartButtonEl.classList.add('colab-df-quickchart-complete');\n",
              "        }\n",
              "        (() => {\n",
              "          let quickchartButtonEl =\n",
              "            document.querySelector('#df-0ea22dac-5902-402a-ba31-9e824d650e14 button');\n",
              "          quickchartButtonEl.style.display =\n",
              "            google.colab.kernel.accessAllowed ? 'block' : 'none';\n",
              "        })();\n",
              "      </script>\n",
              "    </div>\n",
              "\n",
              "    </div>\n",
              "  </div>\n"
            ],
            "application/vnd.google.colaboratory.intrinsic+json": {
              "type": "dataframe",
              "variable_name": "data",
              "summary": "{\n  \"name\": \"data\",\n  \"rows\": 10,\n  \"fields\": [\n    {\n      \"column\": \"Time \",\n      \"properties\": {\n        \"dtype\": \"number\",\n        \"std\": 60,\n        \"min\": 0,\n        \"max\": 180,\n        \"num_unique_values\": 10,\n        \"samples\": [\n          160,\n          20,\n          100\n        ],\n        \"semantic_type\": \"\",\n        \"description\": \"\"\n      }\n    },\n    {\n      \"column\": \"Absorbance\",\n      \"properties\": {\n        \"dtype\": \"number\",\n        \"std\": 0.7537700798873177,\n        \"min\": 0.302,\n        \"max\": 2.272,\n        \"num_unique_values\": 10,\n        \"samples\": [\n          0.363,\n          2.157,\n          0.717\n        ],\n        \"semantic_type\": \"\",\n        \"description\": \"\"\n      }\n    },\n    {\n      \"column\": \"ln absorbance\",\n      \"properties\": {\n        \"dtype\": \"number\",\n        \"std\": 0.7471592939448062,\n        \"min\": -1.1973282616072674,\n        \"max\": 0.8206605008589049,\n        \"num_unique_values\": 10,\n        \"samples\": [\n          -1.0133524447172864,\n          0.7687183674070194,\n          -0.33267943838251673\n        ],\n        \"semantic_type\": \"\",\n        \"description\": \"\"\n      }\n    },\n    {\n      \"column\": \"1/absorbance\",\n      \"properties\": {\n        \"dtype\": \"number\",\n        \"std\": 1.0186059059178887,\n        \"min\": 0.44014084507042256,\n        \"max\": 3.3112582781456954,\n        \"num_unique_values\": 10,\n        \"samples\": [\n          2.7548209366391188,\n          0.46360686138154844,\n          1.394700139470014\n        ],\n        \"semantic_type\": \"\",\n        \"description\": \"\"\n      }\n    }\n  ]\n}"
            }
          },
          "metadata": {},
          "execution_count": 7
        }
      ]
    },
    {
      "cell_type": "markdown",
      "source": [
        "#Step 4: Creating your integrated rate law graphs\n",
        "\n",
        "Now that you have all the data needed, we will create a scatter plot that coorelates with each order.\n"
      ],
      "metadata": {
        "id": "zCr2t5qU-Zsd"
      }
    },
    {
      "cell_type": "markdown",
      "source": [
        "**Zero Order Integrated Rate Law Graph**\n",
        "\n",
        "Complete the lines of code below to create your absorbance vs. time graph"
      ],
      "metadata": {
        "id": "7Ii7eNkE-v5c"
      }
    },
    {
      "cell_type": "code",
      "source": [
        "x = data['Time ']\n",
        "y = data['Absorbance']\n",
        "\n",
        "plt.scatter(x, y)\n",
        "plt.xlabel('Time (s)')\n",
        "plt.ylabel('Absorbance')\n",
        "plt.title('Zero Order Integrated Rate Law')\n",
        "plt.show()"
      ],
      "metadata": {
        "colab": {
          "base_uri": "https://localhost:8080/",
          "height": 472
        },
        "id": "r3FiX67SN34m",
        "outputId": "9d67e527-1a7b-4fd0-823d-5997596536fe"
      },
      "execution_count": null,
      "outputs": [
        {
          "output_type": "display_data",
          "data": {
            "text/plain": [
              "<Figure size 640x480 with 1 Axes>"
            ],
            "image/png": "[encoded data removed]"
          },
          "metadata": {}
        }
      ]
    },
    {
      "cell_type": "markdown",
      "source": [
        "**First Order Integrated Rate Law Graph**\n",
        "\n",
        "Complete the lines of code below to create your ln absorbance vs. time graph"
      ],
      "metadata": {
        "id": "NzKGrljOYxwd"
      }
    },
    {
      "cell_type": "code",
      "source": [
        "x = data['Time ']\n",
        "y = data['ln absorbance']\n",
        "\n",
        "plt.scatter(x, y)\n",
        "plt.xlabel('Time (s)')\n",
        "plt.ylabel('ln Absorbance')\n",
        "plt.title('First Order Integrated Rate Law') # Updated title\n",
        "plt.show()"
      ],
      "metadata": {
        "colab": {
          "base_uri": "https://localhost:8080/",
          "height": 472
        },
        "id": "bG_v4lXcSNu3",
        "outputId": "2b9c9928-3ac8-48af-eb6e-c5cc68d5771d"
      },
      "execution_count": null,
      "outputs": [
        {
          "output_type": "display_data",
          "data": {
            "text/plain": [
              "<Figure size 640x480 with 1 Axes>"
            ],
            "image/png": "[encoded data removed]"
          },
          "metadata": {}
        }
      ]
    },
    {
      "cell_type": "markdown",
      "source": [
        "**Second Order Integrated Rate Law Graph**\n",
        "\n",
        "Complete the lines of code below to create your 1/absorbance vs. time graph"
      ],
      "metadata": {
        "id": "qOaIxHnkZ9dM"
      }
    },
    {
      "cell_type": "code",
      "source": [
        "x = data['Time ']\n",
        "y = data['1/absorbance']\n",
        "\n",
        "plt.scatter(x, y)\n",
        "plt.xlabel('Time (s)')\n",
        "plt.ylabel('1/Absorbance')\n",
        "plt.title('Second Order Integrated Rate Law') # Updated title\n",
        "plt.show()"
      ],
      "metadata": {
        "colab": {
          "base_uri": "https://localhost:8080/",
          "height": 472
        },
        "id": "I5UGheydTMLS",
        "outputId": "bdff96d4-4246-4799-9d43-608dd61d04a2"
      },
      "execution_count": null,
      "outputs": [
        {
          "output_type": "display_data",
          "data": {
            "text/plain": [
              "<Figure size 640x480 with 1 Axes>"
            ],
            "image/png": "[encoded data removed]"
          },
          "metadata": {}
        }
      ]
    },
    {
      "cell_type": "markdown",
      "source": [
        "# Step 5: Calculate R^2 values to analyze the kinetic order with respect to food coloring\n",
        "\n",
        "Now we will run the following code to determine the R^2 values. The R^2 value that is closest to **1** indicates the most linear graph. The most linear graph determines the order of the food coloring in the reaction."
      ],
      "metadata": {
        "id": "T9igtu0_aHP8"
      }
    },
    {
      "cell_type": "code",
      "source": [
        "# prompt: find the r^2 value of the above graph\n",
        "\n",
        "from sklearn.linear_model import LinearRegression\n",
        "from sklearn.metrics import r2_score\n",
        "\n",
        "# Zero Order\n",
        "x_zero = data['Time '].values.reshape(-1, 1) # Reshape for scikit-learn\n",
        "y_zero = data['Absorbance'].values\n",
        "\n",
        "model_zero = LinearRegression()\n",
        "model_zero.fit(x_zero, y_zero)\n",
        "y_pred_zero = model_zero.predict(x_zero)\n",
        "r2_zero = r2_score(y_zero, y_pred_zero)\n",
        "\n",
        "print(f\"R^2 value for Zero Order graph: {r2_zero}\")\n",
        "\n",
        "# First Order\n",
        "x_first = data['Time '].values.reshape(-1, 1)\n",
        "y_first = data['ln absorbance'].values\n",
        "\n",
        "model_first = LinearRegression()\n",
        "model_first.fit(x_first, y_first)\n",
        "y_pred_first = model_first.predict(x_first)\n",
        "r2_first = r2_score(y_first, y_pred_first)\n",
        "\n",
        "print(f\"R^2 value for First Order graph: {r2_first}\")\n",
        "\n",
        "# Second Order\n",
        "x_second = data['Time '].values.reshape(-1, 1)\n",
        "y_second = data['1/absorbance'].values\n",
        "\n",
        "model_second = LinearRegression()\n",
        "model_second.fit(x_second, y_second)\n",
        "y_pred_second = model_second.predict(x_second)\n",
        "r2_second = r2_score(y_second, y_pred_second)\n",
        "\n",
        "print(f\"R^2 value for Second Order graph: {r2_second}\")"
      ],
      "metadata": {
        "colab": {
          "base_uri": "https://localhost:8080/"
        },
        "id": "lP3aZaUQRrtY",
        "outputId": "dbfb6b88-e1cc-4ca7-95ba-f3aa72386d31"
      },
      "execution_count": null,
      "outputs": [
        {
          "output_type": "stream",
          "name": "stdout",
          "text": [
            "R^2 value for Zero Order graph: 0.9312727084989814\n",
            "R^2 value for First Order graph: 0.9890784853110249\n",
            "R^2 value for Second Order graph: 0.9368904388206087\n"
          ]
        }
      ]
    },
    {
      "cell_type": "code",
      "source": [
        "# prompt: print the order with respect to food coloring\n",
        "\n",
        "# Determine the order with the highest R^2 value\n",
        "max_r2 = max(r2_zero, r2_first, r2_second)\n",
        "\n",
        "if max_r2 == r2_zero:\n",
        "  order = \"Zero Order\"\n",
        "elif max_r2 == r2_first:\n",
        "  order = \"First Order\"\n",
        "else:\n",
        "  order = \"Second Order\"\n",
        "\n",
        "print(f\"The order with the highest R^2 value ({max_r2:.4f}) with respect to food coloring is {order}\")"
      ],
      "metadata": {
        "colab": {
          "base_uri": "https://localhost:8080/"
        },
        "id": "8J59ci6Ia6eo",
        "outputId": "8e7e1c4c-b512-40e2-ba1c-2521b890943e"
      },
      "execution_count": null,
      "outputs": [
        {
          "output_type": "stream",
          "name": "stdout",
          "text": [
            "The order with the highest R^2 value (0.9891) with respect to food coloring is First Order\n"
          ]
        }
      ]
    },
    {
      "cell_type": "markdown",
      "source": [
        "# Step 6: Create your linear equation for the order with respect to food coloring\n",
        "\n",
        "Now you will determine the slope of the most linear graph and use that value to create your linear equation."
      ],
      "metadata": {
        "id": "na7GyDVLbhxd"
      }
    },
    {
      "cell_type": "code",
      "source": [
        "# prompt: find the slope of the First Order graph\n",
        "\n",
        "# Find the slope (k) of the First Order graph\n",
        "# The slope of the linear regression model for the First Order graph is the reaction rate constant k.\n",
        "slope_first = model_first.coef_[0]\n",
        "\n",
        "print(f\"Slope (k) of the First Order graph: {slope_first}\")"
      ],
      "metadata": {
        "colab": {
          "base_uri": "https://localhost:8080/"
        },
        "id": "rzYOr9F_WU_h",
        "outputId": "1de36fde-2fce-4f37-d98d-a01245b75ef7"
      },
      "execution_count": null,
      "outputs": [
        {
          "output_type": "stream",
          "name": "stdout",
          "text": [
            "Slope (k) of the First Order graph: -0.01227136475631425\n"
          ]
        }
      ]
    },
    {
      "cell_type": "code",
      "source": [
        "# prompt: create linear equation for First Order graph\n",
        "\n",
        "import matplotlib.pyplot as plt\n",
        "# Add the linear regression line to the First Order graph\n",
        "plt.scatter(x_first, y_first, label='Data')\n",
        "plt.plot(x_first, y_pred_first, color='red', linewidth=2, label='Linear Regression')\n",
        "plt.xlabel('Time (s)')\n",
        "plt.ylabel('ln Absorbance')\n",
        "plt.title('First Order Integrated Rate Law with Linear Regression')\n",
        "plt.legend()\n",
        "plt.show()\n",
        "\n",
        "# Print the linear equation for the First Order graph\n",
        "# The equation of a line is y = mx + c, where m is the slope and c is the intercept.\n",
        "# In this case, y is ln(Absorbance) and x is Time.\n",
        "intercept_first = model_first.intercept_\n",
        "print(f\"Linear equation for First Order graph: ln(Absorbance) = {slope_first:.4f} * Time + {intercept_first:.4f}\")"
      ],
      "metadata": {
        "colab": {
          "base_uri": "https://localhost:8080/",
          "height": 489
        },
        "id": "Zdu__ttfWh66",
        "outputId": "29a58f0a-1067-4a71-faa4-9857ef86c8bd"
      },
      "execution_count": null,
      "outputs": [
        {
          "output_type": "display_data",
          "data": {
            "text/plain": [
              "<Figure size 640x480 with 1 Axes>"
            ],
            "image/png": "[encoded data removed]"
          },
          "metadata": {}
        },
        {
          "output_type": "stream",
          "name": "stdout",
          "text": [
            "Linear equation for First Order graph: ln(Absorbance) = -0.0123 * Time + 0.9536\n"
          ]
        }
      ]
    },
    {
      "cell_type": "markdown",
      "source": [
        "# Step 7: Extrapolate Data using your linear equation\n",
        "\n",
        "Using your linear equation generated above, answer the following questions. Then, use the following code to **check** your answers:\n",
        "\n",
        "# 1. Determine the absorbance of food coloring at 200 seconds.\n",
        "# 2. Determine the time required for the absorbance to reach 0.150"
      ],
      "metadata": {
        "id": "YomDVJn4cE8h"
      }
    },
    {
      "cell_type": "code",
      "source": [
        "# prompt: use linear equation from above to determine the absorbance at 200 seconds\n",
        "\n",
        "import numpy as np\n",
        "# Using the linear equation for the First Order graph to predict absorbance at 200 seconds\n",
        "# The equation is ln(Absorbance) = slope * Time + intercept\n",
        "# We need to find Absorbance at Time = 200 seconds\n",
        "time_at_200s = 200\n",
        "# Calculate the predicted ln(Absorbance) at 200 seconds\n",
        "ln_absorbance_at_200s = slope_first * time_at_200s + intercept_first\n",
        "\n",
        "# To get the Absorbance, we need to take the exponential of the result (e^ln(Absorbance))\n",
        "absorbance_at_200s = np.exp(ln_absorbance_at_200s)\n",
        "\n",
        "print(f\"Predicted absorbance at 200 seconds (based on First Order kinetics): {absorbance_at_200s:.4f}\")"
      ],
      "metadata": {
        "colab": {
          "base_uri": "https://localhost:8080/"
        },
        "id": "hS-jLmBtUayi",
        "outputId": "6c3e8862-2882-424b-9c70-967c8b646a8a"
      },
      "execution_count": null,
      "outputs": [
        {
          "output_type": "stream",
          "name": "stdout",
          "text": [
            "Predicted absorbance at 200 seconds (based on First Order kinetics): 0.2230\n"
          ]
        }
      ]
    },
    {
      "cell_type": "code",
      "source": [
        "# prompt: calculate the time required for absorbance to reach 0.150\n",
        "\n",
        "import numpy as np\n",
        "# Calculate the time required for the absorbance to reach 0.150\n",
        "# We are using the First Order linear equation: ln(Absorbance) = slope * Time + intercept\n",
        "# We want to find Time when Absorbance = 0.150\n",
        "# Rearranging the equation to solve for Time:\n",
        "# Time = (ln(Absorbance) - intercept) / slope\n",
        "\n",
        "target_absorbance = 0.150\n",
        "\n",
        "# Calculate ln(target_absorbance)\n",
        "ln_target_absorbance = np.log(target_absorbance)\n",
        "\n",
        "# Use the slope and intercept from the First Order model\n",
        "time_to_reach_0_150 = (ln_target_absorbance - intercept_first) / slope_first\n",
        "\n",
        "print(f\"Predicted time required for absorbance to reach {target_absorbance} (based on First Order kinetics): {time_to_reach_0_150:.4f} seconds\")"
      ],
      "metadata": {
        "colab": {
          "base_uri": "https://localhost:8080/"
        },
        "id": "MS32gx83emrW",
        "outputId": "240b8518-bc51-4809-9ef6-9c4c1d1c8258"
      },
      "execution_count": null,
      "outputs": [
        {
          "output_type": "stream",
          "name": "stdout",
          "text": [
            "Predicted time required for absorbance to reach 0.15 (based on First Order kinetics): 232.3075 seconds\n"
          ]
        }
      ]
    },
    {
      "cell_type": "markdown",
      "source": [
        "#Congratulations!\n",
        "# You have now learned a few things about coding  and how it relates to data analysis in Kinetics!"
      ],
      "metadata": {
        "id": "kayj0yage2ua"
      }
    }
  ]
}