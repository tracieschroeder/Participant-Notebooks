{
  "nbformat": 4,
  "nbformat_minor": 0,
  "metadata": {
    "colab": {
      "provenance": [],
      "include_colab_link": true
    },
    "kernelspec": {
      "name": "python3",
      "display_name": "Python 3"
    },
    "language_info": {
      "name": "python"
    }
  },
  "cells": [
    {
      "cell_type": "markdown",
      "metadata": {
        "id": "view-in-github",
        "colab_type": "text"
      },
      "source": [
        "<a href=\"https://colab.research.google.com/github/tracieschroeder/Participant-Notebooks/blob/main/Mass_of_US_Pennies_DAP_Student_Level_2.ipynb\" target=\"_parent\"><img src=\"https://colab.research.google.com/assets/colab-badge.svg\" alt=\"Open In Colab\"/></a>"
      ]
    },
    {
      "cell_type": "markdown",
      "source": [
        "This is a Level 2 notebook. Students are required to enter data. The first histogram is already coded and automatically generated. Students create the remaining histograms by referring to the code used to build the first histogram."
      ],
      "metadata": {
        "id": "u1aYzG5y-lpM"
      }
    },
    {
      "cell_type": "markdown",
      "source": [
        "#Mass of US Pennies\n",
        "\n",
        "Particle physicists use graphs like the one shown to look at the results of their experiments. By putting mass readings on a histogram, they can see that the peaks show separate particles.\n",
        "\n",
        "![histogram](https://github.com/tracieschroeder/CodingCamp/raw/main/histogram.png)\n",
        "\n",
        "Since we don’t have ready access to particles or machines to make them, we are going to look at something more readily available: U.S. pennies. There are lots of pennies in circulation."
      ],
      "metadata": {
        "id": "wxWKEXn0kyVE"
      }
    },
    {
      "cell_type": "markdown",
      "source": [
        "##Learning Check\n",
        "- Are they all the same?\n",
        "- They all represent $0.01 and may be similar in color, but is that the only thing that they have in common?"
      ],
      "metadata": {
        "id": "K0LW64eeu5Qz"
      }
    },
    {
      "cell_type": "markdown",
      "source": [
        "#Obtain 10 Pennies\n",
        "Begin by brainstorming characteristics of a U.S. penny. Identify the characteristics that can be measured or described with a number value. Measure and record as many properties of each penny as you can observe. Be sure the mass in grams is one of them!"
      ],
      "metadata": {
        "id": "hSyqqEG1Rupg"
      }
    },
    {
      "cell_type": "markdown",
      "source": [
        "Find the mass of each penny to the nearest 0.1 gram. Write this mass onto a sticky note."
      ],
      "metadata": {
        "id": "n5un8tDoSPSn"
      }
    },
    {
      "cell_type": "markdown",
      "source": [
        "Sort your sticky notes into \"bins\" so that it makes a “frequency” graph with masses in 0.1 g bins and the number of pennies that fall in each bin. This is a histogram showing the number of pennies in each mass range."
      ],
      "metadata": {
        "id": "95ZIxwvhSPVq"
      }
    },
    {
      "cell_type": "markdown",
      "source": [
        "##Learning Check\n",
        "\n",
        "- Do you see any patterns?\n",
        "- What do you think you could conclude about the massess of the pennies?"
      ],
      "metadata": {
        "id": "OiuehfkdvDwg"
      }
    },
    {
      "cell_type": "markdown",
      "source": [
        "#We can also use this data to create a digital histogram.\n",
        "\n",
        "Use your group data to enter the mass of each penny into a separate box below."
      ],
      "metadata": {
        "id": "n8JEavAVnLfL"
      }
    },
    {
      "cell_type": "code",
      "source": [
        "A1 = None # @param {type:\"number\"}\n",
        "A2 = None # @param {type:\"number\"}\n",
        "A3 = None # @param {type:\"number\"}\n",
        "A4 = None # @param {type:\"number\"}\n",
        "A5 = None # @param {type:\"number\"}\n",
        "A6 = None # @param {type:\"number\"}\n",
        "A7 = None # @param {type:\"number\"}\n",
        "A8 = None # @param {type:\"number\"}\n",
        "A9 = None # @param {type:\"number\"}\n",
        "A10 = None # @param {type:\"number\"}"
      ],
      "metadata": {
        "id": "kArF3v-aaWzE"
      },
      "execution_count": null,
      "outputs": []
    },
    {
      "cell_type": "code",
      "source": [
        "import matplotlib.pyplot as plt\n",
        "import numpy as np\n",
        "\n",
        "A=[A1,A2,A3,A4,A5,A6,A7,A8,A9,A10]\n",
        "\n",
        "bin_list = np.array([2.000, 2.500, 3.000, 3.500, 4.000])\n",
        "\n",
        "plt.hist(A,bins=np.subtract(bin_list,0.05), color='darkseagreen', edgecolor = 'black', log=False)\n",
        "plt.title(\"Mass Distribution of 10 US Pennies\")\n",
        "plt.xlabel(\"mass (g)\")\n",
        "plt.ylabel(\"number of events\")\n",
        "plt.grid(False);"
      ],
      "metadata": {
        "colab": {
          "base_uri": "https://localhost:8080/",
          "height": 788
        },
        "id": "vrh7ljMDjMA3",
        "outputId": "25e09c72-2789-436f-86ac-a5ce2b2360c0"
      },
      "execution_count": null,
      "outputs": [
        {
          "output_type": "error",
          "ename": "TypeError",
          "evalue": "'<=' not supported between instances of 'NoneType' and 'NoneType'",
          "traceback": [
            "\u001b[0;31m---------------------------------------------------------------------------\u001b[0m",
            "\u001b[0;31mTypeError\u001b[0m                                 Traceback (most recent call last)",
            "\u001b[0;32m/tmp/ipython-input-9-2200811026.py\u001b[0m in \u001b[0;36m<cell line: 0>\u001b[0;34m()\u001b[0m\n\u001b[1;32m      4\u001b[0m \u001b[0mA\u001b[0m\u001b[0;34m=\u001b[0m\u001b[0;34m[\u001b[0m\u001b[0mA1\u001b[0m\u001b[0;34m,\u001b[0m\u001b[0mA2\u001b[0m\u001b[0;34m,\u001b[0m\u001b[0mA3\u001b[0m\u001b[0;34m,\u001b[0m\u001b[0mA4\u001b[0m\u001b[0;34m,\u001b[0m\u001b[0mA5\u001b[0m\u001b[0;34m,\u001b[0m\u001b[0mA6\u001b[0m\u001b[0;34m,\u001b[0m\u001b[0mA7\u001b[0m\u001b[0;34m,\u001b[0m\u001b[0mA8\u001b[0m\u001b[0;34m,\u001b[0m\u001b[0mA9\u001b[0m\u001b[0;34m,\u001b[0m\u001b[0mA10\u001b[0m\u001b[0;34m]\u001b[0m\u001b[0;34m\u001b[0m\u001b[0;34m\u001b[0m\u001b[0m\n\u001b[1;32m      5\u001b[0m \u001b[0mbin_list\u001b[0m \u001b[0;34m=\u001b[0m \u001b[0mnp\u001b[0m\u001b[0;34m.\u001b[0m\u001b[0marray\u001b[0m\u001b[0;34m(\u001b[0m\u001b[0;34m[\u001b[0m\u001b[0;36m2.000\u001b[0m\u001b[0;34m,\u001b[0m \u001b[0;36m2.500\u001b[0m\u001b[0;34m,\u001b[0m \u001b[0;36m3.000\u001b[0m\u001b[0;34m,\u001b[0m \u001b[0;36m3.500\u001b[0m\u001b[0;34m]\u001b[0m\u001b[0;34m)\u001b[0m\u001b[0;34m\u001b[0m\u001b[0;34m\u001b[0m\u001b[0m\n\u001b[0;32m----> 6\u001b[0;31m \u001b[0mplt\u001b[0m\u001b[0;34m.\u001b[0m\u001b[0mhist\u001b[0m\u001b[0;34m(\u001b[0m\u001b[0mA\u001b[0m\u001b[0;34m,\u001b[0m\u001b[0mbins\u001b[0m\u001b[0;34m=\u001b[0m\u001b[0mnp\u001b[0m\u001b[0;34m.\u001b[0m\u001b[0msubtract\u001b[0m\u001b[0;34m(\u001b[0m\u001b[0mbin_list\u001b[0m\u001b[0;34m,\u001b[0m\u001b[0;36m0.05\u001b[0m\u001b[0;34m)\u001b[0m\u001b[0;34m,\u001b[0m \u001b[0mcolor\u001b[0m\u001b[0;34m=\u001b[0m\u001b[0;34m'lightblue'\u001b[0m\u001b[0;34m,\u001b[0m \u001b[0medgecolor\u001b[0m \u001b[0;34m=\u001b[0m \u001b[0;34m'black'\u001b[0m\u001b[0;34m,\u001b[0m \u001b[0mlog\u001b[0m\u001b[0;34m=\u001b[0m\u001b[0;32mFalse\u001b[0m\u001b[0;34m)\u001b[0m\u001b[0;34m\u001b[0m\u001b[0;34m\u001b[0m\u001b[0m\n\u001b[0m\u001b[1;32m      7\u001b[0m \u001b[0mplt\u001b[0m\u001b[0;34m.\u001b[0m\u001b[0mtitle\u001b[0m\u001b[0;34m(\u001b[0m\u001b[0;34m\"What are we measuring?\"\u001b[0m\u001b[0;34m)\u001b[0m\u001b[0;34m\u001b[0m\u001b[0;34m\u001b[0m\u001b[0m\n\u001b[1;32m      8\u001b[0m \u001b[0mplt\u001b[0m\u001b[0;34m.\u001b[0m\u001b[0mxlabel\u001b[0m\u001b[0;34m(\u001b[0m\u001b[0;34m\"mass (g)\"\u001b[0m\u001b[0;34m)\u001b[0m\u001b[0;34m\u001b[0m\u001b[0;34m\u001b[0m\u001b[0m\n",
            "\u001b[0;32m/usr/local/lib/python3.11/dist-packages/matplotlib/_api/deprecation.py\u001b[0m in \u001b[0;36mwrapper\u001b[0;34m(*args, **kwargs)\u001b[0m\n\u001b[1;32m    451\u001b[0m                 \u001b[0;34m\"parameter will become keyword-only in %(removal)s.\"\u001b[0m\u001b[0;34m,\u001b[0m\u001b[0;34m\u001b[0m\u001b[0;34m\u001b[0m\u001b[0m\n\u001b[1;32m    452\u001b[0m                 name=name, obj_type=f\"parameter of {func.__name__}()\")\n\u001b[0;32m--> 453\u001b[0;31m         \u001b[0;32mreturn\u001b[0m \u001b[0mfunc\u001b[0m\u001b[0;34m(\u001b[0m\u001b[0;34m*\u001b[0m\u001b[0margs\u001b[0m\u001b[0;34m,\u001b[0m \u001b[0;34m**\u001b[0m\u001b[0mkwargs\u001b[0m\u001b[0;34m)\u001b[0m\u001b[0;34m\u001b[0m\u001b[0;34m\u001b[0m\u001b[0m\n\u001b[0m\u001b[1;32m    454\u001b[0m \u001b[0;34m\u001b[0m\u001b[0m\n\u001b[1;32m    455\u001b[0m     \u001b[0;31m# Don't modify *func*'s signature, as boilerplate.py needs it.\u001b[0m\u001b[0;34m\u001b[0m\u001b[0;34m\u001b[0m\u001b[0m\n",
            "\u001b[0;32m/usr/local/lib/python3.11/dist-packages/matplotlib/pyplot.py\u001b[0m in \u001b[0;36mhist\u001b[0;34m(x, bins, range, density, weights, cumulative, bottom, histtype, align, orientation, rwidth, log, color, label, stacked, data, **kwargs)\u001b[0m\n\u001b[1;32m   3467\u001b[0m     \u001b[0mBarContainer\u001b[0m \u001b[0;34m|\u001b[0m \u001b[0mPolygon\u001b[0m \u001b[0;34m|\u001b[0m \u001b[0mlist\u001b[0m\u001b[0;34m[\u001b[0m\u001b[0mBarContainer\u001b[0m \u001b[0;34m|\u001b[0m \u001b[0mPolygon\u001b[0m\u001b[0;34m]\u001b[0m\u001b[0;34m,\u001b[0m\u001b[0;34m\u001b[0m\u001b[0;34m\u001b[0m\u001b[0m\n\u001b[1;32m   3468\u001b[0m ]:\n\u001b[0;32m-> 3469\u001b[0;31m     return gca().hist(\n\u001b[0m\u001b[1;32m   3470\u001b[0m         \u001b[0mx\u001b[0m\u001b[0;34m,\u001b[0m\u001b[0;34m\u001b[0m\u001b[0;34m\u001b[0m\u001b[0m\n\u001b[1;32m   3471\u001b[0m         \u001b[0mbins\u001b[0m\u001b[0;34m=\u001b[0m\u001b[0mbins\u001b[0m\u001b[0;34m,\u001b[0m\u001b[0;34m\u001b[0m\u001b[0;34m\u001b[0m\u001b[0m\n",
            "\u001b[0;32m/usr/local/lib/python3.11/dist-packages/matplotlib/_api/deprecation.py\u001b[0m in \u001b[0;36mwrapper\u001b[0;34m(*args, **kwargs)\u001b[0m\n\u001b[1;32m    451\u001b[0m                 \u001b[0;34m\"parameter will become keyword-only in %(removal)s.\"\u001b[0m\u001b[0;34m,\u001b[0m\u001b[0;34m\u001b[0m\u001b[0;34m\u001b[0m\u001b[0m\n\u001b[1;32m    452\u001b[0m                 name=name, obj_type=f\"parameter of {func.__name__}()\")\n\u001b[0;32m--> 453\u001b[0;31m         \u001b[0;32mreturn\u001b[0m \u001b[0mfunc\u001b[0m\u001b[0;34m(\u001b[0m\u001b[0;34m*\u001b[0m\u001b[0margs\u001b[0m\u001b[0;34m,\u001b[0m \u001b[0;34m**\u001b[0m\u001b[0mkwargs\u001b[0m\u001b[0;34m)\u001b[0m\u001b[0;34m\u001b[0m\u001b[0;34m\u001b[0m\u001b[0m\n\u001b[0m\u001b[1;32m    454\u001b[0m \u001b[0;34m\u001b[0m\u001b[0m\n\u001b[1;32m    455\u001b[0m     \u001b[0;31m# Don't modify *func*'s signature, as boilerplate.py needs it.\u001b[0m\u001b[0;34m\u001b[0m\u001b[0;34m\u001b[0m\u001b[0m\n",
            "\u001b[0;32m/usr/local/lib/python3.11/dist-packages/matplotlib/__init__.py\u001b[0m in \u001b[0;36minner\u001b[0;34m(ax, data, *args, **kwargs)\u001b[0m\n\u001b[1;32m   1519\u001b[0m     \u001b[0;32mdef\u001b[0m \u001b[0minner\u001b[0m\u001b[0;34m(\u001b[0m\u001b[0max\u001b[0m\u001b[0;34m,\u001b[0m \u001b[0;34m*\u001b[0m\u001b[0margs\u001b[0m\u001b[0;34m,\u001b[0m \u001b[0mdata\u001b[0m\u001b[0;34m=\u001b[0m\u001b[0;32mNone\u001b[0m\u001b[0;34m,\u001b[0m \u001b[0;34m**\u001b[0m\u001b[0mkwargs\u001b[0m\u001b[0;34m)\u001b[0m\u001b[0;34m:\u001b[0m\u001b[0;34m\u001b[0m\u001b[0;34m\u001b[0m\u001b[0m\n\u001b[1;32m   1520\u001b[0m         \u001b[0;32mif\u001b[0m \u001b[0mdata\u001b[0m \u001b[0;32mis\u001b[0m \u001b[0;32mNone\u001b[0m\u001b[0;34m:\u001b[0m\u001b[0;34m\u001b[0m\u001b[0;34m\u001b[0m\u001b[0m\n\u001b[0;32m-> 1521\u001b[0;31m             return func(\n\u001b[0m\u001b[1;32m   1522\u001b[0m                 \u001b[0max\u001b[0m\u001b[0;34m,\u001b[0m\u001b[0;34m\u001b[0m\u001b[0;34m\u001b[0m\u001b[0m\n\u001b[1;32m   1523\u001b[0m                 \u001b[0;34m*\u001b[0m\u001b[0mmap\u001b[0m\u001b[0;34m(\u001b[0m\u001b[0mcbook\u001b[0m\u001b[0;34m.\u001b[0m\u001b[0msanitize_sequence\u001b[0m\u001b[0;34m,\u001b[0m \u001b[0margs\u001b[0m\u001b[0;34m)\u001b[0m\u001b[0;34m,\u001b[0m\u001b[0;34m\u001b[0m\u001b[0;34m\u001b[0m\u001b[0m\n",
            "\u001b[0;32m/usr/local/lib/python3.11/dist-packages/matplotlib/axes/_axes.py\u001b[0m in \u001b[0;36mhist\u001b[0;34m(self, x, bins, range, density, weights, cumulative, bottom, histtype, align, orientation, rwidth, log, color, label, stacked, **kwargs)\u001b[0m\n\u001b[1;32m   7063\u001b[0m                     \u001b[0;31m# python's min/max ignore nan,\u001b[0m\u001b[0;34m\u001b[0m\u001b[0;34m\u001b[0m\u001b[0m\n\u001b[1;32m   7064\u001b[0m                     \u001b[0;31m# np.minnan returns nan for all nan input\u001b[0m\u001b[0;34m\u001b[0m\u001b[0;34m\u001b[0m\u001b[0m\n\u001b[0;32m-> 7065\u001b[0;31m                     \u001b[0mxmin\u001b[0m \u001b[0;34m=\u001b[0m \u001b[0mmin\u001b[0m\u001b[0;34m(\u001b[0m\u001b[0mxmin\u001b[0m\u001b[0;34m,\u001b[0m \u001b[0mnp\u001b[0m\u001b[0;34m.\u001b[0m\u001b[0mnanmin\u001b[0m\u001b[0;34m(\u001b[0m\u001b[0mxi\u001b[0m\u001b[0;34m)\u001b[0m\u001b[0;34m)\u001b[0m\u001b[0;34m\u001b[0m\u001b[0;34m\u001b[0m\u001b[0m\n\u001b[0m\u001b[1;32m   7066\u001b[0m                     \u001b[0mxmax\u001b[0m \u001b[0;34m=\u001b[0m \u001b[0mmax\u001b[0m\u001b[0;34m(\u001b[0m\u001b[0mxmax\u001b[0m\u001b[0;34m,\u001b[0m \u001b[0mnp\u001b[0m\u001b[0;34m.\u001b[0m\u001b[0mnanmax\u001b[0m\u001b[0;34m(\u001b[0m\u001b[0mxi\u001b[0m\u001b[0;34m)\u001b[0m\u001b[0;34m)\u001b[0m\u001b[0;34m\u001b[0m\u001b[0;34m\u001b[0m\u001b[0m\n\u001b[1;32m   7067\u001b[0m             \u001b[0;32mif\u001b[0m \u001b[0mxmin\u001b[0m \u001b[0;34m<=\u001b[0m \u001b[0mxmax\u001b[0m\u001b[0;34m:\u001b[0m  \u001b[0;31m# Only happens if we have seen a finite value.\u001b[0m\u001b[0;34m\u001b[0m\u001b[0;34m\u001b[0m\u001b[0m\n",
            "\u001b[0;32m/usr/local/lib/python3.11/dist-packages/numpy/lib/_nanfunctions_impl.py\u001b[0m in \u001b[0;36mnanmin\u001b[0;34m(a, axis, out, keepdims, initial, where)\u001b[0m\n\u001b[1;32m    365\u001b[0m         \u001b[0;31m# Slow, but safe for subclasses of ndarray\u001b[0m\u001b[0;34m\u001b[0m\u001b[0;34m\u001b[0m\u001b[0m\n\u001b[1;32m    366\u001b[0m         \u001b[0ma\u001b[0m\u001b[0;34m,\u001b[0m \u001b[0mmask\u001b[0m \u001b[0;34m=\u001b[0m \u001b[0m_replace_nan\u001b[0m\u001b[0;34m(\u001b[0m\u001b[0ma\u001b[0m\u001b[0;34m,\u001b[0m \u001b[0;34m+\u001b[0m\u001b[0mnp\u001b[0m\u001b[0;34m.\u001b[0m\u001b[0minf\u001b[0m\u001b[0;34m)\u001b[0m\u001b[0;34m\u001b[0m\u001b[0;34m\u001b[0m\u001b[0m\n\u001b[0;32m--> 367\u001b[0;31m         \u001b[0mres\u001b[0m \u001b[0;34m=\u001b[0m \u001b[0mnp\u001b[0m\u001b[0;34m.\u001b[0m\u001b[0mamin\u001b[0m\u001b[0;34m(\u001b[0m\u001b[0ma\u001b[0m\u001b[0;34m,\u001b[0m \u001b[0maxis\u001b[0m\u001b[0;34m=\u001b[0m\u001b[0maxis\u001b[0m\u001b[0;34m,\u001b[0m \u001b[0mout\u001b[0m\u001b[0;34m=\u001b[0m\u001b[0mout\u001b[0m\u001b[0;34m,\u001b[0m \u001b[0;34m**\u001b[0m\u001b[0mkwargs\u001b[0m\u001b[0;34m)\u001b[0m\u001b[0;34m\u001b[0m\u001b[0;34m\u001b[0m\u001b[0m\n\u001b[0m\u001b[1;32m    368\u001b[0m         \u001b[0;32mif\u001b[0m \u001b[0mmask\u001b[0m \u001b[0;32mis\u001b[0m \u001b[0;32mNone\u001b[0m\u001b[0;34m:\u001b[0m\u001b[0;34m\u001b[0m\u001b[0;34m\u001b[0m\u001b[0m\n\u001b[1;32m    369\u001b[0m             \u001b[0;32mreturn\u001b[0m \u001b[0mres\u001b[0m\u001b[0;34m\u001b[0m\u001b[0;34m\u001b[0m\u001b[0m\n",
            "\u001b[0;32m/usr/local/lib/python3.11/dist-packages/numpy/_core/fromnumeric.py\u001b[0m in \u001b[0;36mamin\u001b[0;34m(a, axis, out, keepdims, initial, where)\u001b[0m\n\u001b[1;32m   3057\u001b[0m     \u001b[0mndarray\u001b[0m\u001b[0;34m.\u001b[0m\u001b[0mmin\u001b[0m \u001b[0;34m:\u001b[0m \u001b[0mequivalent\u001b[0m \u001b[0mmethod\u001b[0m\u001b[0;34m\u001b[0m\u001b[0;34m\u001b[0m\u001b[0m\n\u001b[1;32m   3058\u001b[0m     \"\"\"\n\u001b[0;32m-> 3059\u001b[0;31m     return _wrapreduction(a, np.minimum, 'min', axis, None, out,\n\u001b[0m\u001b[1;32m   3060\u001b[0m                           keepdims=keepdims, initial=initial, where=where)\n\u001b[1;32m   3061\u001b[0m \u001b[0;34m\u001b[0m\u001b[0m\n",
            "\u001b[0;32m/usr/local/lib/python3.11/dist-packages/numpy/_core/fromnumeric.py\u001b[0m in \u001b[0;36m_wrapreduction\u001b[0;34m(obj, ufunc, method, axis, dtype, out, **kwargs)\u001b[0m\n\u001b[1;32m     84\u001b[0m                 \u001b[0;32mreturn\u001b[0m \u001b[0mreduction\u001b[0m\u001b[0;34m(\u001b[0m\u001b[0maxis\u001b[0m\u001b[0;34m=\u001b[0m\u001b[0maxis\u001b[0m\u001b[0;34m,\u001b[0m \u001b[0mout\u001b[0m\u001b[0;34m=\u001b[0m\u001b[0mout\u001b[0m\u001b[0;34m,\u001b[0m \u001b[0;34m**\u001b[0m\u001b[0mpasskwargs\u001b[0m\u001b[0;34m)\u001b[0m\u001b[0;34m\u001b[0m\u001b[0;34m\u001b[0m\u001b[0m\n\u001b[1;32m     85\u001b[0m \u001b[0;34m\u001b[0m\u001b[0m\n\u001b[0;32m---> 86\u001b[0;31m     \u001b[0;32mreturn\u001b[0m \u001b[0mufunc\u001b[0m\u001b[0;34m.\u001b[0m\u001b[0mreduce\u001b[0m\u001b[0;34m(\u001b[0m\u001b[0mobj\u001b[0m\u001b[0;34m,\u001b[0m \u001b[0maxis\u001b[0m\u001b[0;34m,\u001b[0m \u001b[0mdtype\u001b[0m\u001b[0;34m,\u001b[0m \u001b[0mout\u001b[0m\u001b[0;34m,\u001b[0m \u001b[0;34m**\u001b[0m\u001b[0mpasskwargs\u001b[0m\u001b[0;34m)\u001b[0m\u001b[0;34m\u001b[0m\u001b[0;34m\u001b[0m\u001b[0m\n\u001b[0m\u001b[1;32m     87\u001b[0m \u001b[0;34m\u001b[0m\u001b[0m\n\u001b[1;32m     88\u001b[0m \u001b[0;34m\u001b[0m\u001b[0m\n",
            "\u001b[0;31mTypeError\u001b[0m: '<=' not supported between instances of 'NoneType' and 'NoneType'"
          ]
        },
        {
          "output_type": "display_data",
          "data": {
            "text/plain": [
              "<Figure size 640x480 with 1 Axes>"
            ],
            "image/png": "[encoded data removed]"
          },
          "metadata": {}
        }
      ]
    },
    {
      "cell_type": "markdown",
      "source": [
        "It looks like there is a peak in the middle of our histogram."
      ],
      "metadata": {
        "id": "lIR_v_MDuObC"
      }
    },
    {
      "cell_type": "markdown",
      "source": [
        "##Learning Check\n",
        "\n",
        "- What is the mass range of the bar in the middle?\n",
        "\n",
        "- How many pennies have that mass range?\n",
        "\n",
        "- How does your digital histogram compare to your sticky note histogram?"
      ],
      "metadata": {
        "id": "xrb-Yx_LuWOL"
      }
    },
    {
      "cell_type": "markdown",
      "source": [
        "We measured our pennies to the nearest 0.1 g. It might be a good idea to show our data in terms of the number of pennies for that mass range as well.\n",
        "\n",
        "Let's change the size of our bin width from 0.5 to 0.1."
      ],
      "metadata": {
        "id": "WgFuHqYIvZe9"
      }
    },
    {
      "cell_type": "code",
      "source": [
        "A=[A1,A2,A3,A4,A5,A6,A7,A8,A9,A10]\n",
        "\n",
        "#This code creates bins that are 0.1 wide.\n",
        "myBins = []\n",
        "i = 0\n",
        "while (i <=4):\n",
        "  myBins.append(round(i,1))\n",
        "  i = i + 0.1\n",
        "\n",
        "bin_list = myBins\n",
        "\n",
        "#Add code below to create a new histogram"
      ],
      "metadata": {
        "id": "VDTW7wfWjGOW"
      },
      "execution_count": null,
      "outputs": []
    },
    {
      "cell_type": "markdown",
      "source": [
        "##Learning Check\n",
        "\n",
        "- What is the mass range of the bar in the middle?\n",
        "\n",
        "- How many pennies have that mass range?\n",
        "\n",
        "- How does your digital histogram compare to your sticky note histogram?"
      ],
      "metadata": {
        "id": "OBvjqMcvwo4a"
      }
    },
    {
      "cell_type": "markdown",
      "source": [
        "#More Data\n",
        "This histogram was made with only ten data points. While we can draw some conclustions based on these results, we can often get a better picture if we add more data.\n",
        "\n",
        "Now make a histogram using all of the class data.\n",
        "\n",
        "In the first line, after the A10, but inside the bracket, type in all of the data that the other groups in the class collected. Separate each number with a comma."
      ],
      "metadata": {
        "id": "LO5DGQuk23J3"
      }
    },
    {
      "cell_type": "code",
      "source": [
        "#Create a histogram of your data plus the data from\n",
        "All=[A1,A2,A3,A4,A5,A6,A7,A8,A9,A10, type the other results here!]\n",
        "\n",
        "#Add code below to create a new histogram"
      ],
      "metadata": {
        "id": "mYRNiIxwxgGG"
      },
      "execution_count": null,
      "outputs": []
    },
    {
      "cell_type": "markdown",
      "source": [
        "##Learning Check\n",
        "\n",
        "Answer the following questions on another sheet of paper. Show all calculations.\n",
        "1. Describe the masses of the pennies in your set. Be as specific as you can.\n",
        "2. Describe the masses of the pennies in the class set. Are there any differences between your set of data and the class set?\n",
        "3. Can you suggest an explanation for the mass distribution that you see? What evidence can you provide to support your explanation?\n",
        "4. Are there more pennies from more recent years or from prior years? Can you suggest an explanation for this? How would you test this idea?\n",
        "5. Which year is represented by the most pennies? By the second most? By the third most?\n",
        "6. What conclusion can you draw based on the evidence provided by your two histograms?\n",
        "7. What additional measurements might you make to learn more? What tools might you need?"
      ],
      "metadata": {
        "id": "Yumk9fd53ivF"
      }
    },
    {
      "cell_type": "markdown",
      "source": [
        "#Lots of Data\n",
        "\n",
        "You may have noticed that the more sticky notes you added to your histogram, the more patterns began to emerge. Let's see if we can get an even better picture with a very large data set."
      ],
      "metadata": {
        "id": "VRnd5p6HXhhG"
      }
    },
    {
      "cell_type": "markdown",
      "source": [
        "First, we will need to import a few libraries. We need pandas so we can read our data file."
      ],
      "metadata": {
        "id": "NYxa7Iy834mn"
      }
    },
    {
      "cell_type": "code",
      "source": [
        "import pandas as pd\n",
        "import matplotlib as mpl"
      ],
      "metadata": {
        "id": "F49NP-nPlZzv"
      },
      "execution_count": null,
      "outputs": []
    },
    {
      "cell_type": "markdown",
      "source": [
        "The next thing we need is our data. The information we want to use is stored as a csv file in excel. We want to import this into our notebook.\n",
        "\n",
        "The pandas library is what allows us to be able to read the csv file stored on github."
      ],
      "metadata": {
        "id": "LB-iAo1dlm-v"
      }
    },
    {
      "cell_type": "code",
      "source": [
        "data = pd.read_csv(\"https://github.com/tracieschroeder/data-files/raw/main/Penny_Mass_Data_Set.csv\")"
      ],
      "metadata": {
        "id": "lk53qFUMlx4g"
      },
      "execution_count": null,
      "outputs": []
    },
    {
      "cell_type": "markdown",
      "source": [
        "##Learning Check\n",
        "- What did we name our data set?"
      ],
      "metadata": {
        "id": "FUlVOOIq5t5g"
      }
    },
    {
      "cell_type": "markdown",
      "source": [
        "Where is our data? Why can't we see anything?\n",
        "\n",
        "We haven't told the computer to print it yet. Remove the hashtag below and play that cell."
      ],
      "metadata": {
        "id": "dDQ27gXi5k0J"
      }
    },
    {
      "cell_type": "code",
      "source": [
        "#data.head(5)"
      ],
      "metadata": {
        "id": "cXlQzs7BobGY"
      },
      "execution_count": null,
      "outputs": []
    },
    {
      "cell_type": "code",
      "source": [
        "data.shape"
      ],
      "metadata": {
        "colab": {
          "base_uri": "https://localhost:8080/"
        },
        "id": "70zU-Ah349I6",
        "outputId": "e6cef6cd-bb2b-4327-ed9c-3d00f337ecdf"
      },
      "execution_count": null,
      "outputs": [
        {
          "output_type": "execute_result",
          "data": {
            "text/plain": [
              "(1061, 3)"
            ]
          },
          "metadata": {},
          "execution_count": 19
        }
      ]
    },
    {
      "cell_type": "markdown",
      "source": [
        "Look at the two numbers in parentheses just below the data.shape command. There are 1061 rows of data in this set. Why did the computer not print them all?\n",
        "\n",
        "Go back up and change the command to data.head(10) after the data command.\n",
        "\n",
        "What happens to our data table?"
      ],
      "metadata": {
        "id": "BmhifGR_ojMD"
      }
    },
    {
      "cell_type": "markdown",
      "source": [
        "#One More Histogram\n",
        "\n",
        "Matplotlib is the library we are going to use to create a histogram of our penny data.\n",
        "\n",
        "Notice the difference in the command used to make this histogram. What do you think might be missing in this iteration?\n"
      ],
      "metadata": {
        "id": "9IlsEX_tpfs_"
      }
    },
    {
      "cell_type": "code",
      "source": [
        "#There is some code to be added here.\n",
        "\n",
        "plt.hist(data['Mass'],bins=np.subtract(bin_list,0.01), color='purple', edgecolor = 'black')\n",
        "\n",
        "#Also code here"
      ],
      "metadata": {
        "id": "IhQnXju4poBy"
      },
      "execution_count": null,
      "outputs": []
    },
    {
      "cell_type": "markdown",
      "source": [
        "If we go back up to our data table, we see we have three columns. Year, Mass, Mint. We could plot any of these, but for this round, we went with Mass. Instead of plotting mass, we could also plot the year or the location. Do either of these things correlate to the mass? What might that say about the mass of the penny?\n",
        "\n",
        "Try changing the number of bins to 20. How does that change each peak location? How does it change the number of events for each bin?"
      ],
      "metadata": {
        "id": "Z0hWLUYb5i1q"
      }
    },
    {
      "cell_type": "markdown",
      "source": [
        "##Extension\n",
        "If other characteristics were recorded, you might construct histograms for these results. In some cases, you\n",
        "may get more insight by trying “scatter plots” or A vs B type graphs. A graph of mass as a function of one\n",
        "of the other quantities you measured would be a scatter plot. What conclusion can you draw from your new\n",
        "plots? Did any of the new plots contribute to your conclusions? How?"
      ],
      "metadata": {
        "id": "TXiN_ODnh7xk"
      }
    },
    {
      "cell_type": "markdown",
      "source": [
        "This notebook was designed by [Quarknet](https://quarknet.org/) Coding Fellow [Tracie Schroeder](https://github.com/tracieschroeder) with a couple crucial coding hints from Mike Plucinkski.\n",
        "\n",
        "\n",
        "\n",
        "\n",
        "Shield: [![CC BY-NC-SA 4.0][cc-by-nc-sa-shield]][cc-by-nc-sa]\n",
        "\n",
        "This work is licensed under a\n",
        "[Creative Commons Attribution-NonCommercial-ShareAlike 4.0 International License][cc-by-nc-sa].\n",
        "\n",
        "[![CC BY-NC-SA 4.0][cc-by-nc-sa-image]][cc-by-nc-sa]\n",
        "\n",
        "[cc-by-nc-sa]: http://creativecommons.org/licenses/by-nc-sa/4.0/\n",
        "[cc-by-nc-sa-image]: https://licensebuttons.net/l/by-nc-sa/4.0/88x31.png\n",
        "[cc-by-nc-sa-shield]: https://img.shields.io/badge/License-CC%20BY--NC--SA%204.0-lightgrey.svg\n"
      ],
      "metadata": {
        "id": "hlgsV7bo43M0"
      }
    }
  ]
}