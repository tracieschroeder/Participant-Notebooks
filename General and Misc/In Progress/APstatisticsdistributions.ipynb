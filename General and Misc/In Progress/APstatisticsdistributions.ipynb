{
  "nbformat": 4,
  "nbformat_minor": 0,
  "metadata": {
    "colab": {
      "provenance": [],
      "include_colab_link": true
    },
    "kernelspec": {
      "name": "python3",
      "display_name": "Python 3"
    },
    "language_info": {
      "name": "python"
    }
  },
  "cells": [
    {
      "cell_type": "markdown",
      "metadata": {
        "id": "view-in-github",
        "colab_type": "text"
      },
      "source": [
        "<a href=\"https://colab.research.google.com/github/tracieschroeder/Participant-Notebooks/blob/main/General%20and%20Misc/In%20Progress/APstatisticsdistributions.ipynb\" target=\"_parent\"><img src=\"https://colab.research.google.com/assets/colab-badge.svg\" alt=\"Open In Colab\"/></a>"
      ]
    },
    {
      "cell_type": "markdown",
      "source": [
        "## Survey Time!\n",
        "##Research Question: How much time do TA high school students spend on their phone?\n",
        "\n",
        "**After we collect the data from this survey we will be untilizing it for analysis in different units throughout the school year, so don't lose your original data!**\n",
        "\n",
        "\n",
        "To get started:\n",
        "\n",
        "\n",
        "\n",
        "*   Before moving on, please save a copy of this activity in your own Google Drive.\n",
        "*   If you go to File --> Save Copy in Drive it will save directly to your Colab folder. Even if you didn't have one before, it'll make one for you!\n",
        "*You won't hurt anything by experimenting. If you break it, close the tab and open the activity again to start over.\n",
        "*PLEASE COMPLETE THIS PRE-LAB ACTIVITY BEFORE CLASS so that this notebook doesn't look crazy to you. Try the 5-minute [Intro to Coding ](https://colab.research.google.com/github/adamlamee/CODINGinK12/blob/master/notebooks/intro.ipynb)activity and come back here.\n",
        "\n",
        "\n"
      ],
      "metadata": {
        "id": "ShN-E-tnPfV8"
      }
    },
    {
      "cell_type": "markdown",
      "source": [
        "##PART 1: Sampling and Data Collection\n",
        "\n",
        "You and your partner(s) must choose a sampling procedure to collect data. Don't remember the different types of sampling? Refresh your memory [here](https://library.fiveable.me/ap-stats/unit-3). You will collect more data than will be used in this particular exercise and we will approach other variables at a later date in the course.\n",
        "\n",
        "THINK:\n",
        "\n",
        "* Which sampling method will you use and why?  \n",
        "* What is your desired n? NOTE: there are around 140 students in the HS\n",
        "* How/who/when will you collect data?\n",
        "\n",
        "**IMPORTANT:You will ask students to estimate their average daily screen time AND make them pull up their daily average use in settings on their phone**\n",
        "\n",
        "KNOW THE DIFFERENCE AND KEEP TRACK\n",
        "\n",
        "COLLECT Survey Responses in this [google sheet](https://docs.google.com/spreadsheets/d/1hwFe-MEQVcP--0VxXlRqtfPDkODMN0O9yzvXgFJHj7A/edit?gid=0#gid=0)\n"
      ],
      "metadata": {
        "id": "niX1qrOjVl8B"
      }
    },
    {
      "cell_type": "markdown",
      "source": [
        "#Part 2: Data Cleaning\n",
        "\n",
        "SO you have collected your data! Congrats!\n",
        "The next step is cleaning your data and making sure the formating and units for your variables are correct and consistent. The data headings in the sheet will stay the same, but you might need to make sure time spent is in minutes, grades are coded numerically, etc.\n"
      ],
      "metadata": {
        "id": "BhHX7WtLlo_e"
      }
    },
    {
      "cell_type": "code",
      "source": [
        "#this just imports libraries that we will need to perform and code data analysis later\n",
        "import pandas as pd\n",
        "import numpy as np\n",
        "import matplotlib as mpl\n",
        "import matplotlib.pyplot as plt"
      ],
      "metadata": {
        "id": "KKJwtAb1UYv2"
      },
      "execution_count": null,
      "outputs": []
    },
    {
      "cell_type": "markdown",
      "source": [
        "You need to pull your data into Python so you can work on visualizing and explaining the distribution."
      ],
      "metadata": {
        "id": "6ki6O-1zR41D"
      }
    },
    {
      "cell_type": "code",
      "source": [
        "#Running this cell is the first step in getting data from a Google Sheet\n",
        "#When you run this you will have to agree to some Google permissions\n",
        "from google.colab import drive\n",
        "drive.mount('/content/drive')"
      ],
      "metadata": {
        "colab": {
          "base_uri": "https://localhost:8080/"
        },
        "id": "Rk_c7qeneGBe",
        "outputId": "480627c2-77dd-4ae7-f863-f45a4f8351fd"
      },
      "execution_count": null,
      "outputs": [
        {
          "output_type": "stream",
          "name": "stdout",
          "text": [
            "Mounted at /content/drive\n"
          ]
        }
      ]
    },
    {
      "cell_type": "markdown",
      "source": [
        "Now that we have connected Colab to Sheets we need to access a specific sheet in your drive and pull data from it.\n",
        "\n",
        "To do this:\n",
        "\n",
        "Copy and paste the sheet link into the next cell where it says 'paste link here'. Keep the quotes.\n",
        "\n",
        "Replace the last portion of the link (edit?gid=0#gid=0) with (export?format=csv). This tells the computer that instead of editing the sheet, it is pulling the data from it.\n",
        "\n",
        "Call the data something. 'df' is short for dataframe. It is the variable we are going to use to represent our data. Any time you reference the data, you will use this variable."
      ],
      "metadata": {
        "id": "IHQMHp-peMnJ"
      }
    },
    {
      "cell_type": "code",
      "source": [
        "\n",
        "df = pd.read_csv('https://docs.google.com/spreadsheets/d/1hwFe-MEQVcP--0VxXlRqtfPDkODMN0O9yzvXgFJHj7A/export?format=csv')\n",
        "df.head()\n",
        "#the sheet has some made up data in it so that you can see the values we will collect in the survey\n",
        "#time estimates are in minutes, so double check your data entry/cleaning"
      ],
      "metadata": {
        "colab": {
          "base_uri": "https://localhost:8080/",
          "height": 204
        },
        "id": "NIeIKdvaeHUi",
        "outputId": "850ecc25-9da1-4697-ea00-8cfd9172cea3"
      },
      "execution_count": null,
      "outputs": [
        {
          "output_type": "execute_result",
          "data": {
            "text/plain": [
              "   participant_NO gender  grade  age  dailyAVGestimated  dailyAVGobserved  \\\n",
              "0               1      f      9   14                 50               200   \n",
              "1               2      f      9   14                200               220   \n",
              "2               3      m      9   13                 75               400   \n",
              "3               4      m     10   14                300               600   \n",
              "4               5      m     10   14                 60               120   \n",
              "\n",
              "  musicuse  \n",
              "0        n  \n",
              "1        n  \n",
              "2        n  \n",
              "3        y  \n",
              "4        n  "
            ],
            "text/html": [
              "\n",
              "  <div id=\"df-dd08c0c9-fc32-45b8-814e-51858d282446\" class=\"colab-df-container\">\n",
              "    <div>\n",
              "<style scoped>\n",
              "    .dataframe tbody tr th:only-of-type {\n",
              "        vertical-align: middle;\n",
              "    }\n",
              "\n",
              "    .dataframe tbody tr th {\n",
              "        vertical-align: top;\n",
              "    }\n",
              "\n",
              "    .dataframe thead th {\n",
              "        text-align: right;\n",
              "    }\n",
              "</style>\n",
              "<table border=\"1\" class=\"dataframe\">\n",
              "  <thead>\n",
              "    <tr style=\"text-align: right;\">\n",
              "      <th></th>\n",
              "      <th>participant_NO</th>\n",
              "      <th>gender</th>\n",
              "      <th>grade</th>\n",
              "      <th>age</th>\n",
              "      <th>dailyAVGestimated</th>\n",
              "      <th>dailyAVGobserved</th>\n",
              "      <th>musicuse</th>\n",
              "    </tr>\n",
              "  </thead>\n",
              "  <tbody>\n",
              "    <tr>\n",
              "      <th>0</th>\n",
              "      <td>1</td>\n",
              "      <td>f</td>\n",
              "      <td>9</td>\n",
              "      <td>14</td>\n",
              "      <td>50</td>\n",
              "      <td>200</td>\n",
              "      <td>n</td>\n",
              "    </tr>\n",
              "    <tr>\n",
              "      <th>1</th>\n",
              "      <td>2</td>\n",
              "      <td>f</td>\n",
              "      <td>9</td>\n",
              "      <td>14</td>\n",
              "      <td>200</td>\n",
              "      <td>220</td>\n",
              "      <td>n</td>\n",
              "    </tr>\n",
              "    <tr>\n",
              "      <th>2</th>\n",
              "      <td>3</td>\n",
              "      <td>m</td>\n",
              "      <td>9</td>\n",
              "      <td>13</td>\n",
              "      <td>75</td>\n",
              "      <td>400</td>\n",
              "      <td>n</td>\n",
              "    </tr>\n",
              "    <tr>\n",
              "      <th>3</th>\n",
              "      <td>4</td>\n",
              "      <td>m</td>\n",
              "      <td>10</td>\n",
              "      <td>14</td>\n",
              "      <td>300</td>\n",
              "      <td>600</td>\n",
              "      <td>y</td>\n",
              "    </tr>\n",
              "    <tr>\n",
              "      <th>4</th>\n",
              "      <td>5</td>\n",
              "      <td>m</td>\n",
              "      <td>10</td>\n",
              "      <td>14</td>\n",
              "      <td>60</td>\n",
              "      <td>120</td>\n",
              "      <td>n</td>\n",
              "    </tr>\n",
              "  </tbody>\n",
              "</table>\n",
              "</div>\n",
              "    <div class=\"colab-df-buttons\">\n",
              "\n",
              "  <div class=\"colab-df-container\">\n",
              "    <button class=\"colab-df-convert\" onclick=\"convertToInteractive('df-dd08c0c9-fc32-45b8-814e-51858d282446')\"\n",
              "            title=\"Convert this dataframe to an interactive table.\"\n",
              "            style=\"display:none;\">\n",
              "\n",
              "  <svg xmlns=\"http://www.w3.org/2000/svg\" height=\"24px\" viewBox=\"0 -960 960 960\">\n",
              "    <path d=\"M120-120v-720h720v720H120Zm60-500h600v-160H180v160Zm220 220h160v-160H400v160Zm0 220h160v-160H400v160ZM180-400h160v-160H180v160Zm440 0h160v-160H620v160ZM180-180h160v-160H180v160Zm440 0h160v-160H620v160Z\"/>\n",
              "  </svg>\n",
              "    </button>\n",
              "\n",
              "  <style>\n",
              "    .colab-df-container {\n",
              "      display:flex;\n",
              "      gap: 12px;\n",
              "    }\n",
              "\n",
              "    .colab-df-convert {\n",
              "      background-color: #E8F0FE;\n",
              "      border: none;\n",
              "      border-radius: 50%;\n",
              "      cursor: pointer;\n",
              "      display: none;\n",
              "      fill: #1967D2;\n",
              "      height: 32px;\n",
              "      padding: 0 0 0 0;\n",
              "      width: 32px;\n",
              "    }\n",
              "\n",
              "    .colab-df-convert:hover {\n",
              "      background-color: #E2EBFA;\n",
              "      box-shadow: 0px 1px 2px rgba(60, 64, 67, 0.3), 0px 1px 3px 1px rgba(60, 64, 67, 0.15);\n",
              "      fill: #174EA6;\n",
              "    }\n",
              "\n",
              "    .colab-df-buttons div {\n",
              "      margin-bottom: 4px;\n",
              "    }\n",
              "\n",
              "    [theme=dark] .colab-df-convert {\n",
              "      background-color: #3B4455;\n",
              "      fill: #D2E3FC;\n",
              "    }\n",
              "\n",
              "    [theme=dark] .colab-df-convert:hover {\n",
              "      background-color: #434B5C;\n",
              "      box-shadow: 0px 1px 3px 1px rgba(0, 0, 0, 0.15);\n",
              "      filter: drop-shadow(0px 1px 2px rgba(0, 0, 0, 0.3));\n",
              "      fill: #FFFFFF;\n",
              "    }\n",
              "  </style>\n",
              "\n",
              "    <script>\n",
              "      const buttonEl =\n",
              "        document.querySelector('#df-dd08c0c9-fc32-45b8-814e-51858d282446 button.colab-df-convert');\n",
              "      buttonEl.style.display =\n",
              "        google.colab.kernel.accessAllowed ? 'block' : 'none';\n",
              "\n",
              "      async function convertToInteractive(key) {\n",
              "        const element = document.querySelector('#df-dd08c0c9-fc32-45b8-814e-51858d282446');\n",
              "        const dataTable =\n",
              "          await google.colab.kernel.invokeFunction('convertToInteractive',\n",
              "                                                    [key], {});\n",
              "        if (!dataTable) return;\n",
              "\n",
              "        const docLinkHtml = 'Like what you see? Visit the ' +\n",
              "          '<a target=\"_blank\" href=https://colab.research.google.com/notebooks/data_table.ipynb>data table notebook</a>'\n",
              "          + ' to learn more about interactive tables.';\n",
              "        element.innerHTML = '';\n",
              "        dataTable['output_type'] = 'display_data';\n",
              "        await google.colab.output.renderOutput(dataTable, element);\n",
              "        const docLink = document.createElement('div');\n",
              "        docLink.innerHTML = docLinkHtml;\n",
              "        element.appendChild(docLink);\n",
              "      }\n",
              "    </script>\n",
              "  </div>\n",
              "\n",
              "\n",
              "    <div id=\"df-8270875d-0c27-46f7-baa0-950bb23137b6\">\n",
              "      <button class=\"colab-df-quickchart\" onclick=\"quickchart('df-8270875d-0c27-46f7-baa0-950bb23137b6')\"\n",
              "                title=\"Suggest charts\"\n",
              "                style=\"display:none;\">\n",
              "\n",
              "<svg xmlns=\"http://www.w3.org/2000/svg\" height=\"24px\"viewBox=\"0 0 24 24\"\n",
              "     width=\"24px\">\n",
              "    <g>\n",
              "        <path d=\"M19 3H5c-1.1 0-2 .9-2 2v14c0 1.1.9 2 2 2h14c1.1 0 2-.9 2-2V5c0-1.1-.9-2-2-2zM9 17H7v-7h2v7zm4 0h-2V7h2v10zm4 0h-2v-4h2v4z\"/>\n",
              "    </g>\n",
              "</svg>\n",
              "      </button>\n",
              "\n",
              "<style>\n",
              "  .colab-df-quickchart {\n",
              "      --bg-color: #E8F0FE;\n",
              "      --fill-color: #1967D2;\n",
              "      --hover-bg-color: #E2EBFA;\n",
              "      --hover-fill-color: #174EA6;\n",
              "      --disabled-fill-color: #AAA;\n",
              "      --disabled-bg-color: #DDD;\n",
              "  }\n",
              "\n",
              "  [theme=dark] .colab-df-quickchart {\n",
              "      --bg-color: #3B4455;\n",
              "      --fill-color: #D2E3FC;\n",
              "      --hover-bg-color: #434B5C;\n",
              "      --hover-fill-color: #FFFFFF;\n",
              "      --disabled-bg-color: #3B4455;\n",
              "      --disabled-fill-color: #666;\n",
              "  }\n",
              "\n",
              "  .colab-df-quickchart {\n",
              "    background-color: var(--bg-color);\n",
              "    border: none;\n",
              "    border-radius: 50%;\n",
              "    cursor: pointer;\n",
              "    display: none;\n",
              "    fill: var(--fill-color);\n",
              "    height: 32px;\n",
              "    padding: 0;\n",
              "    width: 32px;\n",
              "  }\n",
              "\n",
              "  .colab-df-quickchart:hover {\n",
              "    background-color: var(--hover-bg-color);\n",
              "    box-shadow: 0 1px 2px rgba(60, 64, 67, 0.3), 0 1px 3px 1px rgba(60, 64, 67, 0.15);\n",
              "    fill: var(--button-hover-fill-color);\n",
              "  }\n",
              "\n",
              "  .colab-df-quickchart-complete:disabled,\n",
              "  .colab-df-quickchart-complete:disabled:hover {\n",
              "    background-color: var(--disabled-bg-color);\n",
              "    fill: var(--disabled-fill-color);\n",
              "    box-shadow: none;\n",
              "  }\n",
              "\n",
              "  .colab-df-spinner {\n",
              "    border: 2px solid var(--fill-color);\n",
              "    border-color: transparent;\n",
              "    border-bottom-color: var(--fill-color);\n",
              "    animation:\n",
              "      spin 1s steps(1) infinite;\n",
              "  }\n",
              "\n",
              "  @keyframes spin {\n",
              "    0% {\n",
              "      border-color: transparent;\n",
              "      border-bottom-color: var(--fill-color);\n",
              "      border-left-color: var(--fill-color);\n",
              "    }\n",
              "    20% {\n",
              "      border-color: transparent;\n",
              "      border-left-color: var(--fill-color);\n",
              "      border-top-color: var(--fill-color);\n",
              "    }\n",
              "    30% {\n",
              "      border-color: transparent;\n",
              "      border-left-color: var(--fill-color);\n",
              "      border-top-color: var(--fill-color);\n",
              "      border-right-color: var(--fill-color);\n",
              "    }\n",
              "    40% {\n",
              "      border-color: transparent;\n",
              "      border-right-color: var(--fill-color);\n",
              "      border-top-color: var(--fill-color);\n",
              "    }\n",
              "    60% {\n",
              "      border-color: transparent;\n",
              "      border-right-color: var(--fill-color);\n",
              "    }\n",
              "    80% {\n",
              "      border-color: transparent;\n",
              "      border-right-color: var(--fill-color);\n",
              "      border-bottom-color: var(--fill-color);\n",
              "    }\n",
              "    90% {\n",
              "      border-color: transparent;\n",
              "      border-bottom-color: var(--fill-color);\n",
              "    }\n",
              "  }\n",
              "</style>\n",
              "\n",
              "      <script>\n",
              "        async function quickchart(key) {\n",
              "          const quickchartButtonEl =\n",
              "            document.querySelector('#' + key + ' button');\n",
              "          quickchartButtonEl.disabled = true;  // To prevent multiple clicks.\n",
              "          quickchartButtonEl.classList.add('colab-df-spinner');\n",
              "          try {\n",
              "            const charts = await google.colab.kernel.invokeFunction(\n",
              "                'suggestCharts', [key], {});\n",
              "          } catch (error) {\n",
              "            console.error('Error during call to suggestCharts:', error);\n",
              "          }\n",
              "          quickchartButtonEl.classList.remove('colab-df-spinner');\n",
              "          quickchartButtonEl.classList.add('colab-df-quickchart-complete');\n",
              "        }\n",
              "        (() => {\n",
              "          let quickchartButtonEl =\n",
              "            document.querySelector('#df-8270875d-0c27-46f7-baa0-950bb23137b6 button');\n",
              "          quickchartButtonEl.style.display =\n",
              "            google.colab.kernel.accessAllowed ? 'block' : 'none';\n",
              "        })();\n",
              "      </script>\n",
              "    </div>\n",
              "\n",
              "    </div>\n",
              "  </div>\n"
            ],
            "application/vnd.google.colaboratory.intrinsic+json": {
              "type": "dataframe",
              "summary": "{\n  \"name\": \"#time estimates are in minutes so you might have to convert from hours\",\n  \"rows\": 5,\n  \"fields\": [\n    {\n      \"column\": \"participant_NO\",\n      \"properties\": {\n        \"dtype\": \"number\",\n        \"std\": 1,\n        \"min\": 1,\n        \"max\": 5,\n        \"num_unique_values\": 5,\n        \"samples\": [\n          2,\n          5,\n          3\n        ],\n        \"semantic_type\": \"\",\n        \"description\": \"\"\n      }\n    },\n    {\n      \"column\": \"gender\",\n      \"properties\": {\n        \"dtype\": \"category\",\n        \"num_unique_values\": 2,\n        \"samples\": [\n          \"m\",\n          \"f\"\n        ],\n        \"semantic_type\": \"\",\n        \"description\": \"\"\n      }\n    },\n    {\n      \"column\": \"grade\",\n      \"properties\": {\n        \"dtype\": \"number\",\n        \"std\": 0,\n        \"min\": 9,\n        \"max\": 10,\n        \"num_unique_values\": 2,\n        \"samples\": [\n          10,\n          9\n        ],\n        \"semantic_type\": \"\",\n        \"description\": \"\"\n      }\n    },\n    {\n      \"column\": \"age\",\n      \"properties\": {\n        \"dtype\": \"number\",\n        \"std\": 0,\n        \"min\": 13,\n        \"max\": 14,\n        \"num_unique_values\": 2,\n        \"samples\": [\n          13,\n          14\n        ],\n        \"semantic_type\": \"\",\n        \"description\": \"\"\n      }\n    },\n    {\n      \"column\": \"dailyAVGestimated\",\n      \"properties\": {\n        \"dtype\": \"number\",\n        \"std\": 109,\n        \"min\": 50,\n        \"max\": 300,\n        \"num_unique_values\": 5,\n        \"samples\": [\n          200,\n          60\n        ],\n        \"semantic_type\": \"\",\n        \"description\": \"\"\n      }\n    },\n    {\n      \"column\": \"dailyAVGobserved\",\n      \"properties\": {\n        \"dtype\": \"number\",\n        \"std\": 192,\n        \"min\": 120,\n        \"max\": 600,\n        \"num_unique_values\": 5,\n        \"samples\": [\n          220,\n          120\n        ],\n        \"semantic_type\": \"\",\n        \"description\": \"\"\n      }\n    },\n    {\n      \"column\": \"musicuse\",\n      \"properties\": {\n        \"dtype\": \"category\",\n        \"num_unique_values\": 2,\n        \"samples\": [\n          \"y\",\n          \"n\"\n        ],\n        \"semantic_type\": \"\",\n        \"description\": \"\"\n      }\n    }\n  ]\n}"
            }
          },
          "metadata": {},
          "execution_count": 5
        }
      ]
    },
    {
      "cell_type": "code",
      "source": [
        "# we only want to see the averages for observed averages to create univariate distrubutions\n",
        "# this will just give you a visual of this column\n",
        "#(later we will compare them)\n",
        "\n",
        "print(df[['dailyAVGobserved']].head())"
      ],
      "metadata": {
        "colab": {
          "base_uri": "https://localhost:8080/"
        },
        "id": "WvMr334Im4Wg",
        "outputId": "2ec01cc4-366c-428c-a3d6-f3daada49397"
      },
      "execution_count": null,
      "outputs": [
        {
          "output_type": "stream",
          "name": "stdout",
          "text": [
            "   dailyAVGobserved\n",
            "0               200\n",
            "1               220\n",
            "2               400\n",
            "3               600\n",
            "4               120\n"
          ]
        }
      ]
    },
    {
      "cell_type": "markdown",
      "source": [
        "# Part 3: Univariate Distributions\n",
        "\n",
        "You will be creating histograms, boxplots, dotplots, and stem and leaf plots using data above.\n",
        "\n",
        "THINK\n",
        "\n",
        "*   Which type of distrubution is most meaningful for the data collected?\n",
        "*   Desribe the distrubution using CUSS.\n",
        "\n"
      ],
      "metadata": {
        "id": "9pM84jM0d50-"
      }
    },
    {
      "cell_type": "code",
      "source": [
        "# here is a histogram of 'dailyAVGobserved\" data\n",
        "\n",
        "import matplotlib.pyplot as plt\n",
        "plt.figure(figsize=(10, 6)) # Adjust figure size if needed\n",
        "plt.hist(df['dailyAVGobserved'].dropna(), bins=20, edgecolor='black') # Use dropna() to handle potential missing values\n",
        "plt.title('Distribution of Observed Daily Screen Time')\n",
        "plt.xlabel('Observed Daily Screen Time (minutes)')\n",
        "plt.ylabel('Frequency')\n",
        "plt.grid(axis='y', alpha=0.75)\n",
        "plt.show()"
      ],
      "metadata": {
        "colab": {
          "base_uri": "https://localhost:8080/",
          "height": 564
        },
        "id": "TBBIAZOMREPr",
        "outputId": "b5bc3381-6739-4627-f93e-9c4985134fd5"
      },
      "execution_count": null,
      "outputs": [
        {
          "output_type": "display_data",
          "data": {
            "text/plain": [
              "<Figure size 1000x600 with 1 Axes>"
            ],
            "image/png": "[encoded data removed]"
          },
          "metadata": {}
        }
      ]
    },
    {
      "cell_type": "code",
      "source": [
        "import matplotlib.pyplot as plt\n",
        "import numpy as np\n",
        "# this creates a dot plot of 'dailyAVGobserved'\n",
        "plt.figure(figsize=(10, 2)) # Adjust figure size for a horizontal layout\n",
        "plt.plot(df['dailyAVGobserved'].dropna(), np.zeros_like(df['dailyAVGestimated'].dropna()), 'o') # Use dropna() and plot against y=0\n",
        "plt.title('Dot Plot of Observed Daily Screen Time')\n",
        "plt.xlabel('Observed Daily Screen Time (minutes)')\n",
        "plt.yticks([]) # Hide the y-axis ticks as it's just a single line\n",
        "plt.grid(axis='x', alpha=0.75)\n",
        "plt.show()"
      ],
      "metadata": {
        "colab": {
          "base_uri": "https://localhost:8080/",
          "height": 256
        },
        "id": "x2ElcPm7Z73H",
        "outputId": "b03aedec-286f-4633-e940-103f18507e69"
      },
      "execution_count": null,
      "outputs": [
        {
          "output_type": "display_data",
          "data": {
            "text/plain": [
              "<Figure size 1000x200 with 1 Axes>"
            ],
            "image/png": "[encoded data removed]"
          },
          "metadata": {}
        }
      ]
    },
    {
      "cell_type": "code",
      "source": [
        "# this creates a box plot of 'dailyAVGobserved'\n",
        "\n",
        "import matplotlib.pyplot as plt\n",
        "plt.figure(figsize=(10, 6)) # Adjust figure size if needed\n",
        "plt.boxplot(df['dailyAVGobserved'].dropna()) # Use dropna() to handle potential missing values\n",
        "plt.title('Box Plot of Observed Daily Screen Time')\n",
        "plt.ylabel('Observed Daily Screen Time (minutes)')\n",
        "plt.xticks([]) # Hide the x-axis ticks as it's a single box plot\n",
        "plt.grid(axis='y', alpha=0.75)\n",
        "plt.show()"
      ],
      "metadata": {
        "colab": {
          "base_uri": "https://localhost:8080/",
          "height": 526
        },
        "id": "FLYgjTGZkTwA",
        "outputId": "4b52df7d-1c57-4375-f902-819854ce17b1"
      },
      "execution_count": null,
      "outputs": [
        {
          "output_type": "display_data",
          "data": {
            "text/plain": [
              "<Figure size 1000x600 with 1 Axes>"
            ],
            "image/png": "[encoded data removed]"
          },
          "metadata": {}
        }
      ]
    },
    {
      "cell_type": "markdown",
      "source": [
        "Are there outliers in your box plot?\n",
        "What's the formula for calculating outliers again?"
      ],
      "metadata": {
        "id": "pqqWnIZxSknr"
      }
    },
    {
      "cell_type": "code",
      "source": [
        "outliers = '' #@param {type:\"string\"}\n",
        "print(f\"Outliers: {null_hypothesis}\")"
      ],
      "metadata": {
        "id": "xzaktxQscFDu"
      },
      "execution_count": null,
      "outputs": []
    },
    {
      "cell_type": "markdown",
      "source": [],
      "metadata": {
        "id": "UR0mUqSocE7w"
      }
    },
    {
      "cell_type": "code",
      "source": [
        "# this creates a stem and leaf plot of 'dailyAVGobserved'\n",
        "\n",
        "def stem_leaf_plot(data):\n",
        "    \"\"\"\n",
        "    Generates a simple stem and leaf plot for the given data.\n",
        "\n",
        "    Args:\n",
        "        data: A pandas Series or list of numerical data.\n",
        "    \"\"\"\n",
        "    # Remove any potential NaN values\n",
        "    data = data.dropna()\n",
        "\n",
        "    # Convert data to integers and sort\n",
        "    data = sorted([int(x) for x in data])\n",
        "\n",
        "    # Create a dictionary to store stems and leaves\n",
        "    stem_leaves = {}\n",
        "\n",
        "    for number in data:\n",
        "        # Handle single digit numbers\n",
        "        if number < 10:\n",
        "            stem = 0\n",
        "            leaf = number\n",
        "        else:\n",
        "            stem = number // 10\n",
        "            leaf = number % 10\n",
        "\n",
        "        if stem not in stem_leaves:\n",
        "            stem_leaves[stem] = []\n",
        "        stem_leaves[stem].append(leaf)\n",
        "\n",
        "    # Sort stems and leaves\n",
        "    sorted_stems = sorted(stem_leaves.keys())\n",
        "\n",
        "    print(\"Stem and Leaf Plot of Observed Screentime:\")\n",
        "    print(\"-\" * 20)\n",
        "    for stem in sorted_stems:\n",
        "        leaves = sorted(stem_leaves[stem])\n",
        "        print(f\"{stem} | {' '.join(map(str, leaves))}\")\n",
        "    print(\"-\" * 20)\n",
        "\n",
        "# Generate the stem and leaf plot for 'dailyAVGobserved'\n",
        "stem_leaf_plot(df['dailyAVGobserved'])"
      ],
      "metadata": {
        "colab": {
          "base_uri": "https://localhost:8080/"
        },
        "id": "x7N3gj1KkbgV",
        "outputId": "606c94e8-39ce-47a2-babb-3725b48e88b1"
      },
      "execution_count": null,
      "outputs": [
        {
          "output_type": "stream",
          "name": "stdout",
          "text": [
            "Stem and Leaf Plot of Observed Screentime:\n",
            "--------------------\n",
            "12 | 0\n",
            "20 | 0\n",
            "22 | 0\n",
            "40 | 0\n",
            "60 | 0\n",
            "--------------------\n"
          ]
        }
      ]
    },
    {
      "cell_type": "markdown",
      "source": [
        "#Part 4: Comparing 2 Univariate Distributions\n",
        "\n",
        "Now that you are comfortable \"CUSS\"ing a univariate distrubutions, lets compare two distributions.\n",
        "\n",
        "BEFORE WE COMPARE\n",
        "\n",
        "*   Create a null and alternative hypothesis from the research question: Are high school students at TA aware of how much average screen time they spend on their phone?\n",
        "*   NOTE: We will explored this again when we get to inferential statistics.\n",
        "* Today we are just looking at the descriptive values we understand to compare for your question in this form.\n",
        "\n",
        "\n"
      ],
      "metadata": {
        "id": "AbNSO-XqTl6y"
      }
    },
    {
      "cell_type": "code",
      "source": [
        "# enter your hypotheses in the text boxes\n",
        "\n",
        "null_hypothesis = '' #@param {type:\"string\"}\n",
        "print(f\"Null Hypothesis: {null_hypothesis}\")\n",
        "alternative_hypothesis = '' #@param {type:\"string\"}\n",
        "print(f\"Alternative Hypothesis: {null_hypothesis}\")\n"
      ],
      "metadata": {
        "colab": {
          "base_uri": "https://localhost:8080/"
        },
        "id": "UcV9tFRBV1Kt",
        "outputId": "e4960d01-39c4-4f25-ec82-9b0d1bbe6dc1"
      },
      "execution_count": null,
      "outputs": [
        {
          "output_type": "stream",
          "name": "stdout",
          "text": [
            "Null Hypothesis: \n",
            "Alternative Hypothesis: \n"
          ]
        }
      ]
    },
    {
      "cell_type": "code",
      "source": [
        "# we are only exploring the 2 separate univariate distrubutions\n",
        "\n",
        "print(df[['dailyAVGestimated', 'dailyAVGobserved']].head())"
      ],
      "metadata": {
        "colab": {
          "base_uri": "https://localhost:8080/"
        },
        "id": "oD3uMPlwinf3",
        "outputId": "f81f890a-e612-49a8-dedb-a4183a44bc84"
      },
      "execution_count": null,
      "outputs": [
        {
          "output_type": "stream",
          "name": "stdout",
          "text": [
            "   dailyAVGestimated  dailyAVGobserved\n",
            "0                 50               200\n",
            "1                200               220\n",
            "2                 75               400\n",
            "3                300               600\n",
            "4                 60               120\n"
          ]
        }
      ]
    },
    {
      "cell_type": "code",
      "source": [
        "# observe and compare the two box plots\n",
        "\n",
        "import matplotlib.pyplot as plt\n",
        "plt.figure(figsize=(10, 6))\n",
        "df[['dailyAVGestimated', 'dailyAVGobserved']].boxplot()\n",
        "plt.title('Box Plots of Estimated and Observed Daily Screen Time')\n",
        "plt.ylabel('Daily Screen Time (minutes)')\n",
        "plt.show()"
      ],
      "metadata": {
        "colab": {
          "base_uri": "https://localhost:8080/",
          "height": 545
        },
        "id": "1CypngxZRKfK",
        "outputId": "a9e943fd-1832-446d-ab11-9a1e3498a4e7"
      },
      "execution_count": null,
      "outputs": [
        {
          "output_type": "display_data",
          "data": {
            "text/plain": [
              "<Figure size 1000x600 with 1 Axes>"
            ],
            "image/png": "[encoded data removed]"
          },
          "metadata": {}
        }
      ]
    },
    {
      "cell_type": "code",
      "source": [
        "# observe and compare the distributions in the stem and leaf plot\n",
        "\n",
        "import pandas as pd\n",
        "# Function to generate stem and leaf plot data\n",
        "def stem_leaf_data(data):\n",
        "    stems = {}\n",
        "    for x in data:\n",
        "        if pd.notna(x): # Handle potential NaN values\n",
        "            stem = int(x // 10) # Assuming numbers are integers or can be treated as such\n",
        "            leaf = int(x % 10)\n",
        "            if stem not in stems:\n",
        "                stems[stem] = []\n",
        "            stems[stem].append(leaf)\n",
        "    # Sort leaves for each stem\n",
        "    for stem in stems:\n",
        "        stems[stem].sort()\n",
        "    return stems\n",
        "\n",
        "# Generate stem and leaf data for both columns\n",
        "estimated_stems = stem_leaf_data(df['dailyAVGestimated'])\n",
        "observed_stems = stem_leaf_data(df['dailyAVGobserved'])\n",
        "\n",
        "# Get all unique stems from both datasets and sort them\n",
        "all_stems = sorted(list(set(estimated_stems.keys()) | set(observed_stems.keys())))\n",
        "\n",
        "# Print the side-by-side stem and leaf plot\n",
        "print(\"Side-by-Side Stem and Leaf Plot\")\n",
        "print(\"-\" * 50)\n",
        "print(f\"{'Observed':>20} | {'Stem':^8} | {'Estimated':<20}\")\n",
        "print(\"-\" * 50)\n",
        "\n",
        "for stem in all_stems:\n",
        "    observed_leaves = observed_stems.get(stem, [])\n",
        "    estimated_leaves = estimated_stems.get(stem, [])\n",
        "\n",
        "    # Format leaves for printing\n",
        "    observed_leaves_str = ''.join(map(str, sorted(observed_leaves, reverse=True)))\n",
        "    estimated_leaves_str = ''.join(map(str, sorted(estimated_leaves)))\n",
        "\n",
        "    print(f\"{observed_leaves_str:>20} | {stem:^8} | {estimated_leaves_str:<20}\")\n",
        "\n",
        "print(\"-\" * 50)\n",
        "\n",
        "print(\"Each leaf represents a single data point's unit digit.\")\n",
        "print(\"Stem represents the tens digit.\")\n",
        "print(\"For example, 5|3 represents 53.\")\n",
        "print(\"Observed leaves are read from right to left.\")\n",
        "print(\"Estimated leaves are read from left to right.\")\n"
      ],
      "metadata": {
        "colab": {
          "base_uri": "https://localhost:8080/"
        },
        "id": "8pHl_dDhdRq7",
        "outputId": "58edbcb9-0687-4feb-806c-77f7b3ee7359"
      },
      "execution_count": null,
      "outputs": [
        {
          "output_type": "stream",
          "name": "stdout",
          "text": [
            "Side-by-Side Stem and Leaf Plot\n",
            "--------------------------------------------------\n",
            "            Observed |   Stem   | Estimated           \n",
            "--------------------------------------------------\n",
            "                     |    5     | 0                   \n",
            "                     |    6     | 0                   \n",
            "                     |    7     | 5                   \n",
            "                   0 |    12    |                     \n",
            "                   0 |    20    | 0                   \n",
            "                   0 |    22    |                     \n",
            "                     |    30    | 0                   \n",
            "                   0 |    40    |                     \n",
            "                   0 |    60    |                     \n",
            "--------------------------------------------------\n",
            "Each leaf represents a single data point's unit digit.\n",
            "Stem represents the tens digit.\n",
            "For example, 5|3 represents 53.\n",
            "Observed leaves are read from right to left.\n",
            "Estimated leaves are read from left to right.\n"
          ]
        }
      ]
    },
    {
      "cell_type": "markdown",
      "source": [
        "After viewing the side by side distrubtion comparisons what did you notice?\n",
        "\n",
        "Complete a comparison of the two distrubutions using the CUSS method.\n",
        "\n",
        "What conclusions can you make based upon your hypotheses?\n"
      ],
      "metadata": {
        "id": "VnxWTDm3dffA"
      }
    }
  ]
}