{
  "nbformat": 4,
  "nbformat_minor": 0,
  "metadata": {
    "colab": {
      "private_outputs": true,
      "provenance": [],
      "include_colab_link": true
    },
    "kernelspec": {
      "name": "python3",
      "display_name": "Python 3"
    },
    "language_info": {
      "name": "python"
    }
  },
  "cells": [
    {
      "cell_type": "markdown",
      "metadata": {
        "id": "view-in-github",
        "colab_type": "text"
      },
      "source": [
        "<a href=\"https://colab.research.google.com/github/tracieschroeder/Participant-Notebooks/blob/main/General%20and%20Misc/In%20Progress/Copy_of_Phyphox_Scaffold.ipynb\" target=\"_parent\"><img src=\"https://colab.research.google.com/assets/colab-badge.svg\" alt=\"Open In Colab\"/></a>"
      ]
    },
    {
      "cell_type": "markdown",
      "source": [
        "This is a WIP notebook for importing data (xlsx, csv, or zip) generated from Phyphox into Colab."
      ],
      "metadata": {
        "id": "VnT283dW8vlw"
      }
    },
    {
      "cell_type": "markdown",
      "source": [
        "# Setup Colab for Analysis"
      ],
      "metadata": {
        "id": "HTgxP9RJiKun"
      }
    },
    {
      "cell_type": "code",
      "source": [
        "# Import useful modules\n",
        "import pandas as pd\n",
        "import numpy as np\n",
        "from matplotlib import pyplot as plt"
      ],
      "metadata": {
        "id": "q-ITYJSbe7pr"
      },
      "execution_count": null,
      "outputs": []
    },
    {
      "cell_type": "markdown",
      "source": [
        "#Importing your csv file"
      ],
      "metadata": {
        "id": "o6LABLSbeAYH"
      }
    },
    {
      "cell_type": "markdown",
      "source": [
        "##⚠️Choose **one (1)** of the following ways to import your data. If you run both of the cells you will get errors and your data will not be imported properly⚠️\n"
      ],
      "metadata": {
        "id": "mxtHe39lgxUV"
      }
    },
    {
      "cell_type": "markdown",
      "source": [
        "## Upload from a local device"
      ],
      "metadata": {
        "id": "j1CTPNA-eUCC"
      }
    },
    {
      "cell_type": "markdown",
      "source": [
        "1. Click the folder icon on the left side of the page\n",
        "2. Select and upload your file\n",
        "3. Use the code below to import the data. (Use pd.read_xls if you have an excel file or pd.read_csv)"
      ],
      "metadata": {
        "id": "mD8ZSjwneXOs"
      }
    },
    {
      "cell_type": "markdown",
      "source": [
        "### Did you upload a zip file?\n",
        "If yes, run this block below to extract the files from it."
      ],
      "metadata": {
        "id": "k9M0AamOlLbO"
      }
    },
    {
      "cell_type": "code",
      "source": [
        "import shutil\n",
        "zip_filename = \"Replace this with the name of your zip file\"\n",
        "\n",
        "# Unzip the zip file to the current working directory (/content/)\n",
        "shutil.unpack_archive(zip_filename, format=\"zip\")"
      ],
      "metadata": {
        "id": "POjDfgGqlK53"
      },
      "execution_count": null,
      "outputs": []
    },
    {
      "cell_type": "markdown",
      "source": [
        "### Load the file\n",
        "You should now see more files appear in the files section on the left. Use your cursor to hover over the file you want, click the 3 dots on the right and choose Copy Path"
      ],
      "metadata": {
        "id": "WKdtHI6zllhR"
      }
    },
    {
      "cell_type": "code",
      "execution_count": null,
      "metadata": {
        "id": "eKAkddsPd9Q2"
      },
      "outputs": [],
      "source": [
        "filename = \"Replace this with the path to your csv file\"\n",
        "data = pd.read_csv(filename)\n",
        "data.head(5)"
      ]
    },
    {
      "cell_type": "markdown",
      "source": [
        "## Upload to Google Drive & Import"
      ],
      "metadata": {
        "id": "5CQ9y23heYby"
      }
    },
    {
      "cell_type": "markdown",
      "source": [
        "1. Get the Sharing URL of the file\n",
        "2. Make sure it's shared (anyone with the link can view)\n",
        "3. Find the ID of the file from the URL ```https://drive.google.com/file/d/ID/view....``` (see the code below for a way to do this automatically)\n",
        "4. Create a download URL ```https://docs.google.com/uc?export=download&id=ID&confirm=t```\n",
        "5. Choose the correct import method\n",
        "```python\n",
        "pd.read_csv() or pd.read_excel()\n",
        "```\n",
        "6. If you're getting value errors in a csv file, you may want to try ```error_bad_lines = False```"
      ],
      "metadata": {
        "id": "ovp3_8YZecc2"
      }
    },
    {
      "cell_type": "code",
      "source": [
        "# Finding the download URL for the file\n",
        "\n",
        "# The Share URL from Google Drive\n",
        "sharingURL = \"Replace this with the Share Link URL from your Drive\"\n",
        "\n",
        "# Carving out the ID parameter\n",
        "id = sharingURL.split(\"/\")[-2]\n",
        "\n",
        "# Creating the new download URL\n",
        "new_url = f'https://drive.google.com/uc?export=download&id={id}&confirm=t'"
      ],
      "metadata": {
        "id": "xXPzVRbEedA9"
      },
      "execution_count": null,
      "outputs": []
    },
    {
      "cell_type": "markdown",
      "source": [
        "### Is this a zip file?\n",
        "If yes, run this blocks below to extract the files and load in the data"
      ],
      "metadata": {
        "id": "gYPx6uuempED"
      }
    },
    {
      "cell_type": "code",
      "source": [
        "from urllib.request import urlretrieve\n",
        "\n",
        "zip_filename = \"Replace this with the name of the zip file.zip\"\n",
        "\n",
        "# Download the zip file\n",
        "urlretrieve(new_url, zip_filename)\n",
        "\n",
        "# Unzip the zip file to the current working directory (/content/)\n",
        "shutil.unpack_archive(zip_filename, format=\"zip\")"
      ],
      "metadata": {
        "id": "K9O19lufm2w4"
      },
      "execution_count": null,
      "outputs": []
    },
    {
      "cell_type": "markdown",
      "source": [
        "You should now see more files appear in the files section on the left. Use your cursor to hover over the file you want, click the 3 dots on the right and choose Copy Path"
      ],
      "metadata": {
        "id": "9jNEmHV3nOtF"
      }
    },
    {
      "cell_type": "code",
      "source": [
        "filename = \"Replace this with the path to your csv file\"\n",
        "data = pd.read_csv(filename)\n",
        "data.head(5)"
      ],
      "metadata": {
        "id": "v4cPvJYhnWZV"
      },
      "execution_count": null,
      "outputs": []
    },
    {
      "cell_type": "markdown",
      "source": [
        "### Not a zip file\n",
        "If you uploaded a csv file run this block below to load the data."
      ],
      "metadata": {
        "id": "sNpTM47gmuqj"
      }
    },
    {
      "cell_type": "code",
      "source": [
        "# Importing the file\n",
        "data = pd.read_csv(new_url, error_bad_lines=False)\n",
        "data.head(5)"
      ],
      "metadata": {
        "id": "bA2qZv1bmoem"
      },
      "execution_count": null,
      "outputs": []
    },
    {
      "cell_type": "markdown",
      "source": [
        "## Cleaning the Data"
      ],
      "metadata": {
        "id": "r9ATYk-gjOCS"
      }
    },
    {
      "cell_type": "markdown",
      "source": [
        "If you want to rename the columns in your table you can use this syntax\n",
        "\n",
        "```python\n",
        "data = data.rename(columns={'old_name1': 'new_name1', 'old_name2': 'new_name2'})\n",
        "```"
      ],
      "metadata": {
        "id": "VlwuJ0tHjR93"
      }
    },
    {
      "cell_type": "code",
      "source": [
        "# Use this block if you want to rename the columns"
      ],
      "metadata": {
        "id": "ymsbkLA-j4IB"
      },
      "execution_count": null,
      "outputs": []
    },
    {
      "cell_type": "markdown",
      "source": [
        "# Analyze your data"
      ],
      "metadata": {
        "id": "e4T6P0rBgBko"
      }
    },
    {
      "cell_type": "code",
      "source": [
        "# Use me to create a graph, or whatever else you need to do!"
      ],
      "metadata": {
        "id": "NCkUCYoWgfxb"
      },
      "execution_count": null,
      "outputs": []
    },
    {
      "cell_type": "markdown",
      "source": [
        "Use me to summarize your results"
      ],
      "metadata": {
        "id": "ldA9i01qgkSN"
      }
    }
  ]
}