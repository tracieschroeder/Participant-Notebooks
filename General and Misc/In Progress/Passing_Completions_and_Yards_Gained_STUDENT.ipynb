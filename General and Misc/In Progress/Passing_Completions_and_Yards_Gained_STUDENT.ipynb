{
  "nbformat": 4,
  "nbformat_minor": 0,
  "metadata": {
    "colab": {
      "provenance": [],
      "include_colab_link": true
    },
    "kernelspec": {
      "name": "python3",
      "display_name": "Python 3"
    },
    "language_info": {
      "name": "python"
    }
  },
  "cells": [
    {
      "cell_type": "markdown",
      "metadata": {
        "id": "view-in-github",
        "colab_type": "text"
      },
      "source": [
        "<a href=\"https://colab.research.google.com/github/tracieschroeder/Participant-Notebooks/blob/main/General%20and%20Misc/In%20Progress/Passing_Completions_and_Yards_Gained_STUDENT.ipynb\" target=\"_parent\"><img src=\"https://colab.research.google.com/assets/colab-badge.svg\" alt=\"Open In Colab\"/></a>"
      ]
    },
    {
      "cell_type": "markdown",
      "source": [
        "##**Quarterback Passing Data for Line of Best Fit**\n",
        "\n",
        "College Football Quarterback Pass Completions and Total Number of Passing Yards across the 2018 Season\n"
      ],
      "metadata": {
        "id": "__vk1ckIDhtg"
      }
    },
    {
      "cell_type": "code",
      "execution_count": null,
      "metadata": {
        "id": "KiHLFtL8DWhc"
      },
      "outputs": [],
      "source": [
        "# You are now looking at a code cell!  Lines with a hashtag (#) are just text for us to read.\n",
        "# Lines without a hashtag are code.\n",
        "\n",
        "# Run this cell by pressing the play button.\n",
        "# This only needs to be run once, but re-exectuing it doesn't hurt anything either.\n",
        "# imports software packages (not too exciting)\n",
        "import pandas as pd\n",
        "import numpy as np\n",
        "%matplotlib inline\n",
        "import matplotlib as mpl\n",
        "import matplotlib.pyplot as plt\n"
      ]
    },
    {
      "cell_type": "markdown",
      "source": [
        "## Part 1\n",
        "\n",
        "Let's first look at data from the Big 10."
      ],
      "metadata": {
        "id": "Qi0pFiuRH0tc"
      }
    },
    {
      "cell_type": "code",
      "source": [
        "# This line pulls the motion data from an online file\n",
        "\n",
        "dataset = pd.read_csv('https://docs.google.com/spreadsheets/d/e/2PACX-1vS7tFbWC5zXdXNnSQYy6rdg16C4EBI4PDQh8EwFZShmmTzKsD4zP80tEm7pee9-3btDj69lbIXrBuPD/pub?output=csv'\n",
        ")\n",
        "\n",
        "# The .head(n) command displays the first n rows of a file.\n",
        "# To see the results, use the play button again.\n",
        "dataset.head(3)\n",
        "\n",
        "# Can you find how many passing yards Adrian Martinez from Nebraska had?\n",
        "# Hint - change the n-value and press play again.\n"
      ],
      "metadata": {
        "id": "6V4Q-R7EIWwp"
      },
      "execution_count": null,
      "outputs": []
    },
    {
      "cell_type": "code",
      "source": [
        "# These next 2 lines define the x and y of your graph using the column headings from the data.\n",
        "x1=dataset.Cmp1\n",
        "y1=dataset.Yds1\n",
        "\n",
        "# This line creates a scatterplot for the data.\n",
        "# Go ahead and run this code to see the scatterplot now.\n",
        "plt.scatter(x1,y1, color='blue', edgecolor='black')\n",
        "plt.xlim([0,400])\n",
        "plt.ylim([0,5000])\n",
        "\n",
        "# To make the scatterplot communicate our data, it needs to include a title and axis lables.\n",
        "# Remove the hashtags on the next 3 lines and change the 'xlabel', 'ylabel', and 'Title' to appropriate labels.\n",
        "# plt.xlabel('xlabel')\n",
        "# plt.ylabel('ylabel')\n",
        "# plt.title('Title')\n",
        "# Then make sure to run the code again!\n",
        "\n",
        "# To add a best fit line, remove the hashtags on the next 3 lines and run the code.\n",
        "# m1, b1 = np.polyfit(x1, y1, deg=1)\n",
        "# plt.axline(xy1=(0, b1), slope=m1, label=f'y = {m1:.1f}x {b1:+.1f}', color='blue')\n",
        "# plt.text(200, 1000, 'y = ' + '{:.2f}'.format(m1) + 'x' + ' + {:.2f}'.format(b1), size=14, color='blue')\n",
        "\n",
        "plt.show()"
      ],
      "metadata": {
        "id": "Ahj4yBriORJh"
      },
      "execution_count": null,
      "outputs": []
    },
    {
      "cell_type": "markdown",
      "source": [
        "##Questions - Set 1:\n",
        "Now let's analyze your scatterplot.\n",
        "\n",
        "1) Describe the form, direction, strength, outliers.\n",
        "\n",
        "*type your answer here*\n",
        "\n",
        "2) What does the slope represent in this context?\n",
        "\n",
        "*type your answer here*\n",
        "\n",
        "3) What does the y-intercept represent in this context?\n",
        "\n",
        "*type your answer here*\n",
        "\n",
        "4) If a Big 10 quarterback made 250 completions, find the number of yards he might have according to the line of best fit.\n",
        "\n",
        "*type your answer here*"
      ],
      "metadata": {
        "id": "_B8qopYcDUAc"
      }
    },
    {
      "cell_type": "markdown",
      "source": [
        "## Part 2\n",
        "\n",
        "Now let's look at data from the SEC."
      ],
      "metadata": {
        "id": "3XZYMA6mKSO_"
      }
    },
    {
      "cell_type": "code",
      "source": [
        "# This line pulls the motion data from an online file\n",
        "\n",
        "dataset = pd.read_csv('https://docs.google.com/spreadsheets/d/e/2PACX-1vRmhQUrha484ZhCDcMIwzBdVnZAjxu_IATr8snInWx6cDOGgTeMMWgea0gNmDkzzTDSVqFEyZH--huy/pub?output=csv')\n",
        "\n",
        "# The .head(n) command displays the first n rows of a file.\n",
        "# To see the results, use the play button again.\n",
        "dataset.head(3)\n",
        "\n",
        "# Can you find how many passing yards Jaylen Hurts from Alabama had?\n",
        "# Hint - change the n-value and press play again.\n",
        "# Why do you think there is a big gap in passing yards between Jaylen and the other quarterbacks who have more yards?"
      ],
      "metadata": {
        "id": "AhBJwzfSDQCD"
      },
      "execution_count": null,
      "outputs": []
    },
    {
      "cell_type": "code",
      "source": [
        "# These next 2 lines define the x and y of your graph using the column headings from the data.\n",
        "x2=dataset.Cmp2\n",
        "y2=dataset.Yds2\n",
        "\n",
        "# This line creates a scatterplot for the data.\n",
        "# Go ahead and run this code to see the scatterplot now.\n",
        "plt.scatter(x2,y2, color='red', edgecolor='black')\n",
        "plt.xlim([0,400])\n",
        "plt.ylim([0,5000])\n",
        "\n",
        "# To make the scatterplot communicate our data, it needs to include a title and axis lables.\n",
        "# Remove the hashtags on the next 3 lines and change the 'xlabel', 'ylabel', and 'Title' to appropriate labels.\n",
        "# plt.xlabel('xlabel')\n",
        "# plt.ylabel('ylabel')\n",
        "# plt.title('Title')\n",
        "# Then make sure to run the code again!\n",
        "\n",
        "# To add a best fit line, remove the hashtags on the next 3 lines and run the code.\n",
        "# m2, b2 = np.polyfit(x2, y2, deg=1)\n",
        "# plt.axline(xy1=(0, b2), slope=m2, label=f'y2 = {m2:.1f}x2 {b2:+.1f}', color='red')\n",
        "# plt.text(25, 3000, 'y = ' + '{:.2f}'.format(m2) + 'x' + ' + {:.2f}'.format(b2), size=14, color='red')\n",
        "\n",
        "plt.show()"
      ],
      "metadata": {
        "id": "pFe1jrb6NFQP"
      },
      "execution_count": null,
      "outputs": []
    },
    {
      "cell_type": "markdown",
      "source": [
        "##Questions - Set 2:\n",
        "Now let's analyze your scatterplot.\n",
        "\n",
        "5) Describe the form, direction, strength, outliers.\n",
        "\n",
        "*type your answer here*\n",
        "\n",
        "6) What does the slope represent in this context?\n",
        "\n",
        "*type your answer here*\n",
        "\n",
        "7) What does the y-intercept represent in this context?\n",
        "\n",
        "*type your answer here*\n",
        "\n",
        "8) If a SEC quarterback made 250 completions, find the number of yards he might have according to the line of best fit.\n",
        "\n",
        "*type your answer here*"
      ],
      "metadata": {
        "id": "C_86K2iNekqX"
      }
    },
    {
      "cell_type": "markdown",
      "source": [
        "## Part 3\n",
        "\n",
        "Now let's compare the data from the Big 10 and SEC."
      ],
      "metadata": {
        "id": "fZz0l34Ye185"
      }
    },
    {
      "cell_type": "code",
      "source": [
        "# To start, we will put both sets of data on one graph.\n",
        "# Remember that the Big 10 data is represented with blue and the SEC data is represent with red.\n",
        "# Run the code in this cell.\n",
        "\n",
        "plt.scatter(x1,y1, color='blue', edgecolor='black')\n",
        "plt.xlim([0,400])\n",
        "plt.ylim([0,5000])\n",
        "\n",
        "m1, b1 = np.polyfit(x1, y1, deg=1)\n",
        "plt.axline(xy1=(0, b1), slope=m1, label=f'y = {m1:.1f}x {b1:+.1f}', color='blue')\n",
        "plt.text(200, 1000, 'y = ' + '{:.2f}'.format(m1) + 'x' + ' + {:.2f}'.format(b1), size=14, color='blue')\n",
        "\n",
        "plt.scatter(x2,y2, color='red', edgecolor='black')\n",
        "plt.xlim([0,400])\n",
        "plt.ylim([0,5000])\n",
        "\n",
        "m2, b2 = np.polyfit(x2, y2, deg=1)\n",
        "plt.axline(xy1=(0, b2), slope=m2, label=f'y2 = {m2:.1f}x2 {b2:+.1f}', color='red')\n",
        "plt.text(25, 3000, 'y = ' + '{:.2f}'.format(m2) + 'x' + ' + {:.2f}'.format(b2), size=14, color='red')\n",
        "\n",
        "plt.xlabel('number of completions')\n",
        "plt.ylabel('number of passing yards')\n",
        "plt.title('Big 10 and SEC QB Completions and Passing Yards in 2018')\n",
        "\n",
        "plt.show()"
      ],
      "metadata": {
        "id": "nTE2zMJAejne"
      },
      "execution_count": null,
      "outputs": []
    },
    {
      "cell_type": "markdown",
      "source": [
        "## Questions - Set 3\n",
        "\n",
        "9) What do you notice?  Write 3 things.\n",
        "\n",
        "*type your answer here*\n",
        "\n",
        "10) What do you wonder?  Write 3 things.\n",
        "\n",
        "*type your answer here*"
      ],
      "metadata": {
        "id": "TKPRNv2hggt6"
      }
    }
  ]
}