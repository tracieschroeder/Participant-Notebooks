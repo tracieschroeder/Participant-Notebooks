{
  "nbformat": 4,
  "nbformat_minor": 0,
  "metadata": {
    "colab": {
      "provenance": [],
      "toc_visible": true,
      "include_colab_link": true
    },
    "kernelspec": {
      "name": "python3",
      "display_name": "Python 3"
    },
    "language_info": {
      "name": "python"
    }
  },
  "cells": [
    {
      "cell_type": "markdown",
      "metadata": {
        "id": "view-in-github",
        "colab_type": "text"
      },
      "source": [
        "<a href=\"https://colab.research.google.com/github/tracieschroeder/Participant-Notebooks/blob/main/General%20and%20Misc/In%20Progress/Porschea_GOAT.ipynb\" target=\"_parent\"><img src=\"https://colab.research.google.com/assets/colab-badge.svg\" alt=\"Open In Colab\"/></a>"
      ]
    },
    {
      "cell_type": "markdown",
      "source": [
        "Who is the GOAT? Jordan or Shaq?"
      ],
      "metadata": {
        "id": "VbXwvHAJEIKv"
      }
    },
    {
      "cell_type": "markdown",
      "source": [
        "Step 1: Save a copy of this file- name it (First name) GOAT Analysis"
      ],
      "metadata": {
        "id": "7UMX5lhkdT_I"
      }
    },
    {
      "cell_type": "markdown",
      "source": [
        "\n",
        "\n",
        "```\n",
        "# This is formatted as code\n",
        "```\n",
        "\n",
        "# Data Pull"
      ],
      "metadata": {
        "id": "eF6o0_avQK3X"
      }
    },
    {
      "cell_type": "markdown",
      "source": [
        "Step 2: First we need to import some packages that will allow us to do our analysis.\n",
        "\n",
        "matplotlib is a plotting library for the Python programming language and its numerical mathematics extension NumPy. It provides an object-oriented API for embedding plots into applications"
      ],
      "metadata": {
        "id": "T6oMSeWPDx6r"
      }
    },
    {
      "cell_type": "code",
      "source": [
        "import matplotlib.pyplot as plt\n",
        "import numpy as np\n"
      ],
      "metadata": {
        "id": "qAuZs0ERD1al"
      },
      "execution_count": null,
      "outputs": []
    },
    {
      "cell_type": "markdown",
      "source": [
        "Step 3: Who's the best?\n",
        "Now you are going to take a survey of the class and create a pie chart to display the results."
      ],
      "metadata": {
        "id": "h6nHcOFfH-Hp"
      }
    },
    {
      "cell_type": "code",
      "source": [
        "\n",
        "#Enter here the number of students that chose each\n",
        "jordan =6 # < Enter a number\n",
        "shaq =8 # < Enter a number\n",
        "\n",
        "#Labels/colors can be changed to whatever you want.\n",
        "labels=['Jordan','Shaq']\n",
        "colors=['blue','red']\n",
        "\n",
        "#this is telling the program to plot a pie chart.\n",
        "plt.pie([jordan,shaq],labels=labels,colors=colors,autopct='%1.1f%%')\n",
        "plt.title('Results?') #Change your title here\n",
        "plt.axis('equal')\n",
        "plt.show()\n"
      ],
      "metadata": {
        "colab": {
          "base_uri": "https://localhost:8080/",
          "height": 431
        },
        "id": "evqESD9yG3mM",
        "outputId": "1ffdc81e-b4c5-4a41-feee-085efdb0f6c9"
      },
      "execution_count": null,
      "outputs": [
        {
          "output_type": "display_data",
          "data": {
            "text/plain": [
              "<Figure size 640x480 with 1 Axes>"
            ],
            "image/png": "[encoded data removed]"
          },
          "metadata": {}
        }
      ]
    },
    {
      "cell_type": "markdown",
      "source": [
        "Task 2: Cutomize your chart above by doing the following:\n",
        "1) Change colors\n",
        "2) Change title"
      ],
      "metadata": {
        "id": "MSprXE6dIp7a"
      }
    },
    {
      "cell_type": "markdown",
      "source": [
        "Step 4: Now we are going to run our data from Jordan's and Shaq's statistics"
      ],
      "metadata": {
        "id": "NgPmLGkHc8e9"
      }
    },
    {
      "cell_type": "code",
      "source": [
        "import pandas as pd\n",
        "data= pd.read_csv('https://sports-statistics.com/database/basketball-data/nba/michael-jordan-nba-career-regular-season-stats-by-game.csv')\n",
        "data2= pd.read_csv('https://sports-statistics.com/database/basketball-data/nba/shaq-nba-career-regular-season-stats-by-game.csv')\n",
        "print(data.head) #This shows you the first 5 and last 5 rows of data\n",
        "print(data2.head) #This shows you the first 5 and last 5 rows of data\n",
        "print(\"Jordan's data: \", data.shape) #This show the # of Rows and Columns in Data set\n",
        "print(\"Shaq's data: \", data2.shape)  #This show the # of Rows and Columns in Data set\n"
      ],
      "metadata": {
        "colab": {
          "base_uri": "https://localhost:8080/"
        },
        "id": "4KnKZJqxc6XY",
        "outputId": "51d58d70-291b-4ec0-8bb1-446e7cb12a0f"
      },
      "execution_count": null,
      "outputs": [
        {
          "output_type": "stream",
          "name": "stdout",
          "text": [
            "<bound method NDFrame.head of       EndYear  Rk   G        Date  Years  Days        Age   Tm  Home  Opp  \\\n",
            "0        1985   1   1  10/26/1984     21   252  21.689938  CHI     1  WSB   \n",
            "1        1985   2   2  10/27/1984     21   253  21.692676  CHI     0  MIL   \n",
            "2        1985   3   3  10/29/1984     21   255  21.698152  CHI     1  MIL   \n",
            "3        1985   4   4  10/30/1984     21   256  21.700890  CHI     0  KCK   \n",
            "4        1985   5   5   11/1/1984     21   258  21.706366  CHI     0  DEN   \n",
            "...       ...  ..  ..         ...    ...   ...        ...  ...   ...  ...   \n",
            "1067     2003  78  78    4/9/2003     40    51  40.139630  WAS     1  BOS   \n",
            "1068     2003  79  79   4/11/2003     40    53  40.145106  WAS     0  MIA   \n",
            "1069     2003  80  80   4/12/2003     40    54  40.147844  WAS     1  ATL   \n",
            "1070     2003  81  81   4/14/2003     40    56  40.153320  WAS     1  NYK   \n",
            "1071     2003  82  82   4/16/2003     40    58  40.158795  WAS     0  PHI   \n",
            "\n",
            "      ...  ORB  DRB  TRB  AST  STL  BLK  TOV  PF  PTS  GmSc  \n",
            "0     ...    1    5    6    7    2    4    5   2   16  12.5  \n",
            "1     ...    3    2    5    5    2    1    3   4   21  19.4  \n",
            "2     ...    2    2    4    5    6    2    3   4   37  32.9  \n",
            "3     ...    2    2    4    5    3    1    6   5   25  14.7  \n",
            "4     ...    3    2    5    5    1    1    2   4   17  13.2  \n",
            "...   ...  ...  ...  ...  ...  ...  ...  ...  ..  ...   ...  \n",
            "1067  ...    0   10   10    1    2    0    1   2   21  16.2  \n",
            "1068  ...    1    1    2    4    2    0    1   2   25  15.2  \n",
            "1069  ...    2    6    8    6    1    1    2   3   17  14.5  \n",
            "1070  ...    1    7    8    1    1    0    2   1   21  11.3  \n",
            "1071  ...    0    4    4    4    0    0    2   0   15   8.5  \n",
            "\n",
            "[1072 rows x 33 columns]>\n",
            "<bound method NDFrame.head of       Season  SeasGm  CarrGm   Date      Age   Tm  Home  Opp  Win  teamdiff  \\\n",
            "0          1       1       1  33914  20.6708  ORL     1  MIA    1        10   \n",
            "1          1       2       2  33915  20.6735  ORL     0  WSB    1         5   \n",
            "2          1       3       3  33918  20.6817  ORL     1  CHH    0        -4   \n",
            "3          1       4       4  33920  20.6872  ORL     1  WSB    1        27   \n",
            "4          1       5       5  33922  20.6927  ORL     0  NJN    0       -11   \n",
            "...      ...     ...     ...    ...      ...  ...   ...  ...  ...       ...   \n",
            "1202      19      33    1203  40564  38.8789  BOS     1  UTA    1        24   \n",
            "1203      19      34    1204  40571  38.8980  BOS     0  PHO    0       -17   \n",
            "1204      19      35    1205  40573  38.9035  BOS     0  LAL    1        13   \n",
            "1205      19      36    1206  40575  38.9090  BOS     0  SAC    1         5   \n",
            "1206      19      37    1207  40636  39.0767  BOS     1  DET    1        11   \n",
            "\n",
            "      ...  DRB  TRB  AST  STL  BLK  TOV  PF  PTS  GmSc  Pls/Mns  \n",
            "0     ...   13   18    2    1    3    8   6   12   8.3      NaN  \n",
            "1     ...   10   15    1    0    4    4   5   22  16.0      NaN  \n",
            "2     ...    9   13    1    1    3    4   4   35  26.0      NaN  \n",
            "3     ...   12   21    1    0    4    6   4   31  26.3      NaN  \n",
            "4     ...   10   15    1    1    3    2   4   29  26.1      NaN  \n",
            "...   ...  ...  ...  ...  ...  ...  ...  ..  ...   ...      ...  \n",
            "1202  ...    0    0    1    1    0    0   1    2   3.0      7.0  \n",
            "1203  ...    4    4    1    1    2    0   3    5   5.7      0.0  \n",
            "1204  ...    4    6    0    0    2    2   5    0  -1.4     -4.0  \n",
            "1205  ...    4    4    0    0    1    3   3    3  -1.4     -2.0  \n",
            "1206  ...    1    1    0    0    0    1   0    6   4.4     -2.0  \n",
            "\n",
            "[1207 rows x 32 columns]>\n",
            "Jordan's data:  (1072, 33)\n",
            "Shaq's data:  (1207, 32)\n"
          ]
        }
      ]
    },
    {
      "cell_type": "markdown",
      "source": [
        "Step 5: Let's calculate how many wins each player has"
      ],
      "metadata": {
        "id": "hSTPfbNqlpl2"
      }
    },
    {
      "cell_type": "code",
      "source": [
        "TWJ= sum(data['Win']) #This shows the total about of wins for Jordan\n",
        "TWS= sum(data2['Win']) #this show the total about of wins for Shaq\n",
        "print(TWJ)\n",
        "print(TWS)"
      ],
      "metadata": {
        "colab": {
          "base_uri": "https://localhost:8080/"
        },
        "id": "4MwyELejkIFu",
        "outputId": "9d6f4de7-306e-494a-c971-4484f8443641"
      },
      "execution_count": null,
      "outputs": [
        {
          "output_type": "stream",
          "name": "stdout",
          "text": [
            "706\n",
            "819\n"
          ]
        }
      ]
    },
    {
      "cell_type": "markdown",
      "source": [
        "Tasks 3- Create a graph with the above information. Add in the same block as the information."
      ],
      "metadata": {
        "id": "x1DBEK5Wut1p"
      }
    },
    {
      "cell_type": "markdown",
      "source": [
        "Step 6: Let's calculate the number of games each player has played and lost."
      ],
      "metadata": {
        "id": "nbKPCgKUnld0"
      }
    },
    {
      "cell_type": "code",
      "source": [
        "TGJ= len(data['Win']) #This shows the total about of games for Jordan\n",
        "TGS= len(data2['Win']) #this show the total about of games for Shaq\n",
        "print(TGJ)\n",
        "print(TGS)\n",
        "\n",
        "TLJ=TGJ-TWJ #This shows the total games loss for Jordan\n",
        "TLS=TGS-TWS #This shows the total games loss for Shaq\n",
        "print(TLJ)\n",
        "print(TLS)\n"
      ],
      "metadata": {
        "colab": {
          "base_uri": "https://localhost:8080/"
        },
        "id": "YiQd9n4ynfXV",
        "outputId": "39918f88-f39a-42ba-e196-3d696d04f9a4"
      },
      "execution_count": null,
      "outputs": [
        {
          "output_type": "stream",
          "name": "stdout",
          "text": [
            "1072\n",
            "1207\n",
            "366\n",
            "388\n"
          ]
        }
      ]
    },
    {
      "cell_type": "markdown",
      "source": [
        "Step 7: Let's graph the total games lost and total won"
      ],
      "metadata": {
        "id": "1N_HE5oIoL3Y"
      }
    },
    {
      "cell_type": "code",
      "source": [
        "#Jordan Stats\n",
        "plt.pie([TLJ,TWJ],labels=['Jordan Losses', 'Jordan Wins'],autopct='%1.1f%%')\n",
        "plt.title('Jordan Totals')\n",
        "plt.axis('equal')\n",
        "plt.show()\n",
        "\n",
        "#Shaq Stats\n",
        "plt.pie([TLS,TWS],labels=['Shaq Losses', 'Shaq Wins'],autopct='%1.1f%%')\n",
        "plt.title('Shaq Totals')\n",
        "plt.axis('equal')\n",
        "plt.show()\n"
      ],
      "metadata": {
        "colab": {
          "base_uri": "https://localhost:8080/",
          "height": 839
        },
        "id": "ZY9fnSgeoRgN",
        "outputId": "3b1042ad-bd3a-47fd-e411-806afd97ef63"
      },
      "execution_count": null,
      "outputs": [
        {
          "output_type": "display_data",
          "data": {
            "text/plain": [
              "<Figure size 640x480 with 1 Axes>"
            ],
            "image/png": "[encoded data removed]"
          },
          "metadata": {}
        },
        {
          "output_type": "display_data",
          "data": {
            "text/plain": [
              "<Figure size 640x480 with 1 Axes>"
            ],
            "image/png": "[encoded data removed]"
          },
          "metadata": {}
        }
      ]
    },
    {
      "cell_type": "markdown",
      "source": [
        "Task 3: Do the following in the above code.\n",
        "- Adjust colors\n",
        "- Use this code to add a legend to each charts above-\n",
        "plt.legend()\n",
        "- add a label to the legend"
      ],
      "metadata": {
        "id": "Vdim72sKsNFz"
      }
    },
    {
      "cell_type": "markdown",
      "source": [
        "Task 4: Choose two of the following cateories from the data to compare:\n",
        "\n",
        "- Assists (AST)\n",
        "- Blocks (BLK)\n",
        "- Points (PTS)\n",
        "- Turnovers (TOV)\n",
        "\n",
        "Calculate the Total and Average of each category. (Use these codes-adjust as needed.)\n",
        "- Total- len(data[])\n",
        "- Average- np.average(data[])\n",
        "\n",
        "Create a pie chart comparing both teams for each category. (You should have 2 charts.)\n",
        "\n"
      ],
      "metadata": {
        "id": "CkDMGiDxFa6Y"
      }
    },
    {
      "cell_type": "code",
      "source": [
        "#Add Task 4 code here"
      ],
      "metadata": {
        "id": "jZRk2Ge3H8Mh"
      },
      "execution_count": null,
      "outputs": []
    },
    {
      "cell_type": "markdown",
      "source": [
        "Challange-\n",
        "\n",
        "Create a Bar Chart showing the the information above. code: plt.bar()\n",
        "\n",
        "Make sure to include:\n",
        "- Labels & Heading\n",
        "- Legends\n",
        "- Customized colors\n",
        "\n",
        "Note: Use the already defined values to complete your bar chart."
      ],
      "metadata": {
        "id": "Jhd1JPvUIxWw"
      }
    },
    {
      "cell_type": "code",
      "source": [
        "#Add Challenge code here"
      ],
      "metadata": {
        "id": "V-ivACSbFZzs"
      },
      "execution_count": null,
      "outputs": []
    },
    {
      "cell_type": "markdown",
      "source": [],
      "metadata": {
        "id": "uhwaaFNnKZ6L"
      }
    }
  ]
}