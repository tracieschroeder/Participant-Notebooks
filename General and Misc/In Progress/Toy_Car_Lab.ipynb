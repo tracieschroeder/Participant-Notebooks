{
  "nbformat": 4,
  "nbformat_minor": 0,
  "metadata": {
    "colab": {
      "provenance": [],
      "include_colab_link": true
    },
    "kernelspec": {
      "name": "python3",
      "display_name": "Python 3"
    },
    "language_info": {
      "name": "python"
    },
    "widgets": {
      "application/vnd.jupyter.widget-state+json": {
        "be7f17f64b5b4168a7eebcf7f2a7904c": {
          "model_module": "@jupyter-widgets/controls",
          "model_name": "VBoxModel",
          "model_module_version": "1.5.0",
          "state": {
            "_dom_classes": [
              "widget-interact"
            ],
            "_model_module": "@jupyter-widgets/controls",
            "_model_module_version": "1.5.0",
            "_model_name": "VBoxModel",
            "_view_count": null,
            "_view_module": "@jupyter-widgets/controls",
            "_view_module_version": "1.5.0",
            "_view_name": "VBoxView",
            "box_style": "",
            "children": [
              "IPY_MODEL_af7c81c84fd54adba950aded4d0bb6c2",
              "IPY_MODEL_80cb84be13da4c2e936ac3b19f56a608",
              "IPY_MODEL_4fe9f1d2a3ec429aa3c5610f773b82ea"
            ],
            "layout": "IPY_MODEL_fa2e3a7e0ed6413fbd9d26ce44b34deb"
          }
        },
        "af7c81c84fd54adba950aded4d0bb6c2": {
          "model_module": "@jupyter-widgets/controls",
          "model_name": "IntSliderModel",
          "model_module_version": "1.5.0",
          "state": {
            "_dom_classes": [],
            "_model_module": "@jupyter-widgets/controls",
            "_model_module_version": "1.5.0",
            "_model_name": "IntSliderModel",
            "_view_count": null,
            "_view_module": "@jupyter-widgets/controls",
            "_view_module_version": "1.5.0",
            "_view_name": "IntSliderView",
            "continuous_update": true,
            "description": "slope",
            "description_tooltip": null,
            "disabled": false,
            "layout": "IPY_MODEL_5b15d207017a4090bbae1af333beb54d",
            "max": 5,
            "min": -5,
            "orientation": "horizontal",
            "readout": true,
            "readout_format": "d",
            "step": 1,
            "style": "IPY_MODEL_bc5ab225435946d68be053f8c79815fa",
            "value": 0
          }
        },
        "80cb84be13da4c2e936ac3b19f56a608": {
          "model_module": "@jupyter-widgets/controls",
          "model_name": "IntSliderModel",
          "model_module_version": "1.5.0",
          "state": {
            "_dom_classes": [],
            "_model_module": "@jupyter-widgets/controls",
            "_model_module_version": "1.5.0",
            "_model_name": "IntSliderModel",
            "_view_count": null,
            "_view_module": "@jupyter-widgets/controls",
            "_view_module_version": "1.5.0",
            "_view_name": "IntSliderView",
            "continuous_update": true,
            "description": "intercept",
            "description_tooltip": null,
            "disabled": false,
            "layout": "IPY_MODEL_1a1f4c8a7db84de9a588a2b4bf57bf45",
            "max": 5,
            "min": -5,
            "orientation": "horizontal",
            "readout": true,
            "readout_format": "d",
            "step": 1,
            "style": "IPY_MODEL_d7c33b0132214a0b886735c21610eb04",
            "value": 0
          }
        },
        "4fe9f1d2a3ec429aa3c5610f773b82ea": {
          "model_module": "@jupyter-widgets/output",
          "model_name": "OutputModel",
          "model_module_version": "1.0.0",
          "state": {
            "_dom_classes": [],
            "_model_module": "@jupyter-widgets/output",
            "_model_module_version": "1.0.0",
            "_model_name": "OutputModel",
            "_view_count": null,
            "_view_module": "@jupyter-widgets/output",
            "_view_module_version": "1.0.0",
            "_view_name": "OutputView",
            "layout": "IPY_MODEL_410defcf75874f58b2e8287a93acc8f4",
            "msg_id": "",
            "outputs": [
              {
                "output_type": "display_data",
                "data": {
                  "text/plain": "<Figure size 640x480 with 1 Axes>",
                  "image/png": "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\n"
                },
                "metadata": {}
              }
            ]
          }
        },
        "fa2e3a7e0ed6413fbd9d26ce44b34deb": {
          "model_module": "@jupyter-widgets/base",
          "model_name": "LayoutModel",
          "model_module_version": "1.2.0",
          "state": {
            "_model_module": "@jupyter-widgets/base",
            "_model_module_version": "1.2.0",
            "_model_name": "LayoutModel",
            "_view_count": null,
            "_view_module": "@jupyter-widgets/base",
            "_view_module_version": "1.2.0",
            "_view_name": "LayoutView",
            "align_content": null,
            "align_items": null,
            "align_self": null,
            "border": null,
            "bottom": null,
            "display": null,
            "flex": null,
            "flex_flow": null,
            "grid_area": null,
            "grid_auto_columns": null,
            "grid_auto_flow": null,
            "grid_auto_rows": null,
            "grid_column": null,
            "grid_gap": null,
            "grid_row": null,
            "grid_template_areas": null,
            "grid_template_columns": null,
            "grid_template_rows": null,
            "height": null,
            "justify_content": null,
            "justify_items": null,
            "left": null,
            "margin": null,
            "max_height": null,
            "max_width": null,
            "min_height": null,
            "min_width": null,
            "object_fit": null,
            "object_position": null,
            "order": null,
            "overflow": null,
            "overflow_x": null,
            "overflow_y": null,
            "padding": null,
            "right": null,
            "top": null,
            "visibility": null,
            "width": null
          }
        },
        "5b15d207017a4090bbae1af333beb54d": {
          "model_module": "@jupyter-widgets/base",
          "model_name": "LayoutModel",
          "model_module_version": "1.2.0",
          "state": {
            "_model_module": "@jupyter-widgets/base",
            "_model_module_version": "1.2.0",
            "_model_name": "LayoutModel",
            "_view_count": null,
            "_view_module": "@jupyter-widgets/base",
            "_view_module_version": "1.2.0",
            "_view_name": "LayoutView",
            "align_content": null,
            "align_items": null,
            "align_self": null,
            "border": null,
            "bottom": null,
            "display": null,
            "flex": null,
            "flex_flow": null,
            "grid_area": null,
            "grid_auto_columns": null,
            "grid_auto_flow": null,
            "grid_auto_rows": null,
            "grid_column": null,
            "grid_gap": null,
            "grid_row": null,
            "grid_template_areas": null,
            "grid_template_columns": null,
            "grid_template_rows": null,
            "height": null,
            "justify_content": null,
            "justify_items": null,
            "left": null,
            "margin": null,
            "max_height": null,
            "max_width": null,
            "min_height": null,
            "min_width": null,
            "object_fit": null,
            "object_position": null,
            "order": null,
            "overflow": null,
            "overflow_x": null,
            "overflow_y": null,
            "padding": null,
            "right": null,
            "top": null,
            "visibility": null,
            "width": null
          }
        },
        "bc5ab225435946d68be053f8c79815fa": {
          "model_module": "@jupyter-widgets/controls",
          "model_name": "SliderStyleModel",
          "model_module_version": "1.5.0",
          "state": {
            "_model_module": "@jupyter-widgets/controls",
            "_model_module_version": "1.5.0",
            "_model_name": "SliderStyleModel",
            "_view_count": null,
            "_view_module": "@jupyter-widgets/base",
            "_view_module_version": "1.2.0",
            "_view_name": "StyleView",
            "description_width": "",
            "handle_color": null
          }
        },
        "1a1f4c8a7db84de9a588a2b4bf57bf45": {
          "model_module": "@jupyter-widgets/base",
          "model_name": "LayoutModel",
          "model_module_version": "1.2.0",
          "state": {
            "_model_module": "@jupyter-widgets/base",
            "_model_module_version": "1.2.0",
            "_model_name": "LayoutModel",
            "_view_count": null,
            "_view_module": "@jupyter-widgets/base",
            "_view_module_version": "1.2.0",
            "_view_name": "LayoutView",
            "align_content": null,
            "align_items": null,
            "align_self": null,
            "border": null,
            "bottom": null,
            "display": null,
            "flex": null,
            "flex_flow": null,
            "grid_area": null,
            "grid_auto_columns": null,
            "grid_auto_flow": null,
            "grid_auto_rows": null,
            "grid_column": null,
            "grid_gap": null,
            "grid_row": null,
            "grid_template_areas": null,
            "grid_template_columns": null,
            "grid_template_rows": null,
            "height": null,
            "justify_content": null,
            "justify_items": null,
            "left": null,
            "margin": null,
            "max_height": null,
            "max_width": null,
            "min_height": null,
            "min_width": null,
            "object_fit": null,
            "object_position": null,
            "order": null,
            "overflow": null,
            "overflow_x": null,
            "overflow_y": null,
            "padding": null,
            "right": null,
            "top": null,
            "visibility": null,
            "width": null
          }
        },
        "d7c33b0132214a0b886735c21610eb04": {
          "model_module": "@jupyter-widgets/controls",
          "model_name": "SliderStyleModel",
          "model_module_version": "1.5.0",
          "state": {
            "_model_module": "@jupyter-widgets/controls",
            "_model_module_version": "1.5.0",
            "_model_name": "SliderStyleModel",
            "_view_count": null,
            "_view_module": "@jupyter-widgets/base",
            "_view_module_version": "1.2.0",
            "_view_name": "StyleView",
            "description_width": "",
            "handle_color": null
          }
        },
        "410defcf75874f58b2e8287a93acc8f4": {
          "model_module": "@jupyter-widgets/base",
          "model_name": "LayoutModel",
          "model_module_version": "1.2.0",
          "state": {
            "_model_module": "@jupyter-widgets/base",
            "_model_module_version": "1.2.0",
            "_model_name": "LayoutModel",
            "_view_count": null,
            "_view_module": "@jupyter-widgets/base",
            "_view_module_version": "1.2.0",
            "_view_name": "LayoutView",
            "align_content": null,
            "align_items": null,
            "align_self": null,
            "border": null,
            "bottom": null,
            "display": null,
            "flex": null,
            "flex_flow": null,
            "grid_area": null,
            "grid_auto_columns": null,
            "grid_auto_flow": null,
            "grid_auto_rows": null,
            "grid_column": null,
            "grid_gap": null,
            "grid_row": null,
            "grid_template_areas": null,
            "grid_template_columns": null,
            "grid_template_rows": null,
            "height": null,
            "justify_content": null,
            "justify_items": null,
            "left": null,
            "margin": null,
            "max_height": null,
            "max_width": null,
            "min_height": null,
            "min_width": null,
            "object_fit": null,
            "object_position": null,
            "order": null,
            "overflow": null,
            "overflow_x": null,
            "overflow_y": null,
            "padding": null,
            "right": null,
            "top": null,
            "visibility": null,
            "width": null
          }
        }
      }
    }
  },
  "cells": [
    {
      "cell_type": "markdown",
      "metadata": {
        "id": "view-in-github",
        "colab_type": "text"
      },
      "source": [
        "<a href=\"https://colab.research.google.com/github/tracieschroeder/Participant-Notebooks/blob/main/General%20and%20Misc/In%20Progress/Toy_Car_Lab.ipynb\" target=\"_parent\"><img src=\"https://colab.research.google.com/assets/colab-badge.svg\" alt=\"Open In Colab\"/></a>"
      ]
    },
    {
      "cell_type": "markdown",
      "source": [
        "#Introduction to Programming\n",
        "This is a *Jupyter notebook* with blocks of code called *cells*. You can press shift+ENTER to *run* a cell and go on to the next one. You can also edit the code and run it again to see how the output changes.\n",
        "\n",
        "You'll see a popup window the first time saying \"Warning\". Don't worry, it's safe. Click on \"run anyway\".\n",
        "\n",
        "Try running the following cells by pressing SHIFT and ENTER (at the same time) for each one.\n",
        "\n",
        "*You won't hurt anything by experimenting. If you break it, close the tab and open the activity again to start over.*\n",
        "\n",
        "Please create a copy of this notebook before you go any further. (File > save copy in drive)"
      ],
      "metadata": {
        "id": "1GiCgNG-Y5ij"
      }
    },
    {
      "cell_type": "code",
      "source": [
        "# sections of text like this are code cells they will include both the code, as well as comments\n",
        "# This is what a \"comment\" looks like. It's a message to other humans.\n",
        "# Starting a line with # tells the program not to read the line.\n",
        "# The program will run the next line since it doesn't start with #"
      ],
      "metadata": {
        "id": "uYAhKHdrhptE"
      },
      "execution_count": null,
      "outputs": []
    },
    {
      "cell_type": "markdown",
      "source": [
        "# Markdown\n",
        "The dark cell above is a *code cells* that let you to run code. This is a *markdown cell* that contains markdown text. That's text that isn't read as Python code. Instead, you can format markdown text to look nice.\n",
        "\n",
        "Double-click on this cell to see the markdown text underneath. Running a markdown cell turns it into pretty, formatted text.\n",
        "- here's a bullet point\n",
        "- and another list item in *italics* and **bold**.\n",
        "- this is a hyperlink to [my favorite thing on the web](https://www.youtube.com/watch?v=dQw4w9WgXcQ)\n",
        "- You can even embed images  \n",
        "![cute kitten](https://github.com/adamlamee/CODINGinK12/raw/master/notebooks/1dayoldkitten.png)  \n",
        "\n",
        "## Try this\n",
        "Double-click on this cell to see the code that formats this text. Make a few edits and press shift+ENTER to see the changes.\n",
        "\n",
        "Read more about [formatting the markdown text](https://help.github.com/articles/basic-writing-and-formatting-syntax/) in a cell, like this one, or go to Help > Markdown > Basic Writing and Formatting Text."
      ],
      "metadata": {
        "id": "vSLZUM70h3wW"
      }
    },
    {
      "cell_type": "markdown",
      "source": [
        "The previous cells have only contained comments. Starting with the code cell below, each code cell will contain code that you will need to practice running. In addition to pressing (SHIFT + ENTER) to run the code, you can also click on the square brackets in the top left corner of the code cell to run the code."
      ],
      "metadata": {
        "id": "NeX7QUtClv0e"
      }
    },
    {
      "cell_type": "code",
      "source": [
        "# First, we can use the program to do some simple math.\n",
        "# since the next line does not start with a hashtag, the program will read and run that line\n",
        "5-4"
      ],
      "metadata": {
        "colab": {
          "base_uri": "https://localhost:8080/"
        },
        "id": "n9Oq4gDwfoTh",
        "outputId": "0c05d0dc-5b6d-4ad0-a4c8-0ec32d67ba7c"
      },
      "execution_count": null,
      "outputs": [
        {
          "output_type": "execute_result",
          "data": {
            "text/plain": [
              "1"
            ]
          },
          "metadata": {},
          "execution_count": 8
        }
      ]
    },
    {
      "cell_type": "code",
      "source": [
        "# the following lines define two variables, called \"a\" and \"b\"\n",
        "a = 4\n",
        "b = 3\n",
        "\n",
        "# the next line shows that we can also do math with variables.\n",
        "a+b"
      ],
      "metadata": {
        "colab": {
          "base_uri": "https://localhost:8080/"
        },
        "id": "8yHzJ3xzf4MW",
        "outputId": "9151551e-5379-4a2c-856f-fb24d054f953"
      },
      "execution_count": null,
      "outputs": [
        {
          "output_type": "execute_result",
          "data": {
            "text/plain": [
              "7"
            ]
          },
          "metadata": {},
          "execution_count": 9
        }
      ]
    },
    {
      "cell_type": "code",
      "source": [
        "c = a*a # this line calculates a times a and saves the result as a variable called \"c\"\n",
        "c       # this line tells the program to show us what \"c\" is."
      ],
      "metadata": {
        "colab": {
          "base_uri": "https://localhost:8080/"
        },
        "id": "JywcZ0P0gLOC",
        "outputId": "790e10be-5d65-4bf3-9090-65c58f965b44"
      },
      "execution_count": null,
      "outputs": [
        {
          "output_type": "execute_result",
          "data": {
            "text/plain": [
              "16"
            ]
          },
          "metadata": {},
          "execution_count": 10
        }
      ]
    },
    {
      "cell_type": "code",
      "source": [
        "# the coding language that google colab uses is called \"python\"\n",
        "d = \"I just coded in Python\" # yep you did!\n",
        "d"
      ],
      "metadata": {
        "colab": {
          "base_uri": "https://localhost:8080/",
          "height": 35
        },
        "id": "N7PGIfrEgR8F",
        "outputId": "2264683b-f331-413c-9ca6-7bdf8e066cdd"
      },
      "execution_count": null,
      "outputs": [
        {
          "output_type": "execute_result",
          "data": {
            "text/plain": [
              "'I just coded in Python'"
            ],
            "application/vnd.google.colaboratory.intrinsic+json": {
              "type": "string"
            }
          },
          "metadata": {},
          "execution_count": 6
        }
      ]
    },
    {
      "cell_type": "code",
      "source": [
        "def func(x): # This code defines a function. Specifically, it is defining a function that is looking for a single variable, named x.\n",
        "  return x+7 # This line is a code that explains what the function will do when it is run.\n",
        "\n",
        "func(9) # This command then tests our function, using an x of 9.\n",
        "\n",
        "# once this cell runs, google colab should return a value of 16. Because as we all know, 9+7 is 16"
      ],
      "metadata": {
        "colab": {
          "base_uri": "https://localhost:8080/"
        },
        "id": "RgnE0IrvlDf7",
        "outputId": "2b5659c4-e184-43f9-93d3-01af0f0eb638"
      },
      "execution_count": null,
      "outputs": [
        {
          "output_type": "execute_result",
          "data": {
            "text/plain": [
              "16"
            ]
          },
          "metadata": {},
          "execution_count": 5
        }
      ]
    },
    {
      "cell_type": "markdown",
      "source": [
        "#Creating a Graph\n",
        "Now we are going to go right to the goal of this exercise, graphing. In order to do this, we need to instruct the computer to import a few libraries which will give the computer the dictionary of commands it needs in order to create a graph.\n"
      ],
      "metadata": {
        "id": "MF79xHiDDJNI"
      }
    },
    {
      "cell_type": "code",
      "source": [
        "# this cell only needs to be run once, but re-exectuing it doesn't hurt anything either\n",
        "# imports a couple different software packages (not too exciting)\n",
        "import pandas as pd\n",
        "import numpy as np\n",
        "%matplotlib inline\n",
        "import matplotlib as mpl\n",
        "import matplotlib.pyplot as plt\n",
        "from ipywidgets import interact, interactive\n",
        "import ipywidgets as widgets\n",
        "# notice that for each line, we are shortening the name of each library\n",
        "# this makes our job a little easier going forward"
      ],
      "metadata": {
        "id": "w6s7pSDOnHKQ"
      },
      "execution_count": null,
      "outputs": []
    },
    {
      "cell_type": "markdown",
      "source": [
        "Now that we have imported some libraries, lets put them to work.\n",
        "\n",
        "First, lets make a simple, linear graph."
      ],
      "metadata": {
        "id": "hNAoP31eIQit"
      }
    },
    {
      "cell_type": "code",
      "source": [
        "# First, define the function you want to graph. We use linear_func for a linear graph or model_func for non-linear one\n",
        "\n",
        "# This function takes two inputs, slope and intercept, that we will be able to change to see its effect on the graph\n",
        "def linear_func(slope, intercept):\n",
        "  plt.figure(2)\n",
        "\n",
        "# Here we set some specific variables for this graph.\n",
        "\n",
        "  x=np.linspace(-10, 10, num=500) # x axis starts at -10, ends at 10 and has 500 spaces in between\n",
        "  plt.ylim(-10, 10) # y-axis values\n",
        "  plt.axvline(color='black') # y axis zero line colors black\n",
        "  plt.axhline(color='black') # x axis zero line colors black\n",
        "  plt.plot(x, slope*x + intercept, lw=5, color='red') # plots the linear function with a red line weight of 5\n",
        "  plt.grid()\n",
        "  plt.title(\"I'm a title\")\n",
        "  plt.xlabel(\"Fix Me\")\n",
        "  plt.ylabel(\"Me Too!\");\n",
        "  plt.show()\n",
        "\n",
        "# Now, we create a couple interactive sliders,\n",
        "# We also give the range of slope and intercept values we want the slider to allow us to select\n",
        "# Giving values as x.x will input it as a float and you can implement values other than whole numbers on the slider\n",
        "\n",
        "interactive_plot = interactive(linear_func, slope=(-5,5), intercept=(-5, 5))\n",
        "output=interactive_plot.children[-1]\n",
        "interactive_plot"
      ],
      "metadata": {
        "colab": {
          "base_uri": "https://localhost:8080/",
          "height": 536,
          "referenced_widgets": [
            "be7f17f64b5b4168a7eebcf7f2a7904c",
            "af7c81c84fd54adba950aded4d0bb6c2",
            "80cb84be13da4c2e936ac3b19f56a608",
            "4fe9f1d2a3ec429aa3c5610f773b82ea",
            "fa2e3a7e0ed6413fbd9d26ce44b34deb",
            "5b15d207017a4090bbae1af333beb54d",
            "bc5ab225435946d68be053f8c79815fa",
            "1a1f4c8a7db84de9a588a2b4bf57bf45",
            "d7c33b0132214a0b886735c21610eb04",
            "410defcf75874f58b2e8287a93acc8f4"
          ]
        },
        "id": "AJAJ_4AkLWPA",
        "outputId": "9d7bd171-3b54-4035-e0c1-8cd071222491"
      },
      "execution_count": null,
      "outputs": [
        {
          "output_type": "display_data",
          "data": {
            "text/plain": [
              "interactive(children=(IntSlider(value=0, description='slope', max=5, min=-5), IntSlider(value=0, description='…"
            ],
            "application/vnd.jupyter.widget-view+json": {
              "version_major": 2,
              "version_minor": 0,
              "model_id": "be7f17f64b5b4168a7eebcf7f2a7904c"
            }
          },
          "metadata": {}
        }
      ]
    },
    {
      "cell_type": "markdown",
      "source": [
        "And voila! you have created a(n) graph. Super simple, but quite effective.\n"
      ],
      "metadata": {
        "id": "Kjc1yUdZPVAu"
      }
    },
    {
      "cell_type": "markdown",
      "source": [
        "# Creating a graph from discrete data points\n",
        "We can also define a function that lets us input a set of data and output a modified set.\n",
        "\n",
        "Lets set up a classic quadratic equation with a slightly different form than you're used to in math class:\n",
        "\n",
        "\n",
        "$$y=a+b x+cx^2$$\n",
        "\n",
        "(later, you'll recognize this form of equation when we get a little more stuck in to physics)\n",
        "\n",
        "If we consider this equation in a physics world, the coefficients describe how the variables change over time.\n",
        "\n",
        "Lets check out what this equation can look like in a graph:"
      ],
      "metadata": {
        "id": "5y02QnCpiNMR"
      }
    },
    {
      "cell_type": "code",
      "source": [
        "# this sets the coefficients for our equation\n",
        "# and then asks the program to show us the values\n",
        "a = 0\n",
        "b = 3\n",
        "c = -5\n",
        "print(\"a =\", a,)\n",
        "print(\"b =\", b)\n",
        "print(\"c =\", c )\n",
        "\n",
        "# This makes an empty data set our equation can use to store the x and y values\n",
        "x_list = []\n",
        "y_list = []\n",
        "x = 0                     # sets a starting value for our x variable\n",
        "\n",
        "while (x < 11):           # runs the 4 lines below until x is not < 11\n",
        "    x_list.append(x)      # saves each x value to make a data set\n",
        "    y = a + b*x + c*x**2  # calculates the y value\n",
        "    y_list.append(y)      # saves each y value to make a data set\n",
        "    x= x + 0.01           #instructs the program to calculate a new x value\n",
        "\n",
        "# This creates a scatterplot using the data sets we made using plt.scatter(x-variable, y-variable)\n",
        "plt.scatter(x_list, y_list)\n",
        "plt.title(\"I'm a title\")\n",
        "plt.xlabel(\"Fix Me\")\n",
        "plt.ylabel(\"Me Too!\");"
      ],
      "metadata": {
        "colab": {
          "base_uri": "https://localhost:8080/",
          "height": 524
        },
        "id": "9L6f_SDuReDP",
        "outputId": "0cadfc7c-f103-46d1-a97d-b6ef3bf968f8"
      },
      "execution_count": null,
      "outputs": [
        {
          "output_type": "stream",
          "name": "stdout",
          "text": [
            "a = 0\n",
            "b = 3\n",
            "c = -5\n"
          ]
        },
        {
          "output_type": "display_data",
          "data": {
            "text/plain": [
              "<Figure size 640x480 with 1 Axes>"
            ],
            "image/png": "[encoded data removed]"
          },
          "metadata": {}
        }
      ]
    },
    {
      "cell_type": "markdown",
      "source": [
        "Now that we know that we can graph data from a data set, lets use the car lab data you gathered yesterday.\n",
        "Below, I have some example data that you will need to replace with the measurements you took."
      ],
      "metadata": {
        "id": "57IRMk42gVXE"
      }
    },
    {
      "cell_type": "code",
      "source": [
        "# This code is where we define a list of numbers as a data set.\n",
        "Your1stmeasurement_list = [0,1,2,3,4,5] # You will need to make sure you separate each value with a comma\n",
        "\n",
        "Your2ndmeasurement_list = [0,0.5,1,1.5,2.0,2.5,]\n",
        "\n",
        "# This displays a data table which lets you make sure you've done the right thing. do your data values line up properly?\n",
        "df=pd.DataFrame({'put your label and unit here':Your1stmeasurement_list,'put your label and unit here':Your2ndmeasurement_list})\n",
        "print(df)"
      ],
      "metadata": {
        "colab": {
          "base_uri": "https://localhost:8080/"
        },
        "id": "kYRF2bm6MEZD",
        "outputId": "42489149-4411-4d70-8225-7d5f8682bbd4"
      },
      "execution_count": null,
      "outputs": [
        {
          "output_type": "stream",
          "name": "stdout",
          "text": [
            "   put your label and unit here\n",
            "0                           0.0\n",
            "1                           0.5\n",
            "2                           1.0\n",
            "3                           1.5\n",
            "4                           2.0\n",
            "5                           2.5\n"
          ]
        }
      ]
    },
    {
      "cell_type": "markdown",
      "source": [
        "Now that we know our car data is defined as a data set, we want to set up creating a scatter plot. There are a couple choices to make. First, you can decide which symbol you want to serve as your data marker [here](https://matplotlib.org/stable/api/markers_api.html). Second, you can decide what color you want your data markers to be by going [here](https://matplotlib.org/stable/users/explain/colors/colors.html#sphx-glr-users-explain-colors-colors-py)."
      ],
      "metadata": {
        "id": "4FAnFTGUSvhI"
      }
    },
    {
      "cell_type": "code",
      "source": [
        "\n",
        "# These next lines create a scatterplot: plt.scatter(x-variable, y-variable)\n",
        "# It also gives the parts of the graph some names\n",
        "plt.scatter(Your1stmeasurement_list, Your2ndmeasurement_list, marker='insert marker code here', color='insert color code here')\n",
        "plt.title(\"I'm a title\")\n",
        "plt.xlabel(\"Fix Me\")\n",
        "plt.ylabel(\"Me Too!\");\n"
      ],
      "metadata": {
        "colab": {
          "base_uri": "https://localhost:8080/",
          "height": 228
        },
        "id": "Q9TLON5KJnAC",
        "outputId": "07337ad4-316a-4a95-8861-9f70a0d2fa4d"
      },
      "execution_count": null,
      "outputs": [
        {
          "output_type": "error",
          "ename": "NameError",
          "evalue": "name 'Your1stmeasurement_list' is not defined",
          "traceback": [
            "\u001b[0;31m---------------------------------------------------------------------------\u001b[0m",
            "\u001b[0;31mNameError\u001b[0m                                 Traceback (most recent call last)",
            "\u001b[0;32m<ipython-input-30-1135942119>\u001b[0m in \u001b[0;36m<cell line: 0>\u001b[0;34m()\u001b[0m\n\u001b[1;32m      1\u001b[0m \u001b[0;31m# These next lines create a scatterplot: plt.scatter(x-variable, y-variable)\u001b[0m\u001b[0;34m\u001b[0m\u001b[0;34m\u001b[0m\u001b[0m\n\u001b[0;32m----> 2\u001b[0;31m \u001b[0mplt\u001b[0m\u001b[0;34m.\u001b[0m\u001b[0mscatter\u001b[0m\u001b[0;34m(\u001b[0m\u001b[0mYour1stmeasurement_list\u001b[0m\u001b[0;34m,\u001b[0m \u001b[0mYour2ndmeasurement_list\u001b[0m\u001b[0;34m,\u001b[0m \u001b[0mmarker\u001b[0m\u001b[0;34m=\u001b[0m\u001b[0;34m'insert marker code here'\u001b[0m\u001b[0;34m,\u001b[0m \u001b[0mcolor\u001b[0m\u001b[0;34m=\u001b[0m\u001b[0;34m'insert color code here'\u001b[0m\u001b[0;34m)\u001b[0m\u001b[0;34m\u001b[0m\u001b[0;34m\u001b[0m\u001b[0m\n\u001b[0m\u001b[1;32m      3\u001b[0m \u001b[0mplt\u001b[0m\u001b[0;34m.\u001b[0m\u001b[0mtitle\u001b[0m\u001b[0;34m(\u001b[0m\u001b[0;34m\"I'm a title\"\u001b[0m\u001b[0;34m)\u001b[0m\u001b[0;34m\u001b[0m\u001b[0;34m\u001b[0m\u001b[0m\n\u001b[1;32m      4\u001b[0m \u001b[0mplt\u001b[0m\u001b[0;34m.\u001b[0m\u001b[0mxlabel\u001b[0m\u001b[0;34m(\u001b[0m\u001b[0;34m\"Fix Me\"\u001b[0m\u001b[0;34m)\u001b[0m\u001b[0;34m\u001b[0m\u001b[0;34m\u001b[0m\u001b[0m\n\u001b[1;32m      5\u001b[0m \u001b[0mplt\u001b[0m\u001b[0;34m.\u001b[0m\u001b[0mylabel\u001b[0m\u001b[0;34m(\u001b[0m\u001b[0;34m\"Me Too!\"\u001b[0m\u001b[0;34m)\u001b[0m\u001b[0;34m;\u001b[0m\u001b[0;34m\u001b[0m\u001b[0;34m\u001b[0m\u001b[0m\n",
            "\u001b[0;31mNameError\u001b[0m: name 'Your1stmeasurement_list' is not defined"
          ]
        }
      ]
    },
    {
      "cell_type": "markdown",
      "source": [],
      "metadata": {
        "id": "qGy2OHiiKk_U"
      }
    },
    {
      "cell_type": "code",
      "source": [],
      "metadata": {
        "id": "8nshsCIZJrzS"
      },
      "execution_count": null,
      "outputs": []
    }
  ]
}